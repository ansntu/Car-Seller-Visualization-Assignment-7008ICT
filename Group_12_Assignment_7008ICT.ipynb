{
  "cells": [
    {
      "cell_type": "markdown",
      "metadata": {
        "id": "WJezKMGDxhWH"
      },
      "source": [
        "# Data Processing and Visualization\n",
        "-----\n",
        "**Assignment Topic: Data Analysis on Car Advertisements**\n",
        "\n",
        "\n",
        "Student1 Name: Aki Oshima\n",
        "\n",
        "SNumber: s-5373440\n",
        "\n",
        "Student2 Name: Anon Kangpanich\n",
        "\n",
        "SNumber: s-5367637\n",
        "\n",
        "Student3 Name: Patrick Carey\n",
        "\n",
        "SNumber: s-5407849"
      ]
    },
    {
      "cell_type": "markdown",
      "source": [
        "# Link to extra assignment\n",
        "\n",
        "\n"
      ],
      "metadata": {
        "id": "2ZBl_dJnqUSk"
      }
    },
    {
      "cell_type": "markdown",
      "source": [
        "## https://observablehq.com/d/35bb1c11c77fc8f5"
      ],
      "metadata": {
        "id": "lhZ8Rh3Hql8r"
      }
    },
    {
      "cell_type": "markdown",
      "metadata": {
        "id": "ENHW5BMFxhWN"
      },
      "source": [
        "# Data Import"
      ]
    },
    {
      "cell_type": "code",
      "execution_count": null,
      "metadata": {
        "id": "G7cGG_uJVYi-"
      },
      "outputs": [],
      "source": [
        "import pandas as pd\n",
        "from sklearn.preprocessing import MinMaxScaler\n",
        "import matplotlib.pyplot as plt\n",
        "import sqlite3\n",
        "import seaborn as sns\n",
        "import numpy as np"
      ]
    },
    {
      "cell_type": "code",
      "execution_count": null,
      "metadata": {
        "id": "nm38Iai3jHKR"
      },
      "outputs": [],
      "source": [
        "car_data = pd.read_csv(\"car_dataset.csv\")\n",
        "sellers_data = pd.read_csv('seller_dataset.csv')"
      ]
    },
    {
      "cell_type": "markdown",
      "metadata": {
        "id": "GnkpG4SgUOJP"
      },
      "source": [
        "# Data Exploration and Cleaning"
      ]
    },
    {
      "cell_type": "markdown",
      "metadata": {
        "id": "xFJgSnkZxhWQ"
      },
      "source": [
        "## a. Statistics Computation"
      ]
    },
    {
      "cell_type": "markdown",
      "source": [
        "### Convert mileage data into numeric format"
      ],
      "metadata": {
        "id": "XvciamAqUrYD"
      }
    },
    {
      "cell_type": "code",
      "execution_count": null,
      "metadata": {
        "id": "-_KR7qouKo4I",
        "scrolled": true
      },
      "outputs": [],
      "source": [
        "car_data['mileage'] = car_data['mileage'].str.replace(' Km', '')\n"
      ]
    },
    {
      "cell_type": "code",
      "source": [
        "car_data['mileage'] = car_data['mileage'].str.replace(',', '')"
      ],
      "metadata": {
        "id": "BMPOSlh4yJsk"
      },
      "execution_count": null,
      "outputs": []
    },
    {
      "cell_type": "code",
      "source": [
        "car_data['mileage'] = car_data['mileage'].astype(int)"
      ],
      "metadata": {
        "id": "FL4bx0oayLIb"
      },
      "execution_count": null,
      "outputs": []
    },
    {
      "cell_type": "markdown",
      "source": [
        "### Formatted display of float"
      ],
      "metadata": {
        "id": "g6zTOIT2XA4t"
      }
    },
    {
      "cell_type": "code",
      "source": [
        "pd.set_option('display.float_format', lambda x: '%.3f' % x)"
      ],
      "metadata": {
        "id": "kQvdGrvOyMV6"
      },
      "execution_count": null,
      "outputs": []
    },
    {
      "cell_type": "markdown",
      "source": [
        "### Mean, STD, Median of mileage, year of manufacturer, and price"
      ],
      "metadata": {
        "id": "hp6f0cpRY_6E"
      }
    },
    {
      "cell_type": "code",
      "source": [
        "car_data[['mileage', 'year_of_manufacture', 'price (AUD)']].describe()"
      ],
      "metadata": {
        "colab": {
          "base_uri": "https://localhost:8080/",
          "height": 300
        },
        "id": "u7psfQE0yNKF",
        "outputId": "1fc3fc44-e755-4815-b52e-6e61d34ed27a"
      },
      "execution_count": null,
      "outputs": [
        {
          "output_type": "execute_result",
          "data": {
            "text/plain": [
              "             mileage  year_of_manufacture  price (AUD)\n",
              "count      30652.000            30620.000    30652.000\n",
              "mean      412315.033             2017.320    42843.158\n",
              "std     34899663.671                5.332    78585.588\n",
              "min            0.000             1990.000        0.000\n",
              "25%            0.000             2015.000    16396.798\n",
              "50%        20000.000             2019.000    24939.327\n",
              "75%        60000.000             2022.000    40445.434\n",
              "max   4294967295.000             2023.000  2186239.686"
            ],
            "text/html": [
              "\n",
              "  <div id=\"df-a22f98dd-0796-4f4a-880e-cc774a7dc5e3\" class=\"colab-df-container\">\n",
              "    <div>\n",
              "<style scoped>\n",
              "    .dataframe tbody tr th:only-of-type {\n",
              "        vertical-align: middle;\n",
              "    }\n",
              "\n",
              "    .dataframe tbody tr th {\n",
              "        vertical-align: top;\n",
              "    }\n",
              "\n",
              "    .dataframe thead th {\n",
              "        text-align: right;\n",
              "    }\n",
              "</style>\n",
              "<table border=\"1\" class=\"dataframe\">\n",
              "  <thead>\n",
              "    <tr style=\"text-align: right;\">\n",
              "      <th></th>\n",
              "      <th>mileage</th>\n",
              "      <th>year_of_manufacture</th>\n",
              "      <th>price (AUD)</th>\n",
              "    </tr>\n",
              "  </thead>\n",
              "  <tbody>\n",
              "    <tr>\n",
              "      <th>count</th>\n",
              "      <td>30652.000</td>\n",
              "      <td>30620.000</td>\n",
              "      <td>30652.000</td>\n",
              "    </tr>\n",
              "    <tr>\n",
              "      <th>mean</th>\n",
              "      <td>412315.033</td>\n",
              "      <td>2017.320</td>\n",
              "      <td>42843.158</td>\n",
              "    </tr>\n",
              "    <tr>\n",
              "      <th>std</th>\n",
              "      <td>34899663.671</td>\n",
              "      <td>5.332</td>\n",
              "      <td>78585.588</td>\n",
              "    </tr>\n",
              "    <tr>\n",
              "      <th>min</th>\n",
              "      <td>0.000</td>\n",
              "      <td>1990.000</td>\n",
              "      <td>0.000</td>\n",
              "    </tr>\n",
              "    <tr>\n",
              "      <th>25%</th>\n",
              "      <td>0.000</td>\n",
              "      <td>2015.000</td>\n",
              "      <td>16396.798</td>\n",
              "    </tr>\n",
              "    <tr>\n",
              "      <th>50%</th>\n",
              "      <td>20000.000</td>\n",
              "      <td>2019.000</td>\n",
              "      <td>24939.327</td>\n",
              "    </tr>\n",
              "    <tr>\n",
              "      <th>75%</th>\n",
              "      <td>60000.000</td>\n",
              "      <td>2022.000</td>\n",
              "      <td>40445.434</td>\n",
              "    </tr>\n",
              "    <tr>\n",
              "      <th>max</th>\n",
              "      <td>4294967295.000</td>\n",
              "      <td>2023.000</td>\n",
              "      <td>2186239.686</td>\n",
              "    </tr>\n",
              "  </tbody>\n",
              "</table>\n",
              "</div>\n",
              "    <div class=\"colab-df-buttons\">\n",
              "\n",
              "  <div class=\"colab-df-container\">\n",
              "    <button class=\"colab-df-convert\" onclick=\"convertToInteractive('df-a22f98dd-0796-4f4a-880e-cc774a7dc5e3')\"\n",
              "            title=\"Convert this dataframe to an interactive table.\"\n",
              "            style=\"display:none;\">\n",
              "\n",
              "  <svg xmlns=\"http://www.w3.org/2000/svg\" height=\"24px\" viewBox=\"0 -960 960 960\">\n",
              "    <path d=\"M120-120v-720h720v720H120Zm60-500h600v-160H180v160Zm220 220h160v-160H400v160Zm0 220h160v-160H400v160ZM180-400h160v-160H180v160Zm440 0h160v-160H620v160ZM180-180h160v-160H180v160Zm440 0h160v-160H620v160Z\"/>\n",
              "  </svg>\n",
              "    </button>\n",
              "\n",
              "  <style>\n",
              "    .colab-df-container {\n",
              "      display:flex;\n",
              "      gap: 12px;\n",
              "    }\n",
              "\n",
              "    .colab-df-convert {\n",
              "      background-color: #E8F0FE;\n",
              "      border: none;\n",
              "      border-radius: 50%;\n",
              "      cursor: pointer;\n",
              "      display: none;\n",
              "      fill: #1967D2;\n",
              "      height: 32px;\n",
              "      padding: 0 0 0 0;\n",
              "      width: 32px;\n",
              "    }\n",
              "\n",
              "    .colab-df-convert:hover {\n",
              "      background-color: #E2EBFA;\n",
              "      box-shadow: 0px 1px 2px rgba(60, 64, 67, 0.3), 0px 1px 3px 1px rgba(60, 64, 67, 0.15);\n",
              "      fill: #174EA6;\n",
              "    }\n",
              "\n",
              "    .colab-df-buttons div {\n",
              "      margin-bottom: 4px;\n",
              "    }\n",
              "\n",
              "    [theme=dark] .colab-df-convert {\n",
              "      background-color: #3B4455;\n",
              "      fill: #D2E3FC;\n",
              "    }\n",
              "\n",
              "    [theme=dark] .colab-df-convert:hover {\n",
              "      background-color: #434B5C;\n",
              "      box-shadow: 0px 1px 3px 1px rgba(0, 0, 0, 0.15);\n",
              "      filter: drop-shadow(0px 1px 2px rgba(0, 0, 0, 0.3));\n",
              "      fill: #FFFFFF;\n",
              "    }\n",
              "  </style>\n",
              "\n",
              "    <script>\n",
              "      const buttonEl =\n",
              "        document.querySelector('#df-a22f98dd-0796-4f4a-880e-cc774a7dc5e3 button.colab-df-convert');\n",
              "      buttonEl.style.display =\n",
              "        google.colab.kernel.accessAllowed ? 'block' : 'none';\n",
              "\n",
              "      async function convertToInteractive(key) {\n",
              "        const element = document.querySelector('#df-a22f98dd-0796-4f4a-880e-cc774a7dc5e3');\n",
              "        const dataTable =\n",
              "          await google.colab.kernel.invokeFunction('convertToInteractive',\n",
              "                                                    [key], {});\n",
              "        if (!dataTable) return;\n",
              "\n",
              "        const docLinkHtml = 'Like what you see? Visit the ' +\n",
              "          '<a target=\"_blank\" href=https://colab.research.google.com/notebooks/data_table.ipynb>data table notebook</a>'\n",
              "          + ' to learn more about interactive tables.';\n",
              "        element.innerHTML = '';\n",
              "        dataTable['output_type'] = 'display_data';\n",
              "        await google.colab.output.renderOutput(dataTable, element);\n",
              "        const docLink = document.createElement('div');\n",
              "        docLink.innerHTML = docLinkHtml;\n",
              "        element.appendChild(docLink);\n",
              "      }\n",
              "    </script>\n",
              "  </div>\n",
              "\n",
              "\n",
              "<div id=\"df-12447a33-01f7-46c0-a683-6486fa54dc29\">\n",
              "  <button class=\"colab-df-quickchart\" onclick=\"quickchart('df-12447a33-01f7-46c0-a683-6486fa54dc29')\"\n",
              "            title=\"Suggest charts\"\n",
              "            style=\"display:none;\">\n",
              "\n",
              "<svg xmlns=\"http://www.w3.org/2000/svg\" height=\"24px\"viewBox=\"0 0 24 24\"\n",
              "     width=\"24px\">\n",
              "    <g>\n",
              "        <path d=\"M19 3H5c-1.1 0-2 .9-2 2v14c0 1.1.9 2 2 2h14c1.1 0 2-.9 2-2V5c0-1.1-.9-2-2-2zM9 17H7v-7h2v7zm4 0h-2V7h2v10zm4 0h-2v-4h2v4z\"/>\n",
              "    </g>\n",
              "</svg>\n",
              "  </button>\n",
              "\n",
              "<style>\n",
              "  .colab-df-quickchart {\n",
              "      --bg-color: #E8F0FE;\n",
              "      --fill-color: #1967D2;\n",
              "      --hover-bg-color: #E2EBFA;\n",
              "      --hover-fill-color: #174EA6;\n",
              "      --disabled-fill-color: #AAA;\n",
              "      --disabled-bg-color: #DDD;\n",
              "  }\n",
              "\n",
              "  [theme=dark] .colab-df-quickchart {\n",
              "      --bg-color: #3B4455;\n",
              "      --fill-color: #D2E3FC;\n",
              "      --hover-bg-color: #434B5C;\n",
              "      --hover-fill-color: #FFFFFF;\n",
              "      --disabled-bg-color: #3B4455;\n",
              "      --disabled-fill-color: #666;\n",
              "  }\n",
              "\n",
              "  .colab-df-quickchart {\n",
              "    background-color: var(--bg-color);\n",
              "    border: none;\n",
              "    border-radius: 50%;\n",
              "    cursor: pointer;\n",
              "    display: none;\n",
              "    fill: var(--fill-color);\n",
              "    height: 32px;\n",
              "    padding: 0;\n",
              "    width: 32px;\n",
              "  }\n",
              "\n",
              "  .colab-df-quickchart:hover {\n",
              "    background-color: var(--hover-bg-color);\n",
              "    box-shadow: 0 1px 2px rgba(60, 64, 67, 0.3), 0 1px 3px 1px rgba(60, 64, 67, 0.15);\n",
              "    fill: var(--button-hover-fill-color);\n",
              "  }\n",
              "\n",
              "  .colab-df-quickchart-complete:disabled,\n",
              "  .colab-df-quickchart-complete:disabled:hover {\n",
              "    background-color: var(--disabled-bg-color);\n",
              "    fill: var(--disabled-fill-color);\n",
              "    box-shadow: none;\n",
              "  }\n",
              "\n",
              "  .colab-df-spinner {\n",
              "    border: 2px solid var(--fill-color);\n",
              "    border-color: transparent;\n",
              "    border-bottom-color: var(--fill-color);\n",
              "    animation:\n",
              "      spin 1s steps(1) infinite;\n",
              "  }\n",
              "\n",
              "  @keyframes spin {\n",
              "    0% {\n",
              "      border-color: transparent;\n",
              "      border-bottom-color: var(--fill-color);\n",
              "      border-left-color: var(--fill-color);\n",
              "    }\n",
              "    20% {\n",
              "      border-color: transparent;\n",
              "      border-left-color: var(--fill-color);\n",
              "      border-top-color: var(--fill-color);\n",
              "    }\n",
              "    30% {\n",
              "      border-color: transparent;\n",
              "      border-left-color: var(--fill-color);\n",
              "      border-top-color: var(--fill-color);\n",
              "      border-right-color: var(--fill-color);\n",
              "    }\n",
              "    40% {\n",
              "      border-color: transparent;\n",
              "      border-right-color: var(--fill-color);\n",
              "      border-top-color: var(--fill-color);\n",
              "    }\n",
              "    60% {\n",
              "      border-color: transparent;\n",
              "      border-right-color: var(--fill-color);\n",
              "    }\n",
              "    80% {\n",
              "      border-color: transparent;\n",
              "      border-right-color: var(--fill-color);\n",
              "      border-bottom-color: var(--fill-color);\n",
              "    }\n",
              "    90% {\n",
              "      border-color: transparent;\n",
              "      border-bottom-color: var(--fill-color);\n",
              "    }\n",
              "  }\n",
              "</style>\n",
              "\n",
              "  <script>\n",
              "    async function quickchart(key) {\n",
              "      const quickchartButtonEl =\n",
              "        document.querySelector('#' + key + ' button');\n",
              "      quickchartButtonEl.disabled = true;  // To prevent multiple clicks.\n",
              "      quickchartButtonEl.classList.add('colab-df-spinner');\n",
              "      try {\n",
              "        const charts = await google.colab.kernel.invokeFunction(\n",
              "            'suggestCharts', [key], {});\n",
              "      } catch (error) {\n",
              "        console.error('Error during call to suggestCharts:', error);\n",
              "      }\n",
              "      quickchartButtonEl.classList.remove('colab-df-spinner');\n",
              "      quickchartButtonEl.classList.add('colab-df-quickchart-complete');\n",
              "    }\n",
              "    (() => {\n",
              "      let quickchartButtonEl =\n",
              "        document.querySelector('#df-12447a33-01f7-46c0-a683-6486fa54dc29 button');\n",
              "      quickchartButtonEl.style.display =\n",
              "        google.colab.kernel.accessAllowed ? 'block' : 'none';\n",
              "    })();\n",
              "  </script>\n",
              "</div>\n",
              "\n",
              "    </div>\n",
              "  </div>\n"
            ],
            "application/vnd.google.colaboratory.intrinsic+json": {
              "type": "dataframe",
              "summary": "{\n  \"name\": \"car_data[['mileage', 'year_of_manufacture', 'price (AUD)']]\",\n  \"rows\": 8,\n  \"fields\": [\n    {\n      \"column\": \"mileage\",\n      \"properties\": {\n        \"dtype\": \"number\",\n        \"std\": 1516760062.6244586,\n        \"min\": 0.0,\n        \"max\": 4294967295.0,\n        \"num_unique_values\": 7,\n        \"samples\": [\n          30652.0,\n          412315.0327547958,\n          60000.0\n        ],\n        \"semantic_type\": \"\",\n        \"description\": \"\"\n      }\n    },\n    {\n      \"column\": \"year_of_manufacture\",\n      \"properties\": {\n        \"dtype\": \"number\",\n        \"std\": 10239.252591789356,\n        \"min\": 5.3317724314591874,\n        \"max\": 30620.0,\n        \"num_unique_values\": 8,\n        \"samples\": [\n          2017.320346178968,\n          2019.0,\n          30620.0\n        ],\n        \"semantic_type\": \"\",\n        \"description\": \"\"\n      }\n    },\n    {\n      \"column\": \"price (AUD)\",\n      \"properties\": {\n        \"dtype\": \"number\",\n        \"std\": 761484.4237297743,\n        \"min\": 4.05e-05,\n        \"max\": 2186239.686,\n        \"num_unique_values\": 8,\n        \"samples\": [\n          42843.1577475494,\n          24939.32679,\n          30652.0\n        ],\n        \"semantic_type\": \"\",\n        \"description\": \"\"\n      }\n    }\n  ]\n}"
            }
          },
          "metadata": {},
          "execution_count": 7
        }
      ]
    },
    {
      "cell_type": "markdown",
      "source": [
        "### Mode of mileage, year of manufacturer, price"
      ],
      "metadata": {
        "id": "Bq-vmgXLZ3da"
      }
    },
    {
      "cell_type": "code",
      "source": [
        "car_data[['mileage', 'year_of_manufacture', 'price (AUD)']].mode()"
      ],
      "metadata": {
        "colab": {
          "base_uri": "https://localhost:8080/",
          "height": 81
        },
        "id": "3Vk-PXoLygkK",
        "outputId": "ea618035-73a4-4b4d-e24e-b83cbd322426"
      },
      "execution_count": null,
      "outputs": [
        {
          "output_type": "execute_result",
          "data": {
            "text/plain": [
              "   mileage  year_of_manufacture  price (AUD)\n",
              "0        0             2023.000    40485.920"
            ],
            "text/html": [
              "\n",
              "  <div id=\"df-563c380f-a780-48ed-a55a-dac09d30446a\" class=\"colab-df-container\">\n",
              "    <div>\n",
              "<style scoped>\n",
              "    .dataframe tbody tr th:only-of-type {\n",
              "        vertical-align: middle;\n",
              "    }\n",
              "\n",
              "    .dataframe tbody tr th {\n",
              "        vertical-align: top;\n",
              "    }\n",
              "\n",
              "    .dataframe thead th {\n",
              "        text-align: right;\n",
              "    }\n",
              "</style>\n",
              "<table border=\"1\" class=\"dataframe\">\n",
              "  <thead>\n",
              "    <tr style=\"text-align: right;\">\n",
              "      <th></th>\n",
              "      <th>mileage</th>\n",
              "      <th>year_of_manufacture</th>\n",
              "      <th>price (AUD)</th>\n",
              "    </tr>\n",
              "  </thead>\n",
              "  <tbody>\n",
              "    <tr>\n",
              "      <th>0</th>\n",
              "      <td>0</td>\n",
              "      <td>2023.000</td>\n",
              "      <td>40485.920</td>\n",
              "    </tr>\n",
              "  </tbody>\n",
              "</table>\n",
              "</div>\n",
              "    <div class=\"colab-df-buttons\">\n",
              "\n",
              "  <div class=\"colab-df-container\">\n",
              "    <button class=\"colab-df-convert\" onclick=\"convertToInteractive('df-563c380f-a780-48ed-a55a-dac09d30446a')\"\n",
              "            title=\"Convert this dataframe to an interactive table.\"\n",
              "            style=\"display:none;\">\n",
              "\n",
              "  <svg xmlns=\"http://www.w3.org/2000/svg\" height=\"24px\" viewBox=\"0 -960 960 960\">\n",
              "    <path d=\"M120-120v-720h720v720H120Zm60-500h600v-160H180v160Zm220 220h160v-160H400v160Zm0 220h160v-160H400v160ZM180-400h160v-160H180v160Zm440 0h160v-160H620v160ZM180-180h160v-160H180v160Zm440 0h160v-160H620v160Z\"/>\n",
              "  </svg>\n",
              "    </button>\n",
              "\n",
              "  <style>\n",
              "    .colab-df-container {\n",
              "      display:flex;\n",
              "      gap: 12px;\n",
              "    }\n",
              "\n",
              "    .colab-df-convert {\n",
              "      background-color: #E8F0FE;\n",
              "      border: none;\n",
              "      border-radius: 50%;\n",
              "      cursor: pointer;\n",
              "      display: none;\n",
              "      fill: #1967D2;\n",
              "      height: 32px;\n",
              "      padding: 0 0 0 0;\n",
              "      width: 32px;\n",
              "    }\n",
              "\n",
              "    .colab-df-convert:hover {\n",
              "      background-color: #E2EBFA;\n",
              "      box-shadow: 0px 1px 2px rgba(60, 64, 67, 0.3), 0px 1px 3px 1px rgba(60, 64, 67, 0.15);\n",
              "      fill: #174EA6;\n",
              "    }\n",
              "\n",
              "    .colab-df-buttons div {\n",
              "      margin-bottom: 4px;\n",
              "    }\n",
              "\n",
              "    [theme=dark] .colab-df-convert {\n",
              "      background-color: #3B4455;\n",
              "      fill: #D2E3FC;\n",
              "    }\n",
              "\n",
              "    [theme=dark] .colab-df-convert:hover {\n",
              "      background-color: #434B5C;\n",
              "      box-shadow: 0px 1px 3px 1px rgba(0, 0, 0, 0.15);\n",
              "      filter: drop-shadow(0px 1px 2px rgba(0, 0, 0, 0.3));\n",
              "      fill: #FFFFFF;\n",
              "    }\n",
              "  </style>\n",
              "\n",
              "    <script>\n",
              "      const buttonEl =\n",
              "        document.querySelector('#df-563c380f-a780-48ed-a55a-dac09d30446a button.colab-df-convert');\n",
              "      buttonEl.style.display =\n",
              "        google.colab.kernel.accessAllowed ? 'block' : 'none';\n",
              "\n",
              "      async function convertToInteractive(key) {\n",
              "        const element = document.querySelector('#df-563c380f-a780-48ed-a55a-dac09d30446a');\n",
              "        const dataTable =\n",
              "          await google.colab.kernel.invokeFunction('convertToInteractive',\n",
              "                                                    [key], {});\n",
              "        if (!dataTable) return;\n",
              "\n",
              "        const docLinkHtml = 'Like what you see? Visit the ' +\n",
              "          '<a target=\"_blank\" href=https://colab.research.google.com/notebooks/data_table.ipynb>data table notebook</a>'\n",
              "          + ' to learn more about interactive tables.';\n",
              "        element.innerHTML = '';\n",
              "        dataTable['output_type'] = 'display_data';\n",
              "        await google.colab.output.renderOutput(dataTable, element);\n",
              "        const docLink = document.createElement('div');\n",
              "        docLink.innerHTML = docLinkHtml;\n",
              "        element.appendChild(docLink);\n",
              "      }\n",
              "    </script>\n",
              "  </div>\n",
              "\n",
              "\n",
              "    </div>\n",
              "  </div>\n"
            ],
            "application/vnd.google.colaboratory.intrinsic+json": {
              "type": "dataframe",
              "summary": "{\n  \"name\": \"car_data[['mileage', 'year_of_manufacture', 'price (AUD)']]\",\n  \"rows\": 1,\n  \"fields\": [\n    {\n      \"column\": \"mileage\",\n      \"properties\": {\n        \"dtype\": \"number\",\n        \"std\": null,\n        \"min\": 0,\n        \"max\": 0,\n        \"num_unique_values\": 1,\n        \"samples\": [\n          0\n        ],\n        \"semantic_type\": \"\",\n        \"description\": \"\"\n      }\n    },\n    {\n      \"column\": \"year_of_manufacture\",\n      \"properties\": {\n        \"dtype\": \"number\",\n        \"std\": null,\n        \"min\": 2023.0,\n        \"max\": 2023.0,\n        \"num_unique_values\": 1,\n        \"samples\": [\n          2023.0\n        ],\n        \"semantic_type\": \"\",\n        \"description\": \"\"\n      }\n    },\n    {\n      \"column\": \"price (AUD)\",\n      \"properties\": {\n        \"dtype\": \"number\",\n        \"std\": null,\n        \"min\": 40485.92011,\n        \"max\": 40485.92011,\n        \"num_unique_values\": 1,\n        \"samples\": [\n          40485.92011\n        ],\n        \"semantic_type\": \"\",\n        \"description\": \"\"\n      }\n    }\n  ]\n}"
            }
          },
          "metadata": {},
          "execution_count": 8
        }
      ]
    },
    {
      "cell_type": "markdown",
      "metadata": {
        "id": "-vKYFh78xhWR"
      },
      "source": [
        "## b. Outliers and Missing Values"
      ]
    },
    {
      "cell_type": "markdown",
      "source": [
        "### Amount of cars information before selling"
      ],
      "metadata": {
        "id": "YwwijQSwMy9g"
      }
    },
    {
      "cell_type": "code",
      "execution_count": null,
      "metadata": {
        "colab": {
          "base_uri": "https://localhost:8080/"
        },
        "id": "VVtlvB4zUUoo",
        "outputId": "375b651c-5f95-4851-9a4e-932691df0813"
      },
      "outputs": [
        {
          "output_type": "stream",
          "name": "stdout",
          "text": [
            "<class 'pandas.core.frame.DataFrame'>\n",
            "RangeIndex: 30652 entries, 0 to 30651\n",
            "Data columns (total 19 columns):\n",
            " #   Column               Non-Null Count  Dtype  \n",
            "---  ------               --------------  -----  \n",
            " 0   ad_id                30652 non-null  int64  \n",
            " 1   origin               30652 non-null  object \n",
            " 2   condition            30652 non-null  object \n",
            " 3   car_model            30652 non-null  object \n",
            " 4   mileage              30652 non-null  int64  \n",
            " 5   exterior_color       30652 non-null  object \n",
            " 6   interior_color       30652 non-null  object \n",
            " 7   num_of_doors         30652 non-null  object \n",
            " 8   seating_capacity     30652 non-null  object \n",
            " 9   engine               30652 non-null  object \n",
            " 10  fuel_system          6742 non-null   object \n",
            " 11  transmission         30652 non-null  object \n",
            " 12  drive_type           30652 non-null  object \n",
            " 13  fuel_consumption     30652 non-null  object \n",
            " 14  brand                30652 non-null  object \n",
            " 15  grade                30652 non-null  object \n",
            " 16  year_of_manufacture  30620 non-null  float64\n",
            " 17  car_name             30652 non-null  object \n",
            " 18  price (AUD)          30652 non-null  float64\n",
            "dtypes: float64(2), int64(2), object(15)\n",
            "memory usage: 4.4+ MB\n"
          ]
        }
      ],
      "source": [
        "car_data.info()"
      ]
    },
    {
      "cell_type": "markdown",
      "source": [
        "Before cleaning: 30652 rows"
      ],
      "metadata": {
        "id": "cH3HfONVM8XY"
      }
    },
    {
      "cell_type": "markdown",
      "source": [
        "### Cleaning up information about car manufacturer\n",
        "There are 32 rows in the car_data where the Year of Manufacture column is missing information. Since the year of manufacture is context-dependent and varies by car model, it cannot be accurately predicted based on other values. Filling in these missing entries would require thorough research on a case-by-case basis."
      ],
      "metadata": {
        "id": "HwyTh28-1oTb"
      }
    },
    {
      "cell_type": "code",
      "source": [
        "car_data = car_data.dropna(subset = ['year_of_manufacture'])\n",
        "car_data['year_of_manufacture'] = car_data['year_of_manufacture'].astype(int)"
      ],
      "metadata": {
        "id": "E_mSXDtzzEiw",
        "colab": {
          "base_uri": "https://localhost:8080/"
        },
        "outputId": "42b4040e-a4f9-465e-c202-5dbd47954ca6"
      },
      "execution_count": null,
      "outputs": [
        {
          "output_type": "stream",
          "name": "stderr",
          "text": [
            "<ipython-input-10-af70b82be12f>:2: SettingWithCopyWarning: \n",
            "A value is trying to be set on a copy of a slice from a DataFrame.\n",
            "Try using .loc[row_indexer,col_indexer] = value instead\n",
            "\n",
            "See the caveats in the documentation: https://pandas.pydata.org/pandas-docs/stable/user_guide/indexing.html#returning-a-view-versus-a-copy\n",
            "  car_data['year_of_manufacture'] = car_data['year_of_manufacture'].astype(int)\n"
          ]
        }
      ]
    },
    {
      "cell_type": "markdown",
      "source": [
        "Rows in the \"year_of_manufacture\" column that are empty were left blank, as they should display the correct year.\n",
        "\n",
        "\n",
        "\n",
        "\n",
        "\n",
        "\n",
        "\n"
      ],
      "metadata": {
        "id": "COBVOfET272E"
      }
    },
    {
      "cell_type": "markdown",
      "source": [
        "### Removing car fuel system information"
      ],
      "metadata": {
        "id": "kIpKyEMAaQpw"
      }
    },
    {
      "cell_type": "code",
      "source": [
        "del car_data['fuel_system']"
      ],
      "metadata": {
        "id": "zv_1UR_AzOFL"
      },
      "execution_count": null,
      "outputs": []
    },
    {
      "cell_type": "markdown",
      "source": [
        "We removed the \"fuel_system\" column as it contained inconsistent and random data, making it difficult to clean and ensure accuracy. Additionally, we deemed it unnecessary for our analysis.\n"
      ],
      "metadata": {
        "id": "nN1y6QmK1uEP"
      }
    },
    {
      "cell_type": "markdown",
      "source": [
        "### Cleaning up information about car engine"
      ],
      "metadata": {
        "id": "o-eZq9Z1bUt1"
      }
    },
    {
      "cell_type": "code",
      "source": [
        "car_data.loc[:, 'engine'] = car_data['engine'].str.replace(r'^electric.*', 'Electric', regex=True)\n",
        "car_data.loc[:, 'engine'] = car_data['engine'].str.replace(r'^Electric\\s*.*', 'Electric', regex=True)"
      ],
      "metadata": {
        "id": "WGx0NBEJzS6X"
      },
      "execution_count": null,
      "outputs": []
    },
    {
      "cell_type": "markdown",
      "source": [
        "Since electric cars use motors instead of engines, the \"Engine displacement\" data is incorrect and has been removed accordingly.\n",
        "\n",
        "\n",
        "\n",
        "\n",
        "\n",
        "\n",
        "\n"
      ],
      "metadata": {
        "id": "WeyIApj82nVV"
      }
    },
    {
      "cell_type": "code",
      "source": [
        "car_data = car_data[car_data['engine'] != '-']"
      ],
      "metadata": {
        "id": "-2Zjasl70XRu"
      },
      "execution_count": null,
      "outputs": []
    },
    {
      "cell_type": "markdown",
      "source": [
        "Rows in the \"engine\" column containing \"-\" were removed, as the data is unusable.\n",
        "\n",
        "\n",
        "\n",
        "\n",
        "\n",
        "\n",
        "\n"
      ],
      "metadata": {
        "id": "15gnT5q726aK"
      }
    },
    {
      "cell_type": "code",
      "source": [
        "car_data = car_data[~car_data['engine'].isin(['Diesel', 'Hybrid', 'Petrol'])]"
      ],
      "metadata": {
        "id": "1n_fMJ9HAW5b"
      },
      "execution_count": null,
      "outputs": []
    },
    {
      "cell_type": "markdown",
      "source": [
        "To keep consistentcy, every engine data that doesn't contain engine displacement (except for electric) will be remove given that it's difficult to fine engine displacement for missing cars."
      ],
      "metadata": {
        "id": "jPzg4WCqzegR"
      }
    },
    {
      "cell_type": "markdown",
      "source": [
        "### Cleaning up information about car seating capacity"
      ],
      "metadata": {
        "id": "1jGKnQVicUcm"
      }
    },
    {
      "cell_type": "code",
      "source": [
        "car_data = car_data[(car_data['seating_capacity'] != '0-seat') & (car_data['seating_capacity'] != '1-seat')]"
      ],
      "metadata": {
        "id": "yCq5qVsd1cB-"
      },
      "execution_count": null,
      "outputs": []
    },
    {
      "cell_type": "markdown",
      "source": [
        "Since every car must have at least one seat and no valid data exists for a 1-seat car in the information we received, we decided to remove entries with this value.\n",
        "\n"
      ],
      "metadata": {
        "id": "ZwagqIaWe5AL"
      }
    },
    {
      "cell_type": "code",
      "source": [
        "car_data = car_data[~car_data['seating_capacity'].str.contains(r'\\b(4[0-9]|[5-9][0-9])-seat\\b', regex=True)]"
      ],
      "metadata": {
        "colab": {
          "base_uri": "https://localhost:8080/"
        },
        "id": "GLOd0dVh4XSW",
        "outputId": "b972773b-fcdf-4f2c-a65d-6f702bea1928"
      },
      "execution_count": null,
      "outputs": [
        {
          "output_type": "stream",
          "name": "stderr",
          "text": [
            "<ipython-input-16-413fc7bf2cd8>:1: UserWarning: This pattern is interpreted as a regular expression, and has match groups. To actually get the groups, use str.extract.\n",
            "  car_data = car_data[~car_data['seating_capacity'].str.contains(r'\\b(4[0-9]|[5-9][0-9])-seat\\b', regex=True)]\n"
          ]
        }
      ]
    },
    {
      "cell_type": "code",
      "source": [
        "car_data = car_data[(~car_data['seating_capacity'].str.contains(r'\\b([1-2][0-9])-seat\\b', regex=True)) | (car_data['car_model'] == 'Van/Minivan')]"
      ],
      "metadata": {
        "colab": {
          "base_uri": "https://localhost:8080/"
        },
        "id": "I5egzFd-e94_",
        "outputId": "37892cd8-96ea-4e4f-f61c-348ed45a210f"
      },
      "execution_count": null,
      "outputs": [
        {
          "output_type": "stream",
          "name": "stderr",
          "text": [
            "<ipython-input-17-3525d61bd0b0>:1: UserWarning: This pattern is interpreted as a regular expression, and has match groups. To actually get the groups, use str.extract.\n",
            "  car_data = car_data[(~car_data['seating_capacity'].str.contains(r'\\b([1-2][0-9])-seat\\b', regex=True)) | (car_data['car_model'] == 'Van/Minivan')]\n"
          ]
        }
      ]
    },
    {
      "cell_type": "markdown",
      "source": [
        "We removed minivans with 40 seats or more, and other types of cars with 10 seats or more based on the following considerations:\n",
        "\n",
        "1.   Minivans can have up to 34–38 seats, but rarely exceed this range.\n",
        "2.   Most other cars typically have 4–5 seats, with a few exceptions, but generally do not exceed 10 seats.\n",
        "\n",
        "\n",
        "\n",
        "\n",
        "\n"
      ],
      "metadata": {
        "id": "f3pBwL9rcvku"
      }
    },
    {
      "cell_type": "markdown",
      "source": [
        "### Cleaning up information about mileage and car condition"
      ],
      "metadata": {
        "id": "9P8fht3ZlCn_"
      }
    },
    {
      "cell_type": "code",
      "source": [
        "car_data.loc[(car_data['condition'] == 'New car') & (car_data['mileage'] != 0), 'mileage'] = 0"
      ],
      "metadata": {
        "id": "X6Ngc1ym4Xsc"
      },
      "execution_count": null,
      "outputs": []
    },
    {
      "cell_type": "code",
      "source": [
        "car_data = car_data[(car_data['mileage'] < 5300000)]"
      ],
      "metadata": {
        "id": "MPthP89n7WB4"
      },
      "execution_count": null,
      "outputs": []
    },
    {
      "cell_type": "code",
      "source": [
        "car_mileage_mean = car_data.copy()"
      ],
      "metadata": {
        "id": "kbQ-zOLq_z0Z"
      },
      "execution_count": null,
      "outputs": []
    },
    {
      "cell_type": "code",
      "source": [
        "car_mileage_mean = car_mileage_mean[car_mileage_mean['mileage'] != 0]"
      ],
      "metadata": {
        "id": "lVEVHOqQ_3_2"
      },
      "execution_count": null,
      "outputs": []
    },
    {
      "cell_type": "code",
      "source": [
        "mileage_mean = car_mileage_mean[['car_model','mileage']].groupby(['car_model'], as_index=False).mean()"
      ],
      "metadata": {
        "id": "FSEqqEX4BB2o"
      },
      "execution_count": null,
      "outputs": []
    },
    {
      "cell_type": "code",
      "source": [
        "for i in range(len(mileage_mean['mileage'])):\n",
        "  car_data.loc[(car_data['car_model'] == mileage_mean['car_model'][i]) & (car_data['mileage'] == 0), 'mileage'] = mileage_mean['mileage'][i]"
      ],
      "metadata": {
        "colab": {
          "base_uri": "https://localhost:8080/"
        },
        "id": "N0Zs8zdwHI60",
        "outputId": "7799983c-a2c3-403e-97b3-186088703229"
      },
      "execution_count": null,
      "outputs": [
        {
          "output_type": "stream",
          "name": "stderr",
          "text": [
            "<ipython-input-23-5383fc60e184>:2: FutureWarning: Setting an item of incompatible dtype is deprecated and will raise an error in a future version of pandas. Value '76446.68634423897' has dtype incompatible with int64, please explicitly cast to a compatible dtype first.\n",
            "  car_data.loc[(car_data['car_model'] == mileage_mean['car_model'][i]) & (car_data['mileage'] == 0), 'mileage'] = mileage_mean['mileage'][i]\n"
          ]
        }
      ]
    },
    {
      "cell_type": "code",
      "source": [
        "car_data = car_data[(car_data['mileage'] > 0) | (car_data['condition'] == 'New car')]"
      ],
      "metadata": {
        "id": "ZaSpCIN9a8BU"
      },
      "execution_count": null,
      "outputs": []
    },
    {
      "cell_type": "markdown",
      "source": [
        "Based on current knowledge, the highest recorded car mileage is approximately 5.2 million kilometers. Therefore, we removed any rows with a mileage exceeding 5.3 million kilometers, as they are considered unrealistic. Additionally, we removed used cars with 0 km mileage, and for new cars that had mileage recorded, we reset it to 0 kilometers. For used cars with 0 km mileage, we replaced the value with the average mileage based on the \"car_model\" column, which categorizes the type of car (e.g., van, SUV, coupe).\n"
      ],
      "metadata": {
        "id": "RNB6Bi6F8NKm"
      }
    },
    {
      "cell_type": "markdown",
      "source": [
        "### Cleaning up information about color and number of doors"
      ],
      "metadata": {
        "id": "HnRKOpr_uWgf"
      }
    },
    {
      "cell_type": "code",
      "source": [
        "car_data = car_data[~car_data['exterior_color'].isin(['-', 'Colorful', 'Different color', 'Take note'])]"
      ],
      "metadata": {
        "id": "D0ZVGijo9Ebl"
      },
      "execution_count": null,
      "outputs": []
    },
    {
      "cell_type": "code",
      "source": [
        "car_data = car_data[~car_data['interior_color'].isin(['-', 'Colorful', 'Different color'])]"
      ],
      "metadata": {
        "id": "gR-pTaYy9YTZ"
      },
      "execution_count": null,
      "outputs": []
    },
    {
      "cell_type": "code",
      "source": [
        "car_data = car_data[~car_data['num_of_doors'].isin(['0-door', '1-door', '42-door', '44-door', '45-door', '54-door','6-door', '7-door'])]"
      ],
      "metadata": {
        "id": "2uSlzVJf-haL"
      },
      "execution_count": null,
      "outputs": []
    },
    {
      "cell_type": "markdown",
      "source": [
        "We removed any invalid or incorrect entries from the \"number of doors\" column based on standard car specifications. Typically, cars, trucks, and vans have 2 to 5 doors, so any entries with fewer than 2 or more than 5 doors were deemed unrealistic and removed.\n",
        "\n",
        "Additionally, in the \"color\" column, we eliminated entries that were not valid color names, such as \"colorful.\""
      ],
      "metadata": {
        "id": "wKhlTOKW_NeI"
      }
    },
    {
      "cell_type": "markdown",
      "source": [
        "### Cleaning information about transmission, drive train type, and price."
      ],
      "metadata": {
        "id": "AnjGaZHc5wbI"
      }
    },
    {
      "cell_type": "code",
      "source": [
        "car_data = car_data[~car_data['transmission'].isin(['-', 'Hybrid'])]"
      ],
      "metadata": {
        "id": "C10QODtOAmAS"
      },
      "execution_count": null,
      "outputs": []
    },
    {
      "cell_type": "markdown",
      "source": [
        "We removed entries in the \"transmission\" column that were neither manual nor automatic, as these are the two standard types of transmission typically found in vehicles."
      ],
      "metadata": {
        "id": "8VdEkatn6iBO"
      }
    },
    {
      "cell_type": "code",
      "source": [
        "car_data = car_data[~car_data['drive_type'].isin(['-'])]"
      ],
      "metadata": {
        "id": "x3yZvE6NAzhh"
      },
      "execution_count": null,
      "outputs": []
    },
    {
      "cell_type": "markdown",
      "source": [
        "We removed any entries that lacked information on the drivetrain type, as this data is essential for understanding vehicle specifications."
      ],
      "metadata": {
        "id": "Cgr5hAQy7Bfx"
      }
    },
    {
      "cell_type": "code",
      "source": [
        "car_data = car_data[car_data['price (AUD)'] > 1000]"
      ],
      "metadata": {
        "id": "34IXQmrCL9PD"
      },
      "execution_count": null,
      "outputs": []
    },
    {
      "cell_type": "markdown",
      "source": [
        "We removed rows from the \"price (AUD)\" column where the price was 1000 AUD or less.\n",
        "\n",
        "\n",
        "\n",
        "\n",
        "\n",
        "\n",
        "\n"
      ],
      "metadata": {
        "id": "7PbD34-uMSjd"
      }
    },
    {
      "cell_type": "markdown",
      "source": [
        "### Cleaning information about grade (car model name)"
      ],
      "metadata": {
        "id": "gYFd6CArRPn6"
      }
    },
    {
      "cell_type": "code",
      "source": [
        "car_data.info()"
      ],
      "metadata": {
        "colab": {
          "base_uri": "https://localhost:8080/"
        },
        "id": "GWEwD9JIRUUY",
        "outputId": "3f1a48af-4693-4e8b-aaf4-b0ed00631aa5"
      },
      "execution_count": null,
      "outputs": [
        {
          "output_type": "stream",
          "name": "stdout",
          "text": [
            "<class 'pandas.core.frame.DataFrame'>\n",
            "Index: 25630 entries, 0 to 30650\n",
            "Data columns (total 18 columns):\n",
            " #   Column               Non-Null Count  Dtype  \n",
            "---  ------               --------------  -----  \n",
            " 0   ad_id                25630 non-null  int64  \n",
            " 1   origin               25630 non-null  object \n",
            " 2   condition            25630 non-null  object \n",
            " 3   car_model            25630 non-null  object \n",
            " 4   mileage              25630 non-null  float64\n",
            " 5   exterior_color       25630 non-null  object \n",
            " 6   interior_color       25630 non-null  object \n",
            " 7   num_of_doors         25630 non-null  object \n",
            " 8   seating_capacity     25630 non-null  object \n",
            " 9   engine               25630 non-null  object \n",
            " 10  transmission         25630 non-null  object \n",
            " 11  drive_type           25630 non-null  object \n",
            " 12  fuel_consumption     25630 non-null  object \n",
            " 13  brand                25630 non-null  object \n",
            " 14  grade                25630 non-null  object \n",
            " 15  year_of_manufacture  25630 non-null  int64  \n",
            " 16  car_name             25630 non-null  object \n",
            " 17  price (AUD)          25630 non-null  float64\n",
            "dtypes: float64(2), int64(2), object(14)\n",
            "memory usage: 3.7+ MB\n"
          ]
        }
      ]
    },
    {
      "cell_type": "code",
      "source": [
        "car_data = car_data[~car_data['grade'].str.contains(r'Khác', regex=True)]"
      ],
      "metadata": {
        "id": "ibTGGifDRYxQ"
      },
      "execution_count": null,
      "outputs": []
    },
    {
      "cell_type": "markdown",
      "source": [
        "We removed entries containing \"Khác\" in the grading column, as this term might be unknown across various car brands and could lead to ambiguity in the data."
      ],
      "metadata": {
        "id": "jJj-vyoxVcSQ"
      }
    },
    {
      "cell_type": "markdown",
      "source": [
        "### Cleaning information about fuel consumption."
      ],
      "metadata": {
        "id": "AcMu-EOW7lLM"
      }
    },
    {
      "cell_type": "code",
      "source": [
        "car_data['fuel_consumption'] = car_data['fuel_consumption'].str.replace('L/100Km', '')"
      ],
      "metadata": {
        "id": "bYR70cGjBTAu",
        "colab": {
          "base_uri": "https://localhost:8080/"
        },
        "outputId": "d0d731ec-b679-49c9-d9f6-eb5c15508e48"
      },
      "execution_count": null,
      "outputs": [
        {
          "output_type": "stream",
          "name": "stderr",
          "text": [
            "<ipython-input-33-193dba840d32>:1: SettingWithCopyWarning: \n",
            "A value is trying to be set on a copy of a slice from a DataFrame.\n",
            "Try using .loc[row_indexer,col_indexer] = value instead\n",
            "\n",
            "See the caveats in the documentation: https://pandas.pydata.org/pandas-docs/stable/user_guide/indexing.html#returning-a-view-versus-a-copy\n",
            "  car_data['fuel_consumption'] = car_data['fuel_consumption'].str.replace('L/100Km', '')\n"
          ]
        }
      ]
    },
    {
      "cell_type": "code",
      "source": [
        "car_data['fuel_consumption'] = car_data['fuel_consumption'].str.replace('\\t', '')"
      ],
      "metadata": {
        "id": "h72e60FKDju-",
        "colab": {
          "base_uri": "https://localhost:8080/"
        },
        "outputId": "37ae4e40-a385-4eac-8178-d9f1e8015cdd"
      },
      "execution_count": null,
      "outputs": [
        {
          "output_type": "stream",
          "name": "stderr",
          "text": [
            "<ipython-input-34-7edc591654eb>:1: SettingWithCopyWarning: \n",
            "A value is trying to be set on a copy of a slice from a DataFrame.\n",
            "Try using .loc[row_indexer,col_indexer] = value instead\n",
            "\n",
            "See the caveats in the documentation: https://pandas.pydata.org/pandas-docs/stable/user_guide/indexing.html#returning-a-view-versus-a-copy\n",
            "  car_data['fuel_consumption'] = car_data['fuel_consumption'].str.replace('\\t', '')\n"
          ]
        }
      ]
    },
    {
      "cell_type": "code",
      "source": [
        "car_data['fuel_consumption'] = car_data['fuel_consumption'].str.replace('', '0')"
      ],
      "metadata": {
        "id": "D56nvkyYJesX",
        "colab": {
          "base_uri": "https://localhost:8080/"
        },
        "outputId": "10bd6642-9496-4f58-aa16-1537824a9e04"
      },
      "execution_count": null,
      "outputs": [
        {
          "output_type": "stream",
          "name": "stderr",
          "text": [
            "<ipython-input-35-cab1ba0fc57d>:1: SettingWithCopyWarning: \n",
            "A value is trying to be set on a copy of a slice from a DataFrame.\n",
            "Try using .loc[row_indexer,col_indexer] = value instead\n",
            "\n",
            "See the caveats in the documentation: https://pandas.pydata.org/pandas-docs/stable/user_guide/indexing.html#returning-a-view-versus-a-copy\n",
            "  car_data['fuel_consumption'] = car_data['fuel_consumption'].str.replace('', '0')\n"
          ]
        }
      ]
    },
    {
      "cell_type": "markdown",
      "source": [
        "During the data cleaning process for the \"fuel consumption\" column, we filled any empty rows with a value of 0 to maintain consistency and standardize the dataset.\n",
        "\n",
        "\n",
        "\n",
        "\n",
        "\n",
        "\n"
      ],
      "metadata": {
        "id": "a5hthoo5aWfJ"
      }
    },
    {
      "cell_type": "code",
      "source": [
        "pattern = r'^\\d+(\\.\\d+)?$'\n",
        "car_data = car_data[car_data['fuel_consumption'].str.match(pattern)]"
      ],
      "metadata": {
        "id": "np3wP6I9Eb8S"
      },
      "execution_count": null,
      "outputs": []
    },
    {
      "cell_type": "code",
      "source": [
        "car_data['fuel_consumption'] = car_data['fuel_consumption'].astype(float)"
      ],
      "metadata": {
        "id": "Y4XdN_oEFi1n"
      },
      "execution_count": null,
      "outputs": []
    },
    {
      "cell_type": "code",
      "source": [
        "car_data['fuel_consumption'] = car_data['fuel_consumption'].round(3)\n"
      ],
      "metadata": {
        "id": "q7PiFXZXFph5"
      },
      "execution_count": null,
      "outputs": []
    },
    {
      "cell_type": "markdown",
      "source": [
        "we remove any characters and special symbols from the data, converting the values into float format. For example, the entry \"6.\" will be transformed into 6."
      ],
      "metadata": {
        "id": "x4LQV99W70Uf"
      }
    },
    {
      "cell_type": "code",
      "source": [
        "#car_data['fuel_consumption'] = pd.to_numeric(car_data['fuel_consumption'], errors='coerce')\n"
      ],
      "metadata": {
        "id": "EI-8BOn5CI6d"
      },
      "execution_count": null,
      "outputs": []
    },
    {
      "cell_type": "code",
      "source": [
        "np.set_printoptions(suppress=True)\n"
      ],
      "metadata": {
        "id": "7HfrIP2aHoGg"
      },
      "execution_count": null,
      "outputs": []
    },
    {
      "cell_type": "code",
      "source": [
        "car_data = car_data[car_data['fuel_consumption'] < 100]"
      ],
      "metadata": {
        "id": "k8Lm3FslIk3m"
      },
      "execution_count": null,
      "outputs": []
    },
    {
      "cell_type": "code",
      "source": [
        "car_mpg_mean = car_data.copy()"
      ],
      "metadata": {
        "id": "oYkjqXtoxq41"
      },
      "execution_count": null,
      "outputs": []
    },
    {
      "cell_type": "code",
      "source": [
        "car_mpg_mean = car_mpg_mean[(car_mpg_mean['fuel_consumption'] != 0) & (car_mpg_mean['engine'] != 'Electric')]"
      ],
      "metadata": {
        "id": "GEc0gY5kqxGF"
      },
      "execution_count": null,
      "outputs": []
    },
    {
      "cell_type": "code",
      "source": [
        "mpg_mean = car_mpg_mean[['engine','fuel_consumption']].groupby(['engine'], as_index=False).mean()"
      ],
      "metadata": {
        "id": "68Jnkae5rww4"
      },
      "execution_count": null,
      "outputs": []
    },
    {
      "cell_type": "code",
      "source": [
        "for i in range(len(mpg_mean['engine'])):\n",
        "  car_data.loc[(car_data['engine'] == mpg_mean['engine'][i]) & (car_data['fuel_consumption'] == 0), 'fuel_consumption'] = mpg_mean['fuel_consumption'][i]"
      ],
      "metadata": {
        "id": "9oaigrPttCQQ"
      },
      "execution_count": null,
      "outputs": []
    },
    {
      "cell_type": "code",
      "source": [
        "car_data = car_data[(car_data['fuel_consumption'] != 0) | (car_data['engine'] == 'electric')]  #remove non-electric car that fuel consumption is 0"
      ],
      "metadata": {
        "id": "gAXhpp1vJfVP"
      },
      "execution_count": null,
      "outputs": []
    },
    {
      "cell_type": "code",
      "source": [
        "car_data_outlier = car_data.copy()"
      ],
      "metadata": {
        "id": "qSzulvufzj9D"
      },
      "execution_count": null,
      "outputs": []
    },
    {
      "cell_type": "markdown",
      "source": [
        "For the \"fuel_consumption\" column, we eliminated any values exceeding 100 liters per 100 km based on our knowledge. Additionally, we filtered out rows where the fuel consumption was recorded as 0 liters per 100 km for non-electric cars.\n",
        "\n",
        "To address missing fuel consumption values in non-electric cars, we calculated the average fuel consumption based on engine size and filled in the gaps accordingly. However, some entries may still remain without a value even after this adjustment.\n"
      ],
      "metadata": {
        "id": "vC3O_JCyIA4W"
      }
    },
    {
      "cell_type": "code",
      "source": [
        "print(car_data['mileage'].dtype)"
      ],
      "metadata": {
        "colab": {
          "base_uri": "https://localhost:8080/"
        },
        "id": "mFyuflwgJyxq",
        "outputId": "f686c313-7061-48b1-b6b8-9150103f9193"
      },
      "execution_count": null,
      "outputs": [
        {
          "output_type": "stream",
          "name": "stdout",
          "text": [
            "float64\n"
          ]
        }
      ]
    },
    {
      "cell_type": "code",
      "source": [
        "car_data_outlier.info()"
      ],
      "metadata": {
        "colab": {
          "base_uri": "https://localhost:8080/"
        },
        "id": "Kn2WKHkJbNxX",
        "outputId": "e5b2102d-6a97-4228-c083-80bd77603028"
      },
      "execution_count": null,
      "outputs": [
        {
          "output_type": "stream",
          "name": "stdout",
          "text": [
            "<class 'pandas.core.frame.DataFrame'>\n",
            "Index: 24224 entries, 0 to 30650\n",
            "Data columns (total 18 columns):\n",
            " #   Column               Non-Null Count  Dtype  \n",
            "---  ------               --------------  -----  \n",
            " 0   ad_id                24224 non-null  int64  \n",
            " 1   origin               24224 non-null  object \n",
            " 2   condition            24224 non-null  object \n",
            " 3   car_model            24224 non-null  object \n",
            " 4   mileage              24224 non-null  float64\n",
            " 5   exterior_color       24224 non-null  object \n",
            " 6   interior_color       24224 non-null  object \n",
            " 7   num_of_doors         24224 non-null  object \n",
            " 8   seating_capacity     24224 non-null  object \n",
            " 9   engine               24224 non-null  object \n",
            " 10  transmission         24224 non-null  object \n",
            " 11  drive_type           24224 non-null  object \n",
            " 12  fuel_consumption     24224 non-null  float64\n",
            " 13  brand                24224 non-null  object \n",
            " 14  grade                24224 non-null  object \n",
            " 15  year_of_manufacture  24224 non-null  int64  \n",
            " 16  car_name             24224 non-null  object \n",
            " 17  price (AUD)          24224 non-null  float64\n",
            "dtypes: float64(3), int64(2), object(13)\n",
            "memory usage: 3.5+ MB\n"
          ]
        }
      ]
    },
    {
      "cell_type": "markdown",
      "source": [
        "### Remove Outliers"
      ],
      "metadata": {
        "id": "z--sfrShHaC6"
      }
    },
    {
      "cell_type": "code",
      "source": [
        "plt.figure(figsize=(5,16))\n",
        "sns.boxplot(car_data['mileage'])\n",
        "plt.show()"
      ],
      "metadata": {
        "colab": {
          "base_uri": "https://localhost:8080/",
          "height": 1000
        },
        "id": "j_fUrrx5HYqr",
        "outputId": "a11cfcd9-c83b-4817-d064-185c5241a40a"
      },
      "execution_count": null,
      "outputs": [
        {
          "output_type": "stream",
          "name": "stderr",
          "text": [
            "/usr/local/lib/python3.10/dist-packages/seaborn/categorical.py:640: FutureWarning: SeriesGroupBy.grouper is deprecated and will be removed in a future version of pandas.\n",
            "  positions = grouped.grouper.result_index.to_numpy(dtype=float)\n"
          ]
        },
        {
          "output_type": "display_data",
          "data": {
            "text/plain": [
              "<Figure size 500x1600 with 1 Axes>"
            ],
            "image/png": "[encoded data removed]"
          },
          "metadata": {}
        }
      ]
    },
    {
      "cell_type": "markdown",
      "source": [
        "The mileage information initially contained realistic values, but it also included outliers. The boxplot indicates the presence of several outliers within the mileage data. <br>\n",
        "(Choosing mileage as an example since it has a lot of outlier)"
      ],
      "metadata": {
        "id": "T_ygTa7lLy0s"
      }
    },
    {
      "cell_type": "code",
      "source": [
        "def remove_outlier(data):\n",
        "  for i in data.columns:\n",
        "    if (data[i].dtype != 'object') and (i != 'ad_id') and (i != 'year_of_manufacture'):\n",
        "      q1 = data[i].quantile(0.25)\n",
        "      q3 = data[i].quantile(0.75)\n",
        "      iqr = q3 - q1\n",
        "      lowerLimit = q1 - 1.5 * iqr\n",
        "      upperLimit = q3 + 1.5 * iqr\n",
        "      data = data[(data[i] >= lowerLimit) & (data[i] <= upperLimit)]\n",
        "  return data\n",
        "\n",
        "car_data = remove_outlier(car_data)"
      ],
      "metadata": {
        "id": "HVdfBCC1I2Yu"
      },
      "execution_count": null,
      "outputs": []
    },
    {
      "cell_type": "markdown",
      "source": [
        "Remove outlier values from all numeric columns, excluding \"ad_id\" and \"year_of_manufacture\", as these two columns are not used for aggregation.\n",
        "\n"
      ],
      "metadata": {
        "id": "EKI0upmPMMkl"
      }
    },
    {
      "cell_type": "code",
      "source": [
        "plt.figure(figsize=(5,10))\n",
        "sns.boxplot(car_data['mileage'])\n",
        "plt.show()"
      ],
      "metadata": {
        "colab": {
          "base_uri": "https://localhost:8080/",
          "height": 866
        },
        "id": "n2GT8L1NKgwk",
        "outputId": "502187c9-ddab-4dd8-87c3-49c01e130276"
      },
      "execution_count": null,
      "outputs": [
        {
          "output_type": "stream",
          "name": "stderr",
          "text": [
            "/usr/local/lib/python3.10/dist-packages/seaborn/categorical.py:640: FutureWarning: SeriesGroupBy.grouper is deprecated and will be removed in a future version of pandas.\n",
            "  positions = grouped.grouper.result_index.to_numpy(dtype=float)\n"
          ]
        },
        {
          "output_type": "display_data",
          "data": {
            "text/plain": [
              "<Figure size 500x1000 with 1 Axes>"
            ],
            "image/png": "[encoded data removed]"
          },
          "metadata": {}
        }
      ]
    },
    {
      "cell_type": "markdown",
      "source": [
        "Data has been adjusted to exclude outliers, resulting in a refined dataset that reflects more accurate values (as shown with mileage data boxplot)."
      ],
      "metadata": {
        "id": "M_g_SaldMiBL"
      }
    },
    {
      "cell_type": "code",
      "source": [
        "car_data.info()"
      ],
      "metadata": {
        "colab": {
          "base_uri": "https://localhost:8080/"
        },
        "id": "xJAHPDUvKRxp",
        "outputId": "b106088c-250c-4b4f-f53a-278343994cc9"
      },
      "execution_count": null,
      "outputs": [
        {
          "output_type": "stream",
          "name": "stdout",
          "text": [
            "<class 'pandas.core.frame.DataFrame'>\n",
            "Index: 19940 entries, 0 to 30650\n",
            "Data columns (total 18 columns):\n",
            " #   Column               Non-Null Count  Dtype  \n",
            "---  ------               --------------  -----  \n",
            " 0   ad_id                19940 non-null  int64  \n",
            " 1   origin               19940 non-null  object \n",
            " 2   condition            19940 non-null  object \n",
            " 3   car_model            19940 non-null  object \n",
            " 4   mileage              19940 non-null  float64\n",
            " 5   exterior_color       19940 non-null  object \n",
            " 6   interior_color       19940 non-null  object \n",
            " 7   num_of_doors         19940 non-null  object \n",
            " 8   seating_capacity     19940 non-null  object \n",
            " 9   engine               19940 non-null  object \n",
            " 10  transmission         19940 non-null  object \n",
            " 11  drive_type           19940 non-null  object \n",
            " 12  fuel_consumption     19940 non-null  float64\n",
            " 13  brand                19940 non-null  object \n",
            " 14  grade                19940 non-null  object \n",
            " 15  year_of_manufacture  19940 non-null  int64  \n",
            " 16  car_name             19940 non-null  object \n",
            " 17  price (AUD)          19940 non-null  float64\n",
            "dtypes: float64(3), int64(2), object(13)\n",
            "memory usage: 2.9+ MB\n"
          ]
        }
      ]
    },
    {
      "cell_type": "markdown",
      "source": [
        "Before cleaning data: 30652 rows. After cleaning data: 19940 rows."
      ],
      "metadata": {
        "id": "bAgOu9Job7x7"
      }
    },
    {
      "cell_type": "markdown",
      "source": [
        "### (After cleaning) Mean, STD, Median of mileage, year of manufacturer, and price\n"
      ],
      "metadata": {
        "id": "8SZxPn2vlI2U"
      }
    },
    {
      "cell_type": "code",
      "source": [
        "car_data[['mileage', 'year_of_manufacture', 'price (AUD)']].describe()\n"
      ],
      "metadata": {
        "colab": {
          "base_uri": "https://localhost:8080/",
          "height": 300
        },
        "id": "DuTAxwjqjw9O",
        "outputId": "ada6c1d1-3a3e-4f9b-d01b-e23017fc0c6a"
      },
      "execution_count": null,
      "outputs": [
        {
          "output_type": "execute_result",
          "data": {
            "text/plain": [
              "         mileage  year_of_manufacture  price (AUD)\n",
              "count  19940.000            19940.000    19940.000\n",
              "mean   54900.176             2017.576    24990.692\n",
              "std    27058.545                4.928    10641.895\n",
              "min        1.000             1990.000     1012.148\n",
              "25%    35000.000             2015.000    17085.058\n",
              "50%    60585.720             2019.000    24089.122\n",
              "75%    70000.000             2021.000    34251.088\n",
              "max   128000.000             2023.000    40485.920"
            ],
            "text/html": [
              "\n",
              "  <div id=\"df-ee1a20d2-4e17-4734-b871-1397d5bfce4c\" class=\"colab-df-container\">\n",
              "    <div>\n",
              "<style scoped>\n",
              "    .dataframe tbody tr th:only-of-type {\n",
              "        vertical-align: middle;\n",
              "    }\n",
              "\n",
              "    .dataframe tbody tr th {\n",
              "        vertical-align: top;\n",
              "    }\n",
              "\n",
              "    .dataframe thead th {\n",
              "        text-align: right;\n",
              "    }\n",
              "</style>\n",
              "<table border=\"1\" class=\"dataframe\">\n",
              "  <thead>\n",
              "    <tr style=\"text-align: right;\">\n",
              "      <th></th>\n",
              "      <th>mileage</th>\n",
              "      <th>year_of_manufacture</th>\n",
              "      <th>price (AUD)</th>\n",
              "    </tr>\n",
              "  </thead>\n",
              "  <tbody>\n",
              "    <tr>\n",
              "      <th>count</th>\n",
              "      <td>19940.000</td>\n",
              "      <td>19940.000</td>\n",
              "      <td>19940.000</td>\n",
              "    </tr>\n",
              "    <tr>\n",
              "      <th>mean</th>\n",
              "      <td>54900.176</td>\n",
              "      <td>2017.576</td>\n",
              "      <td>24990.692</td>\n",
              "    </tr>\n",
              "    <tr>\n",
              "      <th>std</th>\n",
              "      <td>27058.545</td>\n",
              "      <td>4.928</td>\n",
              "      <td>10641.895</td>\n",
              "    </tr>\n",
              "    <tr>\n",
              "      <th>min</th>\n",
              "      <td>1.000</td>\n",
              "      <td>1990.000</td>\n",
              "      <td>1012.148</td>\n",
              "    </tr>\n",
              "    <tr>\n",
              "      <th>25%</th>\n",
              "      <td>35000.000</td>\n",
              "      <td>2015.000</td>\n",
              "      <td>17085.058</td>\n",
              "    </tr>\n",
              "    <tr>\n",
              "      <th>50%</th>\n",
              "      <td>60585.720</td>\n",
              "      <td>2019.000</td>\n",
              "      <td>24089.122</td>\n",
              "    </tr>\n",
              "    <tr>\n",
              "      <th>75%</th>\n",
              "      <td>70000.000</td>\n",
              "      <td>2021.000</td>\n",
              "      <td>34251.088</td>\n",
              "    </tr>\n",
              "    <tr>\n",
              "      <th>max</th>\n",
              "      <td>128000.000</td>\n",
              "      <td>2023.000</td>\n",
              "      <td>40485.920</td>\n",
              "    </tr>\n",
              "  </tbody>\n",
              "</table>\n",
              "</div>\n",
              "    <div class=\"colab-df-buttons\">\n",
              "\n",
              "  <div class=\"colab-df-container\">\n",
              "    <button class=\"colab-df-convert\" onclick=\"convertToInteractive('df-ee1a20d2-4e17-4734-b871-1397d5bfce4c')\"\n",
              "            title=\"Convert this dataframe to an interactive table.\"\n",
              "            style=\"display:none;\">\n",
              "\n",
              "  <svg xmlns=\"http://www.w3.org/2000/svg\" height=\"24px\" viewBox=\"0 -960 960 960\">\n",
              "    <path d=\"M120-120v-720h720v720H120Zm60-500h600v-160H180v160Zm220 220h160v-160H400v160Zm0 220h160v-160H400v160ZM180-400h160v-160H180v160Zm440 0h160v-160H620v160ZM180-180h160v-160H180v160Zm440 0h160v-160H620v160Z\"/>\n",
              "  </svg>\n",
              "    </button>\n",
              "\n",
              "  <style>\n",
              "    .colab-df-container {\n",
              "      display:flex;\n",
              "      gap: 12px;\n",
              "    }\n",
              "\n",
              "    .colab-df-convert {\n",
              "      background-color: #E8F0FE;\n",
              "      border: none;\n",
              "      border-radius: 50%;\n",
              "      cursor: pointer;\n",
              "      display: none;\n",
              "      fill: #1967D2;\n",
              "      height: 32px;\n",
              "      padding: 0 0 0 0;\n",
              "      width: 32px;\n",
              "    }\n",
              "\n",
              "    .colab-df-convert:hover {\n",
              "      background-color: #E2EBFA;\n",
              "      box-shadow: 0px 1px 2px rgba(60, 64, 67, 0.3), 0px 1px 3px 1px rgba(60, 64, 67, 0.15);\n",
              "      fill: #174EA6;\n",
              "    }\n",
              "\n",
              "    .colab-df-buttons div {\n",
              "      margin-bottom: 4px;\n",
              "    }\n",
              "\n",
              "    [theme=dark] .colab-df-convert {\n",
              "      background-color: #3B4455;\n",
              "      fill: #D2E3FC;\n",
              "    }\n",
              "\n",
              "    [theme=dark] .colab-df-convert:hover {\n",
              "      background-color: #434B5C;\n",
              "      box-shadow: 0px 1px 3px 1px rgba(0, 0, 0, 0.15);\n",
              "      filter: drop-shadow(0px 1px 2px rgba(0, 0, 0, 0.3));\n",
              "      fill: #FFFFFF;\n",
              "    }\n",
              "  </style>\n",
              "\n",
              "    <script>\n",
              "      const buttonEl =\n",
              "        document.querySelector('#df-ee1a20d2-4e17-4734-b871-1397d5bfce4c button.colab-df-convert');\n",
              "      buttonEl.style.display =\n",
              "        google.colab.kernel.accessAllowed ? 'block' : 'none';\n",
              "\n",
              "      async function convertToInteractive(key) {\n",
              "        const element = document.querySelector('#df-ee1a20d2-4e17-4734-b871-1397d5bfce4c');\n",
              "        const dataTable =\n",
              "          await google.colab.kernel.invokeFunction('convertToInteractive',\n",
              "                                                    [key], {});\n",
              "        if (!dataTable) return;\n",
              "\n",
              "        const docLinkHtml = 'Like what you see? Visit the ' +\n",
              "          '<a target=\"_blank\" href=https://colab.research.google.com/notebooks/data_table.ipynb>data table notebook</a>'\n",
              "          + ' to learn more about interactive tables.';\n",
              "        element.innerHTML = '';\n",
              "        dataTable['output_type'] = 'display_data';\n",
              "        await google.colab.output.renderOutput(dataTable, element);\n",
              "        const docLink = document.createElement('div');\n",
              "        docLink.innerHTML = docLinkHtml;\n",
              "        element.appendChild(docLink);\n",
              "      }\n",
              "    </script>\n",
              "  </div>\n",
              "\n",
              "\n",
              "<div id=\"df-dd3ee9e7-3488-4be4-a647-3ae32ca5c254\">\n",
              "  <button class=\"colab-df-quickchart\" onclick=\"quickchart('df-dd3ee9e7-3488-4be4-a647-3ae32ca5c254')\"\n",
              "            title=\"Suggest charts\"\n",
              "            style=\"display:none;\">\n",
              "\n",
              "<svg xmlns=\"http://www.w3.org/2000/svg\" height=\"24px\"viewBox=\"0 0 24 24\"\n",
              "     width=\"24px\">\n",
              "    <g>\n",
              "        <path d=\"M19 3H5c-1.1 0-2 .9-2 2v14c0 1.1.9 2 2 2h14c1.1 0 2-.9 2-2V5c0-1.1-.9-2-2-2zM9 17H7v-7h2v7zm4 0h-2V7h2v10zm4 0h-2v-4h2v4z\"/>\n",
              "    </g>\n",
              "</svg>\n",
              "  </button>\n",
              "\n",
              "<style>\n",
              "  .colab-df-quickchart {\n",
              "      --bg-color: #E8F0FE;\n",
              "      --fill-color: #1967D2;\n",
              "      --hover-bg-color: #E2EBFA;\n",
              "      --hover-fill-color: #174EA6;\n",
              "      --disabled-fill-color: #AAA;\n",
              "      --disabled-bg-color: #DDD;\n",
              "  }\n",
              "\n",
              "  [theme=dark] .colab-df-quickchart {\n",
              "      --bg-color: #3B4455;\n",
              "      --fill-color: #D2E3FC;\n",
              "      --hover-bg-color: #434B5C;\n",
              "      --hover-fill-color: #FFFFFF;\n",
              "      --disabled-bg-color: #3B4455;\n",
              "      --disabled-fill-color: #666;\n",
              "  }\n",
              "\n",
              "  .colab-df-quickchart {\n",
              "    background-color: var(--bg-color);\n",
              "    border: none;\n",
              "    border-radius: 50%;\n",
              "    cursor: pointer;\n",
              "    display: none;\n",
              "    fill: var(--fill-color);\n",
              "    height: 32px;\n",
              "    padding: 0;\n",
              "    width: 32px;\n",
              "  }\n",
              "\n",
              "  .colab-df-quickchart:hover {\n",
              "    background-color: var(--hover-bg-color);\n",
              "    box-shadow: 0 1px 2px rgba(60, 64, 67, 0.3), 0 1px 3px 1px rgba(60, 64, 67, 0.15);\n",
              "    fill: var(--button-hover-fill-color);\n",
              "  }\n",
              "\n",
              "  .colab-df-quickchart-complete:disabled,\n",
              "  .colab-df-quickchart-complete:disabled:hover {\n",
              "    background-color: var(--disabled-bg-color);\n",
              "    fill: var(--disabled-fill-color);\n",
              "    box-shadow: none;\n",
              "  }\n",
              "\n",
              "  .colab-df-spinner {\n",
              "    border: 2px solid var(--fill-color);\n",
              "    border-color: transparent;\n",
              "    border-bottom-color: var(--fill-color);\n",
              "    animation:\n",
              "      spin 1s steps(1) infinite;\n",
              "  }\n",
              "\n",
              "  @keyframes spin {\n",
              "    0% {\n",
              "      border-color: transparent;\n",
              "      border-bottom-color: var(--fill-color);\n",
              "      border-left-color: var(--fill-color);\n",
              "    }\n",
              "    20% {\n",
              "      border-color: transparent;\n",
              "      border-left-color: var(--fill-color);\n",
              "      border-top-color: var(--fill-color);\n",
              "    }\n",
              "    30% {\n",
              "      border-color: transparent;\n",
              "      border-left-color: var(--fill-color);\n",
              "      border-top-color: var(--fill-color);\n",
              "      border-right-color: var(--fill-color);\n",
              "    }\n",
              "    40% {\n",
              "      border-color: transparent;\n",
              "      border-right-color: var(--fill-color);\n",
              "      border-top-color: var(--fill-color);\n",
              "    }\n",
              "    60% {\n",
              "      border-color: transparent;\n",
              "      border-right-color: var(--fill-color);\n",
              "    }\n",
              "    80% {\n",
              "      border-color: transparent;\n",
              "      border-right-color: var(--fill-color);\n",
              "      border-bottom-color: var(--fill-color);\n",
              "    }\n",
              "    90% {\n",
              "      border-color: transparent;\n",
              "      border-bottom-color: var(--fill-color);\n",
              "    }\n",
              "  }\n",
              "</style>\n",
              "\n",
              "  <script>\n",
              "    async function quickchart(key) {\n",
              "      const quickchartButtonEl =\n",
              "        document.querySelector('#' + key + ' button');\n",
              "      quickchartButtonEl.disabled = true;  // To prevent multiple clicks.\n",
              "      quickchartButtonEl.classList.add('colab-df-spinner');\n",
              "      try {\n",
              "        const charts = await google.colab.kernel.invokeFunction(\n",
              "            'suggestCharts', [key], {});\n",
              "      } catch (error) {\n",
              "        console.error('Error during call to suggestCharts:', error);\n",
              "      }\n",
              "      quickchartButtonEl.classList.remove('colab-df-spinner');\n",
              "      quickchartButtonEl.classList.add('colab-df-quickchart-complete');\n",
              "    }\n",
              "    (() => {\n",
              "      let quickchartButtonEl =\n",
              "        document.querySelector('#df-dd3ee9e7-3488-4be4-a647-3ae32ca5c254 button');\n",
              "      quickchartButtonEl.style.display =\n",
              "        google.colab.kernel.accessAllowed ? 'block' : 'none';\n",
              "    })();\n",
              "  </script>\n",
              "</div>\n",
              "\n",
              "    </div>\n",
              "  </div>\n"
            ],
            "application/vnd.google.colaboratory.intrinsic+json": {
              "type": "dataframe",
              "summary": "{\n  \"name\": \"car_data[['mileage', 'year_of_manufacture', 'price (AUD)']]\",\n  \"rows\": 8,\n  \"fields\": [\n    {\n      \"column\": \"mileage\",\n      \"properties\": {\n        \"dtype\": \"number\",\n        \"std\": 39228.88061391182,\n        \"min\": 1.0,\n        \"max\": 128000.0,\n        \"num_unique_values\": 8,\n        \"samples\": [\n          54900.176463596574,\n          60585.71998781231,\n          19940.0\n        ],\n        \"semantic_type\": \"\",\n        \"description\": \"\"\n      }\n    },\n    {\n      \"column\": \"year_of_manufacture\",\n      \"properties\": {\n        \"dtype\": \"number\",\n        \"std\": 6477.474606824136,\n        \"min\": 4.928475543036507,\n        \"max\": 19940.0,\n        \"num_unique_values\": 8,\n        \"samples\": [\n          2017.5760280842528,\n          2019.0,\n          19940.0\n        ],\n        \"semantic_type\": \"\",\n        \"description\": \"\"\n      }\n    },\n    {\n      \"column\": \"price (AUD)\",\n      \"properties\": {\n        \"dtype\": \"number\",\n        \"std\": 12544.14487605591,\n        \"min\": 1012.148003,\n        \"max\": 40485.92011,\n        \"num_unique_values\": 8,\n        \"samples\": [\n          24990.691522508223,\n          24089.12247,\n          19940.0\n        ],\n        \"semantic_type\": \"\",\n        \"description\": \"\"\n      }\n    }\n  ]\n}"
            }
          },
          "metadata": {},
          "execution_count": 54
        }
      ]
    },
    {
      "cell_type": "markdown",
      "source": [
        "### (After cleaning) Mode of mileage, year of manufacturer, price\n"
      ],
      "metadata": {
        "id": "Ee3k1gvXlLbs"
      }
    },
    {
      "cell_type": "code",
      "source": [
        "car_data[['mileage', 'year_of_manufacture', 'price (AUD)']].mode()\n"
      ],
      "metadata": {
        "colab": {
          "base_uri": "https://localhost:8080/",
          "height": 81
        },
        "id": "8IOMHG67lOmu",
        "outputId": "4a0a7f60-92d2-4a05-c954-dc814789cfec"
      },
      "execution_count": null,
      "outputs": [
        {
          "output_type": "execute_result",
          "data": {
            "text/plain": [
              "    mileage  year_of_manufacture  price (AUD)\n",
              "0 60585.720                 2023    40485.920"
            ],
            "text/html": [
              "\n",
              "  <div id=\"df-85c0dacf-b123-484d-a6cb-9926ab0cfc82\" class=\"colab-df-container\">\n",
              "    <div>\n",
              "<style scoped>\n",
              "    .dataframe tbody tr th:only-of-type {\n",
              "        vertical-align: middle;\n",
              "    }\n",
              "\n",
              "    .dataframe tbody tr th {\n",
              "        vertical-align: top;\n",
              "    }\n",
              "\n",
              "    .dataframe thead th {\n",
              "        text-align: right;\n",
              "    }\n",
              "</style>\n",
              "<table border=\"1\" class=\"dataframe\">\n",
              "  <thead>\n",
              "    <tr style=\"text-align: right;\">\n",
              "      <th></th>\n",
              "      <th>mileage</th>\n",
              "      <th>year_of_manufacture</th>\n",
              "      <th>price (AUD)</th>\n",
              "    </tr>\n",
              "  </thead>\n",
              "  <tbody>\n",
              "    <tr>\n",
              "      <th>0</th>\n",
              "      <td>60585.720</td>\n",
              "      <td>2023</td>\n",
              "      <td>40485.920</td>\n",
              "    </tr>\n",
              "  </tbody>\n",
              "</table>\n",
              "</div>\n",
              "    <div class=\"colab-df-buttons\">\n",
              "\n",
              "  <div class=\"colab-df-container\">\n",
              "    <button class=\"colab-df-convert\" onclick=\"convertToInteractive('df-85c0dacf-b123-484d-a6cb-9926ab0cfc82')\"\n",
              "            title=\"Convert this dataframe to an interactive table.\"\n",
              "            style=\"display:none;\">\n",
              "\n",
              "  <svg xmlns=\"http://www.w3.org/2000/svg\" height=\"24px\" viewBox=\"0 -960 960 960\">\n",
              "    <path d=\"M120-120v-720h720v720H120Zm60-500h600v-160H180v160Zm220 220h160v-160H400v160Zm0 220h160v-160H400v160ZM180-400h160v-160H180v160Zm440 0h160v-160H620v160ZM180-180h160v-160H180v160Zm440 0h160v-160H620v160Z\"/>\n",
              "  </svg>\n",
              "    </button>\n",
              "\n",
              "  <style>\n",
              "    .colab-df-container {\n",
              "      display:flex;\n",
              "      gap: 12px;\n",
              "    }\n",
              "\n",
              "    .colab-df-convert {\n",
              "      background-color: #E8F0FE;\n",
              "      border: none;\n",
              "      border-radius: 50%;\n",
              "      cursor: pointer;\n",
              "      display: none;\n",
              "      fill: #1967D2;\n",
              "      height: 32px;\n",
              "      padding: 0 0 0 0;\n",
              "      width: 32px;\n",
              "    }\n",
              "\n",
              "    .colab-df-convert:hover {\n",
              "      background-color: #E2EBFA;\n",
              "      box-shadow: 0px 1px 2px rgba(60, 64, 67, 0.3), 0px 1px 3px 1px rgba(60, 64, 67, 0.15);\n",
              "      fill: #174EA6;\n",
              "    }\n",
              "\n",
              "    .colab-df-buttons div {\n",
              "      margin-bottom: 4px;\n",
              "    }\n",
              "\n",
              "    [theme=dark] .colab-df-convert {\n",
              "      background-color: #3B4455;\n",
              "      fill: #D2E3FC;\n",
              "    }\n",
              "\n",
              "    [theme=dark] .colab-df-convert:hover {\n",
              "      background-color: #434B5C;\n",
              "      box-shadow: 0px 1px 3px 1px rgba(0, 0, 0, 0.15);\n",
              "      filter: drop-shadow(0px 1px 2px rgba(0, 0, 0, 0.3));\n",
              "      fill: #FFFFFF;\n",
              "    }\n",
              "  </style>\n",
              "\n",
              "    <script>\n",
              "      const buttonEl =\n",
              "        document.querySelector('#df-85c0dacf-b123-484d-a6cb-9926ab0cfc82 button.colab-df-convert');\n",
              "      buttonEl.style.display =\n",
              "        google.colab.kernel.accessAllowed ? 'block' : 'none';\n",
              "\n",
              "      async function convertToInteractive(key) {\n",
              "        const element = document.querySelector('#df-85c0dacf-b123-484d-a6cb-9926ab0cfc82');\n",
              "        const dataTable =\n",
              "          await google.colab.kernel.invokeFunction('convertToInteractive',\n",
              "                                                    [key], {});\n",
              "        if (!dataTable) return;\n",
              "\n",
              "        const docLinkHtml = 'Like what you see? Visit the ' +\n",
              "          '<a target=\"_blank\" href=https://colab.research.google.com/notebooks/data_table.ipynb>data table notebook</a>'\n",
              "          + ' to learn more about interactive tables.';\n",
              "        element.innerHTML = '';\n",
              "        dataTable['output_type'] = 'display_data';\n",
              "        await google.colab.output.renderOutput(dataTable, element);\n",
              "        const docLink = document.createElement('div');\n",
              "        docLink.innerHTML = docLinkHtml;\n",
              "        element.appendChild(docLink);\n",
              "      }\n",
              "    </script>\n",
              "  </div>\n",
              "\n",
              "\n",
              "    </div>\n",
              "  </div>\n"
            ],
            "application/vnd.google.colaboratory.intrinsic+json": {
              "type": "dataframe",
              "summary": "{\n  \"name\": \"car_data[['mileage', 'year_of_manufacture', 'price (AUD)']]\",\n  \"rows\": 1,\n  \"fields\": [\n    {\n      \"column\": \"mileage\",\n      \"properties\": {\n        \"dtype\": \"number\",\n        \"std\": null,\n        \"min\": 60585.71998781231,\n        \"max\": 60585.71998781231,\n        \"num_unique_values\": 1,\n        \"samples\": [\n          60585.71998781231\n        ],\n        \"semantic_type\": \"\",\n        \"description\": \"\"\n      }\n    },\n    {\n      \"column\": \"year_of_manufacture\",\n      \"properties\": {\n        \"dtype\": \"number\",\n        \"std\": null,\n        \"min\": 2023,\n        \"max\": 2023,\n        \"num_unique_values\": 1,\n        \"samples\": [\n          2023\n        ],\n        \"semantic_type\": \"\",\n        \"description\": \"\"\n      }\n    },\n    {\n      \"column\": \"price (AUD)\",\n      \"properties\": {\n        \"dtype\": \"number\",\n        \"std\": null,\n        \"min\": 40485.92011,\n        \"max\": 40485.92011,\n        \"num_unique_values\": 1,\n        \"samples\": [\n          40485.92011\n        ],\n        \"semantic_type\": \"\",\n        \"description\": \"\"\n      }\n    }\n  ]\n}"
            }
          },
          "metadata": {},
          "execution_count": 55
        }
      ]
    },
    {
      "cell_type": "markdown",
      "metadata": {
        "id": "VMHQudblqfe-"
      },
      "source": [
        "# Data Formatting"
      ]
    },
    {
      "cell_type": "markdown",
      "metadata": {
        "id": "azIcDcnLxhWT"
      },
      "source": [
        "## a. Numerical Conversion"
      ]
    },
    {
      "cell_type": "code",
      "execution_count": null,
      "metadata": {
        "scrolled": true,
        "id": "li_lDwkrxhWT"
      },
      "outputs": [],
      "source": [
        "car_data['num_of_doors'] = car_data['num_of_doors'].str.replace('-door', '')"
      ]
    },
    {
      "cell_type": "code",
      "source": [
        "car_data['num_of_doors'] = car_data['num_of_doors'].astype(int)\n"
      ],
      "metadata": {
        "id": "V8d2WYYsg-6x"
      },
      "execution_count": null,
      "outputs": []
    },
    {
      "cell_type": "code",
      "source": [
        "car_data['seating_capacity'] = car_data['seating_capacity'].str.replace('-seat', '')"
      ],
      "metadata": {
        "id": "fsPSGi1shy1-"
      },
      "execution_count": null,
      "outputs": []
    },
    {
      "cell_type": "code",
      "source": [
        "car_data['seating_capacity'] = car_data['seating_capacity'].astype(int)\n"
      ],
      "metadata": {
        "id": "3vsMNblkhNxD"
      },
      "execution_count": null,
      "outputs": []
    },
    {
      "cell_type": "markdown",
      "source": [
        "Note: The mileage column is already in numerical format following the previous data cleaning process."
      ],
      "metadata": {
        "id": "v7SrD8V5gq4-"
      }
    },
    {
      "cell_type": "markdown",
      "metadata": {
        "id": "NYl5FZcLxhWT"
      },
      "source": [
        "## b. Engine Feature Split"
      ]
    },
    {
      "cell_type": "code",
      "execution_count": null,
      "metadata": {
        "scrolled": true,
        "id": "Bc6Jm0sQxhWT"
      },
      "outputs": [],
      "source": [
        "car_data['type_of_engine'] = car_data['engine'].str.split('\\t').str[0]  #there's a tab character that could be use for splitting"
      ]
    },
    {
      "cell_type": "code",
      "source": [
        "car_data['engine_capacity'] = car_data['engine'].str.split('\\t').str[1]  #there's a tab character that could be use for splitting\n",
        "car_data['engine_capacity'] = car_data['engine_capacity'].str.replace(' L', '')\n",
        "car_data['engine_capacity'] = car_data['engine_capacity'].astype(float)  #convert to float"
      ],
      "metadata": {
        "id": "IJTrtxnroBAp"
      },
      "execution_count": null,
      "outputs": []
    },
    {
      "cell_type": "markdown",
      "metadata": {
        "id": "dqbFI-hQxhWU"
      },
      "source": [
        "## c. Standardizing Text Data"
      ]
    },
    {
      "cell_type": "code",
      "source": [
        "car_data['interior_color'] = car_data['interior_color'].str.replace('gray', 'grey')"
      ],
      "metadata": {
        "id": "1HAJXfrj9mD9"
      },
      "execution_count": null,
      "outputs": []
    },
    {
      "cell_type": "markdown",
      "source": [
        "We removed any invalid or incorrect information from both the exterior and interior color columns and standardized the spelling for the color \"grey.\""
      ],
      "metadata": {
        "id": "0S81D3nLp1M3"
      }
    },
    {
      "cell_type": "code",
      "execution_count": null,
      "metadata": {
        "id": "n9LpdzuXxhWU"
      },
      "outputs": [],
      "source": [
        "car_data['origin'] = car_data['origin'].str.lower()\n"
      ]
    },
    {
      "cell_type": "code",
      "source": [
        "car_data['condition'] = car_data['condition'].str.lower()\n"
      ],
      "metadata": {
        "id": "lSp166p2ioiK"
      },
      "execution_count": null,
      "outputs": []
    },
    {
      "cell_type": "code",
      "source": [
        "car_data['car_model'] = car_data['car_model'].str.lower()\n"
      ],
      "metadata": {
        "id": "PuTl3yOciqa0"
      },
      "execution_count": null,
      "outputs": []
    },
    {
      "cell_type": "code",
      "source": [
        "car_data['exterior_color'] = car_data['exterior_color'].str.lower()\n"
      ],
      "metadata": {
        "id": "cH-S-5zFiuIE"
      },
      "execution_count": null,
      "outputs": []
    },
    {
      "cell_type": "code",
      "source": [
        "car_data['interior_color'] = car_data['interior_color'].str.lower()\n"
      ],
      "metadata": {
        "id": "p2fH5fhtixYh"
      },
      "execution_count": null,
      "outputs": []
    },
    {
      "cell_type": "code",
      "source": [
        "car_data['type_of_engine'] = car_data['type_of_engine'].str.lower()\n"
      ],
      "metadata": {
        "id": "nV-lVPgii3AI"
      },
      "execution_count": null,
      "outputs": []
    },
    {
      "cell_type": "code",
      "source": [
        "car_data['transmission'] = car_data['transmission'].str.lower()\n"
      ],
      "metadata": {
        "id": "vokMIxhvi61V"
      },
      "execution_count": null,
      "outputs": []
    },
    {
      "cell_type": "code",
      "source": [
        "car_data['drive_type'] = car_data['drive_type'].str.lower()\n"
      ],
      "metadata": {
        "id": "0PUwPUM_i8go"
      },
      "execution_count": null,
      "outputs": []
    },
    {
      "cell_type": "code",
      "source": [
        "car_data['brand'] = car_data['brand'].str.lower()\n"
      ],
      "metadata": {
        "id": "XU-YgwZQi_RP"
      },
      "execution_count": null,
      "outputs": []
    },
    {
      "cell_type": "code",
      "source": [
        "car_data['grade'] = car_data['grade'].str.lower()\n"
      ],
      "metadata": {
        "id": "fMpHI3UnjBxQ"
      },
      "execution_count": null,
      "outputs": []
    },
    {
      "cell_type": "markdown",
      "metadata": {
        "id": "EibVVUXPxhWU"
      },
      "source": [
        "## d. Numerical Scaling"
      ]
    },
    {
      "cell_type": "code",
      "execution_count": null,
      "metadata": {
        "id": "3lg_zMt6xhWU"
      },
      "outputs": [],
      "source": [
        "from sklearn.preprocessing import MinMaxScaler"
      ]
    },
    {
      "cell_type": "code",
      "source": [
        "scaler = MinMaxScaler()"
      ],
      "metadata": {
        "id": "0XHzBFYIDxh7"
      },
      "execution_count": null,
      "outputs": []
    },
    {
      "cell_type": "code",
      "source": [
        "columns_to_normalize = ['mileage','engine_capacity', 'num_of_doors', 'seating_capacity', 'fuel_consumption', 'price (AUD)']"
      ],
      "metadata": {
        "id": "pLtxKRbxDyxW"
      },
      "execution_count": null,
      "outputs": []
    },
    {
      "cell_type": "code",
      "source": [
        "normalize_column = columns_to_normalize.copy()\n",
        "for i in range(len(columns_to_normalize)):\n",
        "    normalize_column[i] = 'normalised_'+columns_to_normalize[i]"
      ],
      "metadata": {
        "id": "ZCH0Cwb4dbpk"
      },
      "execution_count": null,
      "outputs": []
    },
    {
      "cell_type": "code",
      "source": [
        "car_data[normalize_column] = scaler.fit_transform(car_data[columns_to_normalize])"
      ],
      "metadata": {
        "id": "2Ns4TAk-Dzxt"
      },
      "execution_count": null,
      "outputs": []
    },
    {
      "cell_type": "code",
      "source": [
        "car_data[normalize_column]"
      ],
      "metadata": {
        "colab": {
          "base_uri": "https://localhost:8080/",
          "height": 461
        },
        "id": "XtfTNmLZnEBH",
        "outputId": "8dbbb3b3-45b7-47ae-8c4a-f70f14230795"
      },
      "execution_count": null,
      "outputs": [
        {
          "output_type": "execute_result",
          "data": {
            "text/plain": [
              "       normalised_mileage  normalised_engine_capacity  \\\n",
              "0                   0.393                       0.138   \n",
              "2                   0.441                       0.310   \n",
              "3                   0.473                       0.276   \n",
              "4                   0.441                       0.310   \n",
              "5                   0.737                       0.138   \n",
              "...                   ...                         ...   \n",
              "30622               0.375                       0.207   \n",
              "30630               0.312                       0.181   \n",
              "30637               0.503                       0.310   \n",
              "30643               0.441                       0.224   \n",
              "30650               0.234                       0.310   \n",
              "\n",
              "       normalised_num_of_doors  normalised_seating_capacity  \\\n",
              "0                        0.000                        0.000   \n",
              "2                        1.000                        0.429   \n",
              "3                        1.000                        0.214   \n",
              "4                        1.000                        0.429   \n",
              "5                        1.000                        0.000   \n",
              "...                        ...                          ...   \n",
              "30622                    0.667                        0.214   \n",
              "30630                    1.000                        0.214   \n",
              "30637                    0.667                        0.214   \n",
              "30643                    1.000                        0.214   \n",
              "30650                    1.000                        0.214   \n",
              "\n",
              "       normalised_fuel_consumption  normalised_price (AUD)  \n",
              "0                            0.114                   0.230  \n",
              "2                            0.608                   0.882  \n",
              "3                            0.489                   0.748  \n",
              "4                            0.608                   0.846  \n",
              "5                            0.500                   0.281  \n",
              "...                            ...                     ...  \n",
              "30622                        0.196                   0.415  \n",
              "30630                        0.084                   0.308  \n",
              "30637                        0.608                   0.268  \n",
              "30643                        0.290                   0.486  \n",
              "30650                        0.608                   1.000  \n",
              "\n",
              "[19940 rows x 6 columns]"
            ],
            "text/html": [
              "\n",
              "  <div id=\"df-3eeb7764-2202-44a2-87fc-b7008ad91c27\" class=\"colab-df-container\">\n",
              "    <div>\n",
              "<style scoped>\n",
              "    .dataframe tbody tr th:only-of-type {\n",
              "        vertical-align: middle;\n",
              "    }\n",
              "\n",
              "    .dataframe tbody tr th {\n",
              "        vertical-align: top;\n",
              "    }\n",
              "\n",
              "    .dataframe thead th {\n",
              "        text-align: right;\n",
              "    }\n",
              "</style>\n",
              "<table border=\"1\" class=\"dataframe\">\n",
              "  <thead>\n",
              "    <tr style=\"text-align: right;\">\n",
              "      <th></th>\n",
              "      <th>normalised_mileage</th>\n",
              "      <th>normalised_engine_capacity</th>\n",
              "      <th>normalised_num_of_doors</th>\n",
              "      <th>normalised_seating_capacity</th>\n",
              "      <th>normalised_fuel_consumption</th>\n",
              "      <th>normalised_price (AUD)</th>\n",
              "    </tr>\n",
              "  </thead>\n",
              "  <tbody>\n",
              "    <tr>\n",
              "      <th>0</th>\n",
              "      <td>0.393</td>\n",
              "      <td>0.138</td>\n",
              "      <td>0.000</td>\n",
              "      <td>0.000</td>\n",
              "      <td>0.114</td>\n",
              "      <td>0.230</td>\n",
              "    </tr>\n",
              "    <tr>\n",
              "      <th>2</th>\n",
              "      <td>0.441</td>\n",
              "      <td>0.310</td>\n",
              "      <td>1.000</td>\n",
              "      <td>0.429</td>\n",
              "      <td>0.608</td>\n",
              "      <td>0.882</td>\n",
              "    </tr>\n",
              "    <tr>\n",
              "      <th>3</th>\n",
              "      <td>0.473</td>\n",
              "      <td>0.276</td>\n",
              "      <td>1.000</td>\n",
              "      <td>0.214</td>\n",
              "      <td>0.489</td>\n",
              "      <td>0.748</td>\n",
              "    </tr>\n",
              "    <tr>\n",
              "      <th>4</th>\n",
              "      <td>0.441</td>\n",
              "      <td>0.310</td>\n",
              "      <td>1.000</td>\n",
              "      <td>0.429</td>\n",
              "      <td>0.608</td>\n",
              "      <td>0.846</td>\n",
              "    </tr>\n",
              "    <tr>\n",
              "      <th>5</th>\n",
              "      <td>0.737</td>\n",
              "      <td>0.138</td>\n",
              "      <td>1.000</td>\n",
              "      <td>0.000</td>\n",
              "      <td>0.500</td>\n",
              "      <td>0.281</td>\n",
              "    </tr>\n",
              "    <tr>\n",
              "      <th>...</th>\n",
              "      <td>...</td>\n",
              "      <td>...</td>\n",
              "      <td>...</td>\n",
              "      <td>...</td>\n",
              "      <td>...</td>\n",
              "      <td>...</td>\n",
              "    </tr>\n",
              "    <tr>\n",
              "      <th>30622</th>\n",
              "      <td>0.375</td>\n",
              "      <td>0.207</td>\n",
              "      <td>0.667</td>\n",
              "      <td>0.214</td>\n",
              "      <td>0.196</td>\n",
              "      <td>0.415</td>\n",
              "    </tr>\n",
              "    <tr>\n",
              "      <th>30630</th>\n",
              "      <td>0.312</td>\n",
              "      <td>0.181</td>\n",
              "      <td>1.000</td>\n",
              "      <td>0.214</td>\n",
              "      <td>0.084</td>\n",
              "      <td>0.308</td>\n",
              "    </tr>\n",
              "    <tr>\n",
              "      <th>30637</th>\n",
              "      <td>0.503</td>\n",
              "      <td>0.310</td>\n",
              "      <td>0.667</td>\n",
              "      <td>0.214</td>\n",
              "      <td>0.608</td>\n",
              "      <td>0.268</td>\n",
              "    </tr>\n",
              "    <tr>\n",
              "      <th>30643</th>\n",
              "      <td>0.441</td>\n",
              "      <td>0.224</td>\n",
              "      <td>1.000</td>\n",
              "      <td>0.214</td>\n",
              "      <td>0.290</td>\n",
              "      <td>0.486</td>\n",
              "    </tr>\n",
              "    <tr>\n",
              "      <th>30650</th>\n",
              "      <td>0.234</td>\n",
              "      <td>0.310</td>\n",
              "      <td>1.000</td>\n",
              "      <td>0.214</td>\n",
              "      <td>0.608</td>\n",
              "      <td>1.000</td>\n",
              "    </tr>\n",
              "  </tbody>\n",
              "</table>\n",
              "<p>19940 rows × 6 columns</p>\n",
              "</div>\n",
              "    <div class=\"colab-df-buttons\">\n",
              "\n",
              "  <div class=\"colab-df-container\">\n",
              "    <button class=\"colab-df-convert\" onclick=\"convertToInteractive('df-3eeb7764-2202-44a2-87fc-b7008ad91c27')\"\n",
              "            title=\"Convert this dataframe to an interactive table.\"\n",
              "            style=\"display:none;\">\n",
              "\n",
              "  <svg xmlns=\"http://www.w3.org/2000/svg\" height=\"24px\" viewBox=\"0 -960 960 960\">\n",
              "    <path d=\"M120-120v-720h720v720H120Zm60-500h600v-160H180v160Zm220 220h160v-160H400v160Zm0 220h160v-160H400v160ZM180-400h160v-160H180v160Zm440 0h160v-160H620v160ZM180-180h160v-160H180v160Zm440 0h160v-160H620v160Z\"/>\n",
              "  </svg>\n",
              "    </button>\n",
              "\n",
              "  <style>\n",
              "    .colab-df-container {\n",
              "      display:flex;\n",
              "      gap: 12px;\n",
              "    }\n",
              "\n",
              "    .colab-df-convert {\n",
              "      background-color: #E8F0FE;\n",
              "      border: none;\n",
              "      border-radius: 50%;\n",
              "      cursor: pointer;\n",
              "      display: none;\n",
              "      fill: #1967D2;\n",
              "      height: 32px;\n",
              "      padding: 0 0 0 0;\n",
              "      width: 32px;\n",
              "    }\n",
              "\n",
              "    .colab-df-convert:hover {\n",
              "      background-color: #E2EBFA;\n",
              "      box-shadow: 0px 1px 2px rgba(60, 64, 67, 0.3), 0px 1px 3px 1px rgba(60, 64, 67, 0.15);\n",
              "      fill: #174EA6;\n",
              "    }\n",
              "\n",
              "    .colab-df-buttons div {\n",
              "      margin-bottom: 4px;\n",
              "    }\n",
              "\n",
              "    [theme=dark] .colab-df-convert {\n",
              "      background-color: #3B4455;\n",
              "      fill: #D2E3FC;\n",
              "    }\n",
              "\n",
              "    [theme=dark] .colab-df-convert:hover {\n",
              "      background-color: #434B5C;\n",
              "      box-shadow: 0px 1px 3px 1px rgba(0, 0, 0, 0.15);\n",
              "      filter: drop-shadow(0px 1px 2px rgba(0, 0, 0, 0.3));\n",
              "      fill: #FFFFFF;\n",
              "    }\n",
              "  </style>\n",
              "\n",
              "    <script>\n",
              "      const buttonEl =\n",
              "        document.querySelector('#df-3eeb7764-2202-44a2-87fc-b7008ad91c27 button.colab-df-convert');\n",
              "      buttonEl.style.display =\n",
              "        google.colab.kernel.accessAllowed ? 'block' : 'none';\n",
              "\n",
              "      async function convertToInteractive(key) {\n",
              "        const element = document.querySelector('#df-3eeb7764-2202-44a2-87fc-b7008ad91c27');\n",
              "        const dataTable =\n",
              "          await google.colab.kernel.invokeFunction('convertToInteractive',\n",
              "                                                    [key], {});\n",
              "        if (!dataTable) return;\n",
              "\n",
              "        const docLinkHtml = 'Like what you see? Visit the ' +\n",
              "          '<a target=\"_blank\" href=https://colab.research.google.com/notebooks/data_table.ipynb>data table notebook</a>'\n",
              "          + ' to learn more about interactive tables.';\n",
              "        element.innerHTML = '';\n",
              "        dataTable['output_type'] = 'display_data';\n",
              "        await google.colab.output.renderOutput(dataTable, element);\n",
              "        const docLink = document.createElement('div');\n",
              "        docLink.innerHTML = docLinkHtml;\n",
              "        element.appendChild(docLink);\n",
              "      }\n",
              "    </script>\n",
              "  </div>\n",
              "\n",
              "\n",
              "<div id=\"df-427d20ef-555a-4b55-bfdb-f7be0bea2b59\">\n",
              "  <button class=\"colab-df-quickchart\" onclick=\"quickchart('df-427d20ef-555a-4b55-bfdb-f7be0bea2b59')\"\n",
              "            title=\"Suggest charts\"\n",
              "            style=\"display:none;\">\n",
              "\n",
              "<svg xmlns=\"http://www.w3.org/2000/svg\" height=\"24px\"viewBox=\"0 0 24 24\"\n",
              "     width=\"24px\">\n",
              "    <g>\n",
              "        <path d=\"M19 3H5c-1.1 0-2 .9-2 2v14c0 1.1.9 2 2 2h14c1.1 0 2-.9 2-2V5c0-1.1-.9-2-2-2zM9 17H7v-7h2v7zm4 0h-2V7h2v10zm4 0h-2v-4h2v4z\"/>\n",
              "    </g>\n",
              "</svg>\n",
              "  </button>\n",
              "\n",
              "<style>\n",
              "  .colab-df-quickchart {\n",
              "      --bg-color: #E8F0FE;\n",
              "      --fill-color: #1967D2;\n",
              "      --hover-bg-color: #E2EBFA;\n",
              "      --hover-fill-color: #174EA6;\n",
              "      --disabled-fill-color: #AAA;\n",
              "      --disabled-bg-color: #DDD;\n",
              "  }\n",
              "\n",
              "  [theme=dark] .colab-df-quickchart {\n",
              "      --bg-color: #3B4455;\n",
              "      --fill-color: #D2E3FC;\n",
              "      --hover-bg-color: #434B5C;\n",
              "      --hover-fill-color: #FFFFFF;\n",
              "      --disabled-bg-color: #3B4455;\n",
              "      --disabled-fill-color: #666;\n",
              "  }\n",
              "\n",
              "  .colab-df-quickchart {\n",
              "    background-color: var(--bg-color);\n",
              "    border: none;\n",
              "    border-radius: 50%;\n",
              "    cursor: pointer;\n",
              "    display: none;\n",
              "    fill: var(--fill-color);\n",
              "    height: 32px;\n",
              "    padding: 0;\n",
              "    width: 32px;\n",
              "  }\n",
              "\n",
              "  .colab-df-quickchart:hover {\n",
              "    background-color: var(--hover-bg-color);\n",
              "    box-shadow: 0 1px 2px rgba(60, 64, 67, 0.3), 0 1px 3px 1px rgba(60, 64, 67, 0.15);\n",
              "    fill: var(--button-hover-fill-color);\n",
              "  }\n",
              "\n",
              "  .colab-df-quickchart-complete:disabled,\n",
              "  .colab-df-quickchart-complete:disabled:hover {\n",
              "    background-color: var(--disabled-bg-color);\n",
              "    fill: var(--disabled-fill-color);\n",
              "    box-shadow: none;\n",
              "  }\n",
              "\n",
              "  .colab-df-spinner {\n",
              "    border: 2px solid var(--fill-color);\n",
              "    border-color: transparent;\n",
              "    border-bottom-color: var(--fill-color);\n",
              "    animation:\n",
              "      spin 1s steps(1) infinite;\n",
              "  }\n",
              "\n",
              "  @keyframes spin {\n",
              "    0% {\n",
              "      border-color: transparent;\n",
              "      border-bottom-color: var(--fill-color);\n",
              "      border-left-color: var(--fill-color);\n",
              "    }\n",
              "    20% {\n",
              "      border-color: transparent;\n",
              "      border-left-color: var(--fill-color);\n",
              "      border-top-color: var(--fill-color);\n",
              "    }\n",
              "    30% {\n",
              "      border-color: transparent;\n",
              "      border-left-color: var(--fill-color);\n",
              "      border-top-color: var(--fill-color);\n",
              "      border-right-color: var(--fill-color);\n",
              "    }\n",
              "    40% {\n",
              "      border-color: transparent;\n",
              "      border-right-color: var(--fill-color);\n",
              "      border-top-color: var(--fill-color);\n",
              "    }\n",
              "    60% {\n",
              "      border-color: transparent;\n",
              "      border-right-color: var(--fill-color);\n",
              "    }\n",
              "    80% {\n",
              "      border-color: transparent;\n",
              "      border-right-color: var(--fill-color);\n",
              "      border-bottom-color: var(--fill-color);\n",
              "    }\n",
              "    90% {\n",
              "      border-color: transparent;\n",
              "      border-bottom-color: var(--fill-color);\n",
              "    }\n",
              "  }\n",
              "</style>\n",
              "\n",
              "  <script>\n",
              "    async function quickchart(key) {\n",
              "      const quickchartButtonEl =\n",
              "        document.querySelector('#' + key + ' button');\n",
              "      quickchartButtonEl.disabled = true;  // To prevent multiple clicks.\n",
              "      quickchartButtonEl.classList.add('colab-df-spinner');\n",
              "      try {\n",
              "        const charts = await google.colab.kernel.invokeFunction(\n",
              "            'suggestCharts', [key], {});\n",
              "      } catch (error) {\n",
              "        console.error('Error during call to suggestCharts:', error);\n",
              "      }\n",
              "      quickchartButtonEl.classList.remove('colab-df-spinner');\n",
              "      quickchartButtonEl.classList.add('colab-df-quickchart-complete');\n",
              "    }\n",
              "    (() => {\n",
              "      let quickchartButtonEl =\n",
              "        document.querySelector('#df-427d20ef-555a-4b55-bfdb-f7be0bea2b59 button');\n",
              "      quickchartButtonEl.style.display =\n",
              "        google.colab.kernel.accessAllowed ? 'block' : 'none';\n",
              "    })();\n",
              "  </script>\n",
              "</div>\n",
              "\n",
              "    </div>\n",
              "  </div>\n"
            ],
            "application/vnd.google.colaboratory.intrinsic+json": {
              "type": "dataframe",
              "summary": "{\n  \"name\": \"car_data[normalize_column]\",\n  \"rows\": 19940,\n  \"fields\": [\n    {\n      \"column\": \"normalised_mileage\",\n      \"properties\": {\n        \"dtype\": \"number\",\n        \"std\": 0.2113965310568123,\n        \"min\": 0.0,\n        \"max\": 1.0,\n        \"num_unique_values\": 1181,\n        \"samples\": [\n          0.09156321533761982,\n          0.1257666075516215,\n          0.7507793029633044\n        ],\n        \"semantic_type\": \"\",\n        \"description\": \"\"\n      }\n    },\n    {\n      \"column\": \"normalised_engine_capacity\",\n      \"properties\": {\n        \"dtype\": \"number\",\n        \"std\": 0.09250386391901495,\n        \"min\": 0.0,\n        \"max\": 1.0,\n        \"num_unique_values\": 43,\n        \"samples\": [\n          0.15517241379310345,\n          1.0,\n          0.7758620689655173\n        ],\n        \"semantic_type\": \"\",\n        \"description\": \"\"\n      }\n    },\n    {\n      \"column\": \"normalised_num_of_doors\",\n      \"properties\": {\n        \"dtype\": \"number\",\n        \"std\": 0.18154670491199457,\n        \"min\": 0.0,\n        \"max\": 0.9999999999999999,\n        \"num_unique_values\": 4,\n        \"samples\": [\n          0.9999999999999999,\n          0.33333333333333337,\n          0.0\n        ],\n        \"semantic_type\": \"\",\n        \"description\": \"\"\n      }\n    },\n    {\n      \"column\": \"normalised_seating_capacity\",\n      \"properties\": {\n        \"dtype\": \"number\",\n        \"std\": 0.08925982431805653,\n        \"min\": 0.0,\n        \"max\": 1.0,\n        \"num_unique_values\": 11,\n        \"samples\": [\n          0.07142857142857142,\n          0.0,\n          0.49999999999999994\n        ],\n        \"semantic_type\": \"\",\n        \"description\": \"\"\n      }\n    },\n    {\n      \"column\": \"normalised_fuel_consumption\",\n      \"properties\": {\n        \"dtype\": \"number\",\n        \"std\": 0.2312459417065187,\n        \"min\": 0.0,\n        \"max\": 1.0,\n        \"num_unique_values\": 48,\n        \"samples\": [\n          0.49242424242424265,\n          0.30000000000000004,\n          0.7259951923076924\n        ],\n        \"semantic_type\": \"\",\n        \"description\": \"\"\n      }\n    },\n    {\n      \"column\": \"normalised_price (AUD)\",\n      \"properties\": {\n        \"dtype\": \"number\",\n        \"std\": 0.26959406980608064,\n        \"min\": 0.0,\n        \"max\": 1.0,\n        \"num_unique_values\": 815,\n        \"samples\": [\n          0.7169230769304041,\n          0.6738461537169151,\n          0.47897435886668616\n        ],\n        \"semantic_type\": \"\",\n        \"description\": \"\"\n      }\n    }\n  ]\n}"
            }
          },
          "metadata": {},
          "execution_count": 78
        }
      ]
    },
    {
      "cell_type": "markdown",
      "metadata": {
        "id": "7FGco_s6tUyf"
      },
      "source": [
        "# Data Storage"
      ]
    },
    {
      "cell_type": "markdown",
      "source": [
        "## a. Cars Table"
      ],
      "metadata": {
        "id": "Qu726EKuLKSy"
      }
    },
    {
      "cell_type": "markdown",
      "source": [
        "This creates and stores a table for 'Cars' containing the dataset after cleaning and formatting, with the datatypes as specified.\n",
        "First we create a connection to the SQLite database file 'cars_database.db'.\n",
        "As it does not exist yet, it is instead created.\n",
        "The code below works as follows:\n",
        "\n",
        "\n",
        "*   con is the connection object for the SQL queries\n",
        "*   cur is the cursor object which is used to interact with the database.\n",
        "\n",
        "*   cur.execute() creates the new table using sql inside the parentheses.\n",
        "\n",
        "\n",
        "\n",
        "\n",
        "\n"
      ],
      "metadata": {
        "id": "ygVbe_7f57zZ"
      }
    },
    {
      "cell_type": "code",
      "source": [
        "con = sqlite3.connect('cars_dataset.db')\n",
        "cur = con.cursor()\n",
        "\n",
        "cur.execute('''\n",
        "CREATE TABLE IF NOT EXISTS Cars (\n",
        "    ad_id INTEGER PRIMARY KEY,\n",
        "    car_name VARCHAR(255),\n",
        "    origin VARCHAR(255),\n",
        "    condition VARCHAR(255),\n",
        "    exterior_color VARCHAR(255),\n",
        "    car_model VARCHAR(255),\n",
        "    year_of_manufacture VARCHAR(255),\n",
        "    transmission VARCHAR(255),\n",
        "    price INTEGER,\n",
        "    drive_type VARCHAR(255)\n",
        ")\n",
        "''')"
      ],
      "metadata": {
        "id": "hYIsgwyESt5A",
        "colab": {
          "base_uri": "https://localhost:8080/"
        },
        "outputId": "18b9c45e-b021-4903-c36c-d1541180f13c"
      },
      "execution_count": null,
      "outputs": [
        {
          "output_type": "execute_result",
          "data": {
            "text/plain": [
              "<sqlite3.Cursor at 0x7acfefbadb40>"
            ]
          },
          "metadata": {},
          "execution_count": 79
        }
      ]
    },
    {
      "cell_type": "markdown",
      "source": [
        "Create new dataframe 'cars_db'."
      ],
      "metadata": {
        "id": "z-GSMRYTF4Ro"
      }
    },
    {
      "cell_type": "code",
      "source": [
        "cars_db = car_data[['ad_id','car_name', 'origin', 'condition', 'exterior_color', 'car_model',\n",
        "'year_of_manufacture','transmission', 'price (AUD)', 'drive_type']]"
      ],
      "metadata": {
        "id": "oLx9wr3zSu-z"
      },
      "execution_count": null,
      "outputs": []
    },
    {
      "cell_type": "markdown",
      "source": [
        "Need to rename 'price (AUD)' column to 'price'."
      ],
      "metadata": {
        "id": "8WntzEqf-L4_"
      }
    },
    {
      "cell_type": "code",
      "source": [
        "cars_db = cars_db.rename(columns={'price (AUD)': 'price'})"
      ],
      "metadata": {
        "id": "zDTsh53GNieE"
      },
      "execution_count": null,
      "outputs": []
    },
    {
      "cell_type": "markdown",
      "source": [
        "This command writes the dataframe to a SQLite database."
      ],
      "metadata": {
        "id": "JLpJoTwTKhrh"
      }
    },
    {
      "cell_type": "code",
      "source": [
        "cars_db.to_sql('Cars', con, if_exists='replace',index=False)"
      ],
      "metadata": {
        "id": "10FKiwK6Syo4",
        "colab": {
          "base_uri": "https://localhost:8080/"
        },
        "outputId": "6a165b4d-0d83-4331-f9b3-9c205eccc951"
      },
      "execution_count": null,
      "outputs": [
        {
          "output_type": "execute_result",
          "data": {
            "text/plain": [
              "19940"
            ]
          },
          "metadata": {},
          "execution_count": 82
        }
      ]
    },
    {
      "cell_type": "markdown",
      "source": [
        "Save changes to the database and close the connection."
      ],
      "metadata": {
        "id": "MbZHoinPGUul"
      }
    },
    {
      "cell_type": "code",
      "source": [
        "con.commit()\n",
        "con.close()"
      ],
      "metadata": {
        "id": "R1gsM5MvY2_Q"
      },
      "execution_count": null,
      "outputs": []
    },
    {
      "cell_type": "markdown",
      "source": [
        "## b. Sellers Table"
      ],
      "metadata": {
        "id": "wetATDOcLEoL"
      }
    },
    {
      "cell_type": "markdown",
      "source": [
        "Create and store a table for 'Sellers'"
      ],
      "metadata": {
        "id": "0wz9qsawL2_P"
      }
    },
    {
      "cell_type": "code",
      "source": [
        "con = sqlite3.connect('seller_dataset.db', timeout=10)\n",
        "cur = con.cursor()"
      ],
      "metadata": {
        "id": "eYtZcC3ESzgq"
      },
      "execution_count": null,
      "outputs": []
    },
    {
      "cell_type": "code",
      "source": [
        "cur.execute('''\n",
        "    CREATE TABLE IF NOT EXISTS Sellers (\n",
        "      ad_id INTEGER PRIMARY KEY,\n",
        "       seller TEXT\n",
        "    );\n",
        "''')"
      ],
      "metadata": {
        "colab": {
          "base_uri": "https://localhost:8080/"
        },
        "id": "0021MSuNd372",
        "outputId": "42eb7420-5c01-4c1e-91a0-d3d7c604a0f5"
      },
      "execution_count": null,
      "outputs": [
        {
          "output_type": "execute_result",
          "data": {
            "text/plain": [
              "<sqlite3.Cursor at 0x7acfed83c240>"
            ]
          },
          "metadata": {},
          "execution_count": 85
        }
      ]
    },
    {
      "cell_type": "markdown",
      "source": [
        "Rename 'name' column to 'seller_name' to match the database schema"
      ],
      "metadata": {
        "id": "rxD09QRgMCv_"
      }
    },
    {
      "cell_type": "markdown",
      "source": [
        "Insert data into the Sellers table"
      ],
      "metadata": {
        "id": "op4-Ko62MHc6"
      }
    },
    {
      "cell_type": "code",
      "source": [
        "sellers_data.to_sql('Sellers', con, if_exists='replace', index=False)"
      ],
      "metadata": {
        "colab": {
          "base_uri": "https://localhost:8080/"
        },
        "id": "dVzrrjXXeY1n",
        "outputId": "a802f9cf-fd7a-42ba-ab26-d864aa73d3ed"
      },
      "execution_count": null,
      "outputs": [
        {
          "output_type": "execute_result",
          "data": {
            "text/plain": [
              "30652"
            ]
          },
          "metadata": {},
          "execution_count": 86
        }
      ]
    },
    {
      "cell_type": "markdown",
      "source": [
        "Save changes to the database and close the connection."
      ],
      "metadata": {
        "id": "RkwNxxWTMTW6"
      }
    },
    {
      "cell_type": "code",
      "source": [
        "con.commit()\n",
        "con.close()"
      ],
      "metadata": {
        "id": "-j3mLlJjS3pb"
      },
      "execution_count": null,
      "outputs": []
    },
    {
      "cell_type": "code",
      "source": [
        "print(sellers_data)"
      ],
      "metadata": {
        "colab": {
          "base_uri": "https://localhost:8080/"
        },
        "id": "FK75izoWZ0Fk",
        "outputId": "070161ea-d7c2-47eb-ad37-e65064f36f91"
      },
      "execution_count": null,
      "outputs": [
        {
          "output_type": "stream",
          "name": "stdout",
          "text": [
            "         ad_id                       name\n",
            "0        17042            Suzuki - Sydney\n",
            "1        53794         Toyota - Melbourne\n",
            "2        73954          Toyota - Brisbane\n",
            "3        74150             Toyota - Perth\n",
            "4        87573          Toyota - Adelaide\n",
            "...        ...                        ...\n",
            "30647  4930130          Nissan - Maitland\n",
            "30648  4930142             Lexus - Burnie\n",
            "30649  4930143             Ford - Bunbury\n",
            "30650  4930144  Mercedes Benz - Gladstone\n",
            "30651  4930147          Audi - Hervey Bay\n",
            "\n",
            "[30652 rows x 2 columns]\n"
          ]
        }
      ]
    },
    {
      "cell_type": "markdown",
      "source": [
        "## c. Combined Table"
      ],
      "metadata": {
        "id": "FLnGB7ETo7oY"
      }
    },
    {
      "cell_type": "markdown",
      "source": [
        "Create a combined table"
      ],
      "metadata": {
        "id": "gGSgIxYxQKFx"
      }
    },
    {
      "cell_type": "code",
      "source": [
        "merged_con = sqlite3.connect('combined_dataset.db')"
      ],
      "metadata": {
        "id": "nOcVjoEEKXpJ"
      },
      "execution_count": null,
      "outputs": []
    },
    {
      "cell_type": "markdown",
      "source": [
        "Retrieve the required columns from both the 'Cars' and 'Sellers' tables. The 'read_sql_query' function is used to read SQL queries into a dataframe."
      ],
      "metadata": {
        "id": "DbMtp-ugQM6H"
      }
    },
    {
      "cell_type": "code",
      "source": [
        "\n",
        "cars_con = sqlite3.connect('cars_dataset.db')\n",
        "cars_data = pd.read_sql_query('SELECT ad_id, car_name, price FROM Cars', cars_con)\n",
        "cars_con.close()"
      ],
      "metadata": {
        "id": "JJomWDVfnQSu"
      },
      "execution_count": null,
      "outputs": []
    },
    {
      "cell_type": "code",
      "source": [
        "\n",
        "sellers_con = sqlite3.connect('seller_dataset.db')\n",
        "sellers_data = pd.read_sql_query('SELECT ad_id, name FROM Sellers', sellers_con)\n",
        "sellers_con.close()"
      ],
      "metadata": {
        "id": "KUUfUr6fnQkW"
      },
      "execution_count": null,
      "outputs": []
    },
    {
      "cell_type": "markdown",
      "source": [
        "Combine the columns from both tables into one table. We used inner join."
      ],
      "metadata": {
        "id": "aZMhScbxQzTN"
      }
    },
    {
      "cell_type": "code",
      "source": [
        "combined_table = pd.merge(cars_data, sellers_data, on='ad_id', how='inner')"
      ],
      "metadata": {
        "id": "E0NJfAULniMA"
      },
      "execution_count": null,
      "outputs": []
    },
    {
      "cell_type": "code",
      "source": [
        "combined_table.to_sql('CombinedData', merged_con, if_exists='replace', index=False)"
      ],
      "metadata": {
        "colab": {
          "base_uri": "https://localhost:8080/"
        },
        "id": "BA2Tj4Fcnp7W",
        "outputId": "c06ff026-2f65-4b52-9ab9-b3645e1835dd"
      },
      "execution_count": null,
      "outputs": [
        {
          "output_type": "execute_result",
          "data": {
            "text/plain": [
              "19940"
            ]
          },
          "metadata": {},
          "execution_count": 93
        }
      ]
    },
    {
      "cell_type": "markdown",
      "source": [
        "We will check the first few rows of the merged table."
      ],
      "metadata": {
        "id": "PB7oOGreygl7"
      }
    },
    {
      "cell_type": "code",
      "source": [
        "combined_table_preview = pd.read_sql_query('SELECT * FROM CombinedData', merged_con)\n",
        "\n",
        "print(combined_table_preview.head())"
      ],
      "metadata": {
        "colab": {
          "base_uri": "https://localhost:8080/"
        },
        "id": "wWMgNphmoHdH",
        "outputId": "0e90e519-1f30-47d5-9745-588cd22f70d3"
      },
      "execution_count": null,
      "outputs": [
        {
          "output_type": "stream",
          "name": "stdout",
          "text": [
            "   ad_id                               car_name     price               name\n",
            "0  17042   Suzuki Super Carry Truck 1.0 MT 2022 10080.994    Suzuki - Sydney\n",
            "1  73954        Toyota Innova G 2.0 AT 2023 car 35830.039  Toyota - Brisbane\n",
            "2  74150         Toyota Corolla Cross 1.8G 2023 30526.384     Toyota - Perth\n",
            "3  87573        Toyota Innova G 2.0 AT 2022 car 34413.032  Toyota - Adelaide\n",
            "4  97011  Suzuki Super Carry Van Blind Van 2023 12105.290  Suzuki - Canberra\n"
          ]
        }
      ]
    },
    {
      "cell_type": "code",
      "source": [
        "print(combined_table)"
      ],
      "metadata": {
        "colab": {
          "base_uri": "https://localhost:8080/"
        },
        "id": "dOfPHKHMawSE",
        "outputId": "ec5af95a-e8ee-4563-fd28-4e8a7cf7bddb"
      },
      "execution_count": null,
      "outputs": [
        {
          "output_type": "stream",
          "name": "stdout",
          "text": [
            "         ad_id                               car_name     price  \\\n",
            "0        17042   Suzuki Super Carry Truck 1.0 MT 2022 10080.994   \n",
            "1        73954        Toyota Innova G 2.0 AT 2023 car 35830.039   \n",
            "2        74150         Toyota Corolla Cross 1.8G 2023 30526.384   \n",
            "3        87573        Toyota Innova G 2.0 AT 2022 car 34413.032   \n",
            "4        97011  Suzuki Super Carry Van Blind Van 2023 12105.290   \n",
            "...        ...                                    ...       ...   \n",
            "19935  4930086             Hyundai Accent 1.4 MT 2020 17408.946   \n",
            "19936  4930098          Hyundai i10 Grand 1.2 MT 2019 13157.924   \n",
            "19937  4930111    Mercedes Benz C class C300 AMG 2020 11578.973   \n",
            "19938  4930123          MG ZS Comfort 1.5 AT 2WD 2020 20202.474   \n",
            "19939  4930144             Mercedes Benz GLC 200 2020 40485.920   \n",
            "\n",
            "                             name  \n",
            "0                 Suzuki - Sydney  \n",
            "1               Toyota - Brisbane  \n",
            "2                  Toyota - Perth  \n",
            "3               Toyota - Adelaide  \n",
            "4               Suzuki - Canberra  \n",
            "...                           ...  \n",
            "19935          Hyundai - Tamworth  \n",
            "19936          Hyundai - Canberra  \n",
            "19937  Mercedes Benz - Townsville  \n",
            "19938             MG - Launceston  \n",
            "19939   Mercedes Benz - Gladstone  \n",
            "\n",
            "[19940 rows x 4 columns]\n"
          ]
        }
      ]
    },
    {
      "cell_type": "code",
      "source": [
        "merged_con.commit()\n",
        "merged_con.close()"
      ],
      "metadata": {
        "id": "zNQTI005nvU_"
      },
      "execution_count": null,
      "outputs": []
    },
    {
      "cell_type": "markdown",
      "metadata": {
        "id": "6ApUldEji05C"
      },
      "source": [
        "# Data Visualization"
      ]
    },
    {
      "cell_type": "markdown",
      "source": [
        "## I. Examine the relationship between 'mileage' and 'price' ."
      ],
      "metadata": {
        "id": "zmBiBz2LqqWl"
      }
    },
    {
      "cell_type": "code",
      "execution_count": null,
      "metadata": {
        "id": "ezNDmQsfxhWV",
        "colab": {
          "base_uri": "https://localhost:8080/",
          "height": 564
        },
        "outputId": "31cf5d99-2c7b-44f5-d73a-7ed2a0027b47"
      },
      "outputs": [
        {
          "output_type": "display_data",
          "data": {
            "text/plain": [
              "<Figure size 1000x600 with 1 Axes>"
            ],
            "image/png": "[encoded data removed]"
          },
          "metadata": {}
        }
      ],
      "source": [
        "plt.figure(figsize=(10, 6))\n",
        "plt.scatter(car_data['mileage'], car_data['price (AUD)'], color='blue', marker='o')\n",
        "plt.title('Mileage vs. Price')\n",
        "plt.xlabel('Mileage ')\n",
        "plt.ylabel('Price')\n",
        "plt.ticklabel_format(style='plain', axis='y')\n",
        "plt.ticklabel_format(style='plain', axis='x')\n",
        "#plt.legend()\n",
        "plt.grid(True)"
      ]
    },
    {
      "cell_type": "code",
      "source": [
        "correlation = car_data['mileage'].corr(car_data['price (AUD)'])\n",
        "print(\"Correlation coefficient:\", correlation)"
      ],
      "metadata": {
        "colab": {
          "base_uri": "https://localhost:8080/"
        },
        "id": "qMCTQvAwXX0h",
        "outputId": "e189e866-2a7c-4d01-a39d-670c8be2bdec"
      },
      "execution_count": null,
      "outputs": [
        {
          "output_type": "stream",
          "name": "stdout",
          "text": [
            "Correlation coefficient: -0.2380250520801771\n"
          ]
        }
      ]
    },
    {
      "cell_type": "markdown",
      "source": [
        "\n",
        "*   There is a slight correlation between mileage and price.\n",
        "*   A negative correlation exists, indicating that cars with higher mileage tend to have lower prices.\n",
        "*   The data appears to be widely spread, which reduces the strength of any linear correlation.\n",
        "*   Other factors, such as car brand, car type, engine type, and engine displacement, may provide a better indication of car prices when combined.\n"
      ],
      "metadata": {
        "id": "5h-FCDSBXmPQ"
      }
    },
    {
      "cell_type": "markdown",
      "source": [
        "## II. Analyze the trend of car prices over the 'year_of_m'."
      ],
      "metadata": {
        "id": "DRlVxoWIyokI"
      }
    },
    {
      "cell_type": "markdown",
      "source": [
        "#### Created copy of data"
      ],
      "metadata": {
        "id": "6_3ZvH7kwz91"
      }
    },
    {
      "cell_type": "code",
      "source": [
        "price_over_manufacture_year = car_data.copy()"
      ],
      "metadata": {
        "id": "mVGVWNkFUE2S"
      },
      "execution_count": null,
      "outputs": []
    },
    {
      "cell_type": "markdown",
      "source": [
        "The copy of data has been made to prevent changes from apply back to original data"
      ],
      "metadata": {
        "id": "WQHoepgBxA5u"
      }
    },
    {
      "cell_type": "markdown",
      "source": [
        "#### Information for new cars"
      ],
      "metadata": {
        "id": "8c1Ue43nnyG8"
      }
    },
    {
      "cell_type": "code",
      "source": [
        "new_price_over_manufacture_year = price_over_manufacture_year[price_over_manufacture_year['condition'] != 'used car']\n",
        "new_price_over_manufacture = new_price_over_manufacture_year[['year_of_manufacture','price (AUD)']].groupby(['year_of_manufacture'], as_index=False).mean()"
      ],
      "metadata": {
        "id": "7fl_I0qFT4nF"
      },
      "execution_count": null,
      "outputs": []
    },
    {
      "cell_type": "code",
      "source": [
        "new_car_year_amount = new_price_over_manufacture_year[['year_of_manufacture','price (AUD)']].groupby(['year_of_manufacture'], as_index=False).count()"
      ],
      "metadata": {
        "id": "IjOjukPjetlP"
      },
      "execution_count": null,
      "outputs": []
    },
    {
      "cell_type": "markdown",
      "source": [
        "#### The amount of new cars based on year of manufacturing"
      ],
      "metadata": {
        "id": "Fn8qHMJ1LtOY"
      }
    },
    {
      "cell_type": "code",
      "source": [
        "new_car_year_amount.rename(columns={'price (AUD)': 'amount_of_cars'}, inplace=True)\n",
        "new_car_year_amount"
      ],
      "metadata": {
        "colab": {
          "base_uri": "https://localhost:8080/",
          "height": 143
        },
        "id": "PNqZ8CC4fOeD",
        "outputId": "9af3a7cf-71fd-4e4d-d893-fc48223f111e"
      },
      "execution_count": null,
      "outputs": [
        {
          "output_type": "execute_result",
          "data": {
            "text/plain": [
              "   year_of_manufacture  amount_of_cars\n",
              "0                 2021               4\n",
              "1                 2022            1188\n",
              "2                 2023            2585"
            ],
            "text/html": [
              "\n",
              "  <div id=\"df-b335fa4f-a342-4f65-8884-bb59322499d2\" class=\"colab-df-container\">\n",
              "    <div>\n",
              "<style scoped>\n",
              "    .dataframe tbody tr th:only-of-type {\n",
              "        vertical-align: middle;\n",
              "    }\n",
              "\n",
              "    .dataframe tbody tr th {\n",
              "        vertical-align: top;\n",
              "    }\n",
              "\n",
              "    .dataframe thead th {\n",
              "        text-align: right;\n",
              "    }\n",
              "</style>\n",
              "<table border=\"1\" class=\"dataframe\">\n",
              "  <thead>\n",
              "    <tr style=\"text-align: right;\">\n",
              "      <th></th>\n",
              "      <th>year_of_manufacture</th>\n",
              "      <th>amount_of_cars</th>\n",
              "    </tr>\n",
              "  </thead>\n",
              "  <tbody>\n",
              "    <tr>\n",
              "      <th>0</th>\n",
              "      <td>2021</td>\n",
              "      <td>4</td>\n",
              "    </tr>\n",
              "    <tr>\n",
              "      <th>1</th>\n",
              "      <td>2022</td>\n",
              "      <td>1188</td>\n",
              "    </tr>\n",
              "    <tr>\n",
              "      <th>2</th>\n",
              "      <td>2023</td>\n",
              "      <td>2585</td>\n",
              "    </tr>\n",
              "  </tbody>\n",
              "</table>\n",
              "</div>\n",
              "    <div class=\"colab-df-buttons\">\n",
              "\n",
              "  <div class=\"colab-df-container\">\n",
              "    <button class=\"colab-df-convert\" onclick=\"convertToInteractive('df-b335fa4f-a342-4f65-8884-bb59322499d2')\"\n",
              "            title=\"Convert this dataframe to an interactive table.\"\n",
              "            style=\"display:none;\">\n",
              "\n",
              "  <svg xmlns=\"http://www.w3.org/2000/svg\" height=\"24px\" viewBox=\"0 -960 960 960\">\n",
              "    <path d=\"M120-120v-720h720v720H120Zm60-500h600v-160H180v160Zm220 220h160v-160H400v160Zm0 220h160v-160H400v160ZM180-400h160v-160H180v160Zm440 0h160v-160H620v160ZM180-180h160v-160H180v160Zm440 0h160v-160H620v160Z\"/>\n",
              "  </svg>\n",
              "    </button>\n",
              "\n",
              "  <style>\n",
              "    .colab-df-container {\n",
              "      display:flex;\n",
              "      gap: 12px;\n",
              "    }\n",
              "\n",
              "    .colab-df-convert {\n",
              "      background-color: #E8F0FE;\n",
              "      border: none;\n",
              "      border-radius: 50%;\n",
              "      cursor: pointer;\n",
              "      display: none;\n",
              "      fill: #1967D2;\n",
              "      height: 32px;\n",
              "      padding: 0 0 0 0;\n",
              "      width: 32px;\n",
              "    }\n",
              "\n",
              "    .colab-df-convert:hover {\n",
              "      background-color: #E2EBFA;\n",
              "      box-shadow: 0px 1px 2px rgba(60, 64, 67, 0.3), 0px 1px 3px 1px rgba(60, 64, 67, 0.15);\n",
              "      fill: #174EA6;\n",
              "    }\n",
              "\n",
              "    .colab-df-buttons div {\n",
              "      margin-bottom: 4px;\n",
              "    }\n",
              "\n",
              "    [theme=dark] .colab-df-convert {\n",
              "      background-color: #3B4455;\n",
              "      fill: #D2E3FC;\n",
              "    }\n",
              "\n",
              "    [theme=dark] .colab-df-convert:hover {\n",
              "      background-color: #434B5C;\n",
              "      box-shadow: 0px 1px 3px 1px rgba(0, 0, 0, 0.15);\n",
              "      filter: drop-shadow(0px 1px 2px rgba(0, 0, 0, 0.3));\n",
              "      fill: #FFFFFF;\n",
              "    }\n",
              "  </style>\n",
              "\n",
              "    <script>\n",
              "      const buttonEl =\n",
              "        document.querySelector('#df-b335fa4f-a342-4f65-8884-bb59322499d2 button.colab-df-convert');\n",
              "      buttonEl.style.display =\n",
              "        google.colab.kernel.accessAllowed ? 'block' : 'none';\n",
              "\n",
              "      async function convertToInteractive(key) {\n",
              "        const element = document.querySelector('#df-b335fa4f-a342-4f65-8884-bb59322499d2');\n",
              "        const dataTable =\n",
              "          await google.colab.kernel.invokeFunction('convertToInteractive',\n",
              "                                                    [key], {});\n",
              "        if (!dataTable) return;\n",
              "\n",
              "        const docLinkHtml = 'Like what you see? Visit the ' +\n",
              "          '<a target=\"_blank\" href=https://colab.research.google.com/notebooks/data_table.ipynb>data table notebook</a>'\n",
              "          + ' to learn more about interactive tables.';\n",
              "        element.innerHTML = '';\n",
              "        dataTable['output_type'] = 'display_data';\n",
              "        await google.colab.output.renderOutput(dataTable, element);\n",
              "        const docLink = document.createElement('div');\n",
              "        docLink.innerHTML = docLinkHtml;\n",
              "        element.appendChild(docLink);\n",
              "      }\n",
              "    </script>\n",
              "  </div>\n",
              "\n",
              "\n",
              "<div id=\"df-d5279602-7f43-4c00-bcbf-59251f96b4c6\">\n",
              "  <button class=\"colab-df-quickchart\" onclick=\"quickchart('df-d5279602-7f43-4c00-bcbf-59251f96b4c6')\"\n",
              "            title=\"Suggest charts\"\n",
              "            style=\"display:none;\">\n",
              "\n",
              "<svg xmlns=\"http://www.w3.org/2000/svg\" height=\"24px\"viewBox=\"0 0 24 24\"\n",
              "     width=\"24px\">\n",
              "    <g>\n",
              "        <path d=\"M19 3H5c-1.1 0-2 .9-2 2v14c0 1.1.9 2 2 2h14c1.1 0 2-.9 2-2V5c0-1.1-.9-2-2-2zM9 17H7v-7h2v7zm4 0h-2V7h2v10zm4 0h-2v-4h2v4z\"/>\n",
              "    </g>\n",
              "</svg>\n",
              "  </button>\n",
              "\n",
              "<style>\n",
              "  .colab-df-quickchart {\n",
              "      --bg-color: #E8F0FE;\n",
              "      --fill-color: #1967D2;\n",
              "      --hover-bg-color: #E2EBFA;\n",
              "      --hover-fill-color: #174EA6;\n",
              "      --disabled-fill-color: #AAA;\n",
              "      --disabled-bg-color: #DDD;\n",
              "  }\n",
              "\n",
              "  [theme=dark] .colab-df-quickchart {\n",
              "      --bg-color: #3B4455;\n",
              "      --fill-color: #D2E3FC;\n",
              "      --hover-bg-color: #434B5C;\n",
              "      --hover-fill-color: #FFFFFF;\n",
              "      --disabled-bg-color: #3B4455;\n",
              "      --disabled-fill-color: #666;\n",
              "  }\n",
              "\n",
              "  .colab-df-quickchart {\n",
              "    background-color: var(--bg-color);\n",
              "    border: none;\n",
              "    border-radius: 50%;\n",
              "    cursor: pointer;\n",
              "    display: none;\n",
              "    fill: var(--fill-color);\n",
              "    height: 32px;\n",
              "    padding: 0;\n",
              "    width: 32px;\n",
              "  }\n",
              "\n",
              "  .colab-df-quickchart:hover {\n",
              "    background-color: var(--hover-bg-color);\n",
              "    box-shadow: 0 1px 2px rgba(60, 64, 67, 0.3), 0 1px 3px 1px rgba(60, 64, 67, 0.15);\n",
              "    fill: var(--button-hover-fill-color);\n",
              "  }\n",
              "\n",
              "  .colab-df-quickchart-complete:disabled,\n",
              "  .colab-df-quickchart-complete:disabled:hover {\n",
              "    background-color: var(--disabled-bg-color);\n",
              "    fill: var(--disabled-fill-color);\n",
              "    box-shadow: none;\n",
              "  }\n",
              "\n",
              "  .colab-df-spinner {\n",
              "    border: 2px solid var(--fill-color);\n",
              "    border-color: transparent;\n",
              "    border-bottom-color: var(--fill-color);\n",
              "    animation:\n",
              "      spin 1s steps(1) infinite;\n",
              "  }\n",
              "\n",
              "  @keyframes spin {\n",
              "    0% {\n",
              "      border-color: transparent;\n",
              "      border-bottom-color: var(--fill-color);\n",
              "      border-left-color: var(--fill-color);\n",
              "    }\n",
              "    20% {\n",
              "      border-color: transparent;\n",
              "      border-left-color: var(--fill-color);\n",
              "      border-top-color: var(--fill-color);\n",
              "    }\n",
              "    30% {\n",
              "      border-color: transparent;\n",
              "      border-left-color: var(--fill-color);\n",
              "      border-top-color: var(--fill-color);\n",
              "      border-right-color: var(--fill-color);\n",
              "    }\n",
              "    40% {\n",
              "      border-color: transparent;\n",
              "      border-right-color: var(--fill-color);\n",
              "      border-top-color: var(--fill-color);\n",
              "    }\n",
              "    60% {\n",
              "      border-color: transparent;\n",
              "      border-right-color: var(--fill-color);\n",
              "    }\n",
              "    80% {\n",
              "      border-color: transparent;\n",
              "      border-right-color: var(--fill-color);\n",
              "      border-bottom-color: var(--fill-color);\n",
              "    }\n",
              "    90% {\n",
              "      border-color: transparent;\n",
              "      border-bottom-color: var(--fill-color);\n",
              "    }\n",
              "  }\n",
              "</style>\n",
              "\n",
              "  <script>\n",
              "    async function quickchart(key) {\n",
              "      const quickchartButtonEl =\n",
              "        document.querySelector('#' + key + ' button');\n",
              "      quickchartButtonEl.disabled = true;  // To prevent multiple clicks.\n",
              "      quickchartButtonEl.classList.add('colab-df-spinner');\n",
              "      try {\n",
              "        const charts = await google.colab.kernel.invokeFunction(\n",
              "            'suggestCharts', [key], {});\n",
              "      } catch (error) {\n",
              "        console.error('Error during call to suggestCharts:', error);\n",
              "      }\n",
              "      quickchartButtonEl.classList.remove('colab-df-spinner');\n",
              "      quickchartButtonEl.classList.add('colab-df-quickchart-complete');\n",
              "    }\n",
              "    (() => {\n",
              "      let quickchartButtonEl =\n",
              "        document.querySelector('#df-d5279602-7f43-4c00-bcbf-59251f96b4c6 button');\n",
              "      quickchartButtonEl.style.display =\n",
              "        google.colab.kernel.accessAllowed ? 'block' : 'none';\n",
              "    })();\n",
              "  </script>\n",
              "</div>\n",
              "\n",
              "  <div id=\"id_a3426cf5-a129-4646-a3ad-931644349dfa\">\n",
              "    <style>\n",
              "      .colab-df-generate {\n",
              "        background-color: #E8F0FE;\n",
              "        border: none;\n",
              "        border-radius: 50%;\n",
              "        cursor: pointer;\n",
              "        display: none;\n",
              "        fill: #1967D2;\n",
              "        height: 32px;\n",
              "        padding: 0 0 0 0;\n",
              "        width: 32px;\n",
              "      }\n",
              "\n",
              "      .colab-df-generate:hover {\n",
              "        background-color: #E2EBFA;\n",
              "        box-shadow: 0px 1px 2px rgba(60, 64, 67, 0.3), 0px 1px 3px 1px rgba(60, 64, 67, 0.15);\n",
              "        fill: #174EA6;\n",
              "      }\n",
              "\n",
              "      [theme=dark] .colab-df-generate {\n",
              "        background-color: #3B4455;\n",
              "        fill: #D2E3FC;\n",
              "      }\n",
              "\n",
              "      [theme=dark] .colab-df-generate:hover {\n",
              "        background-color: #434B5C;\n",
              "        box-shadow: 0px 1px 3px 1px rgba(0, 0, 0, 0.15);\n",
              "        filter: drop-shadow(0px 1px 2px rgba(0, 0, 0, 0.3));\n",
              "        fill: #FFFFFF;\n",
              "      }\n",
              "    </style>\n",
              "    <button class=\"colab-df-generate\" onclick=\"generateWithVariable('new_car_year_amount')\"\n",
              "            title=\"Generate code using this dataframe.\"\n",
              "            style=\"display:none;\">\n",
              "\n",
              "  <svg xmlns=\"http://www.w3.org/2000/svg\" height=\"24px\"viewBox=\"0 0 24 24\"\n",
              "       width=\"24px\">\n",
              "    <path d=\"M7,19H8.4L18.45,9,17,7.55,7,17.6ZM5,21V16.75L18.45,3.32a2,2,0,0,1,2.83,0l1.4,1.43a1.91,1.91,0,0,1,.58,1.4,1.91,1.91,0,0,1-.58,1.4L9.25,21ZM18.45,9,17,7.55Zm-12,3A5.31,5.31,0,0,0,4.9,8.1,5.31,5.31,0,0,0,1,6.5,5.31,5.31,0,0,0,4.9,4.9,5.31,5.31,0,0,0,6.5,1,5.31,5.31,0,0,0,8.1,4.9,5.31,5.31,0,0,0,12,6.5,5.46,5.46,0,0,0,6.5,12Z\"/>\n",
              "  </svg>\n",
              "    </button>\n",
              "    <script>\n",
              "      (() => {\n",
              "      const buttonEl =\n",
              "        document.querySelector('#id_a3426cf5-a129-4646-a3ad-931644349dfa button.colab-df-generate');\n",
              "      buttonEl.style.display =\n",
              "        google.colab.kernel.accessAllowed ? 'block' : 'none';\n",
              "\n",
              "      buttonEl.onclick = () => {\n",
              "        google.colab.notebook.generateWithVariable('new_car_year_amount');\n",
              "      }\n",
              "      })();\n",
              "    </script>\n",
              "  </div>\n",
              "\n",
              "    </div>\n",
              "  </div>\n"
            ],
            "application/vnd.google.colaboratory.intrinsic+json": {
              "type": "dataframe",
              "variable_name": "new_car_year_amount",
              "summary": "{\n  \"name\": \"new_car_year_amount\",\n  \"rows\": 3,\n  \"fields\": [\n    {\n      \"column\": \"year_of_manufacture\",\n      \"properties\": {\n        \"dtype\": \"number\",\n        \"std\": 1,\n        \"min\": 2021,\n        \"max\": 2023,\n        \"num_unique_values\": 3,\n        \"samples\": [\n          2021,\n          2022,\n          2023\n        ],\n        \"semantic_type\": \"\",\n        \"description\": \"\"\n      }\n    },\n    {\n      \"column\": \"amount_of_cars\",\n      \"properties\": {\n        \"dtype\": \"number\",\n        \"std\": 1291,\n        \"min\": 4,\n        \"max\": 2585,\n        \"num_unique_values\": 3,\n        \"samples\": [\n          4,\n          1188,\n          2585\n        ],\n        \"semantic_type\": \"\",\n        \"description\": \"\"\n      }\n    }\n  ]\n}"
            }
          },
          "metadata": {},
          "execution_count": 102
        }
      ]
    },
    {
      "cell_type": "markdown",
      "source": [
        "#### Information for used cars"
      ],
      "metadata": {
        "id": "zAvGsu_LoOww"
      }
    },
    {
      "cell_type": "code",
      "source": [
        "used_price_over_manufacture_year = price_over_manufacture_year[price_over_manufacture_year['condition'] != 'new car']\n",
        "used_price_over_manufacture = used_price_over_manufacture_year[['year_of_manufacture','price (AUD)']].groupby(['year_of_manufacture'], as_index=False).mean()"
      ],
      "metadata": {
        "id": "U5J9CXDLelFG"
      },
      "execution_count": null,
      "outputs": []
    },
    {
      "cell_type": "code",
      "source": [
        "used_car_year_amount = used_price_over_manufacture_year[['year_of_manufacture','price (AUD)']].groupby(['year_of_manufacture'], as_index=False).count()"
      ],
      "metadata": {
        "id": "d56-QC9FosOE"
      },
      "execution_count": null,
      "outputs": []
    },
    {
      "cell_type": "markdown",
      "source": [
        "#### The amount of used car based on year of manufacturing"
      ],
      "metadata": {
        "id": "VvyBS1ZNLXc9"
      }
    },
    {
      "cell_type": "code",
      "source": [
        "used_car_year_amount.rename(columns={'price (AUD)': 'amount_of_cars'}, inplace=True)\n",
        "used_car_year_amount"
      ],
      "metadata": {
        "colab": {
          "base_uri": "https://localhost:8080/",
          "height": 1000
        },
        "outputId": "42b8e132-f70c-46e3-89e8-d94b67db725a",
        "id": "V24fcC4EoyLc"
      },
      "execution_count": null,
      "outputs": [
        {
          "output_type": "execute_result",
          "data": {
            "text/plain": [
              "    year_of_manufacture  amount_of_cars\n",
              "0                  1990               5\n",
              "1                  1991               4\n",
              "2                  1992               7\n",
              "3                  1993               8\n",
              "4                  1994               7\n",
              "5                  1995               5\n",
              "6                  1996               6\n",
              "7                  1997               6\n",
              "8                  1998              10\n",
              "9                  1999               7\n",
              "10                 2000              32\n",
              "11                 2001              35\n",
              "12                 2002              44\n",
              "13                 2003              95\n",
              "14                 2004             135\n",
              "15                 2005             131\n",
              "16                 2006             118\n",
              "17                 2007             226\n",
              "18                 2008             314\n",
              "19                 2009             539\n",
              "20                 2010             511\n",
              "21                 2011             528\n",
              "22                 2012             282\n",
              "23                 2013             444\n",
              "24                 2014             672\n",
              "25                 2015             932\n",
              "26                 2016            1306\n",
              "27                 2017            1287\n",
              "28                 2018            1774\n",
              "29                 2019            2070\n",
              "30                 2020            1808\n",
              "31                 2021            1725\n",
              "32                 2022            1085\n",
              "33                 2023               5"
            ],
            "text/html": [
              "\n",
              "  <div id=\"df-67546f61-74fd-4792-a9f4-d9385a977fdf\" class=\"colab-df-container\">\n",
              "    <div>\n",
              "<style scoped>\n",
              "    .dataframe tbody tr th:only-of-type {\n",
              "        vertical-align: middle;\n",
              "    }\n",
              "\n",
              "    .dataframe tbody tr th {\n",
              "        vertical-align: top;\n",
              "    }\n",
              "\n",
              "    .dataframe thead th {\n",
              "        text-align: right;\n",
              "    }\n",
              "</style>\n",
              "<table border=\"1\" class=\"dataframe\">\n",
              "  <thead>\n",
              "    <tr style=\"text-align: right;\">\n",
              "      <th></th>\n",
              "      <th>year_of_manufacture</th>\n",
              "      <th>amount_of_cars</th>\n",
              "    </tr>\n",
              "  </thead>\n",
              "  <tbody>\n",
              "    <tr>\n",
              "      <th>0</th>\n",
              "      <td>1990</td>\n",
              "      <td>5</td>\n",
              "    </tr>\n",
              "    <tr>\n",
              "      <th>1</th>\n",
              "      <td>1991</td>\n",
              "      <td>4</td>\n",
              "    </tr>\n",
              "    <tr>\n",
              "      <th>2</th>\n",
              "      <td>1992</td>\n",
              "      <td>7</td>\n",
              "    </tr>\n",
              "    <tr>\n",
              "      <th>3</th>\n",
              "      <td>1993</td>\n",
              "      <td>8</td>\n",
              "    </tr>\n",
              "    <tr>\n",
              "      <th>4</th>\n",
              "      <td>1994</td>\n",
              "      <td>7</td>\n",
              "    </tr>\n",
              "    <tr>\n",
              "      <th>5</th>\n",
              "      <td>1995</td>\n",
              "      <td>5</td>\n",
              "    </tr>\n",
              "    <tr>\n",
              "      <th>6</th>\n",
              "      <td>1996</td>\n",
              "      <td>6</td>\n",
              "    </tr>\n",
              "    <tr>\n",
              "      <th>7</th>\n",
              "      <td>1997</td>\n",
              "      <td>6</td>\n",
              "    </tr>\n",
              "    <tr>\n",
              "      <th>8</th>\n",
              "      <td>1998</td>\n",
              "      <td>10</td>\n",
              "    </tr>\n",
              "    <tr>\n",
              "      <th>9</th>\n",
              "      <td>1999</td>\n",
              "      <td>7</td>\n",
              "    </tr>\n",
              "    <tr>\n",
              "      <th>10</th>\n",
              "      <td>2000</td>\n",
              "      <td>32</td>\n",
              "    </tr>\n",
              "    <tr>\n",
              "      <th>11</th>\n",
              "      <td>2001</td>\n",
              "      <td>35</td>\n",
              "    </tr>\n",
              "    <tr>\n",
              "      <th>12</th>\n",
              "      <td>2002</td>\n",
              "      <td>44</td>\n",
              "    </tr>\n",
              "    <tr>\n",
              "      <th>13</th>\n",
              "      <td>2003</td>\n",
              "      <td>95</td>\n",
              "    </tr>\n",
              "    <tr>\n",
              "      <th>14</th>\n",
              "      <td>2004</td>\n",
              "      <td>135</td>\n",
              "    </tr>\n",
              "    <tr>\n",
              "      <th>15</th>\n",
              "      <td>2005</td>\n",
              "      <td>131</td>\n",
              "    </tr>\n",
              "    <tr>\n",
              "      <th>16</th>\n",
              "      <td>2006</td>\n",
              "      <td>118</td>\n",
              "    </tr>\n",
              "    <tr>\n",
              "      <th>17</th>\n",
              "      <td>2007</td>\n",
              "      <td>226</td>\n",
              "    </tr>\n",
              "    <tr>\n",
              "      <th>18</th>\n",
              "      <td>2008</td>\n",
              "      <td>314</td>\n",
              "    </tr>\n",
              "    <tr>\n",
              "      <th>19</th>\n",
              "      <td>2009</td>\n",
              "      <td>539</td>\n",
              "    </tr>\n",
              "    <tr>\n",
              "      <th>20</th>\n",
              "      <td>2010</td>\n",
              "      <td>511</td>\n",
              "    </tr>\n",
              "    <tr>\n",
              "      <th>21</th>\n",
              "      <td>2011</td>\n",
              "      <td>528</td>\n",
              "    </tr>\n",
              "    <tr>\n",
              "      <th>22</th>\n",
              "      <td>2012</td>\n",
              "      <td>282</td>\n",
              "    </tr>\n",
              "    <tr>\n",
              "      <th>23</th>\n",
              "      <td>2013</td>\n",
              "      <td>444</td>\n",
              "    </tr>\n",
              "    <tr>\n",
              "      <th>24</th>\n",
              "      <td>2014</td>\n",
              "      <td>672</td>\n",
              "    </tr>\n",
              "    <tr>\n",
              "      <th>25</th>\n",
              "      <td>2015</td>\n",
              "      <td>932</td>\n",
              "    </tr>\n",
              "    <tr>\n",
              "      <th>26</th>\n",
              "      <td>2016</td>\n",
              "      <td>1306</td>\n",
              "    </tr>\n",
              "    <tr>\n",
              "      <th>27</th>\n",
              "      <td>2017</td>\n",
              "      <td>1287</td>\n",
              "    </tr>\n",
              "    <tr>\n",
              "      <th>28</th>\n",
              "      <td>2018</td>\n",
              "      <td>1774</td>\n",
              "    </tr>\n",
              "    <tr>\n",
              "      <th>29</th>\n",
              "      <td>2019</td>\n",
              "      <td>2070</td>\n",
              "    </tr>\n",
              "    <tr>\n",
              "      <th>30</th>\n",
              "      <td>2020</td>\n",
              "      <td>1808</td>\n",
              "    </tr>\n",
              "    <tr>\n",
              "      <th>31</th>\n",
              "      <td>2021</td>\n",
              "      <td>1725</td>\n",
              "    </tr>\n",
              "    <tr>\n",
              "      <th>32</th>\n",
              "      <td>2022</td>\n",
              "      <td>1085</td>\n",
              "    </tr>\n",
              "    <tr>\n",
              "      <th>33</th>\n",
              "      <td>2023</td>\n",
              "      <td>5</td>\n",
              "    </tr>\n",
              "  </tbody>\n",
              "</table>\n",
              "</div>\n",
              "    <div class=\"colab-df-buttons\">\n",
              "\n",
              "  <div class=\"colab-df-container\">\n",
              "    <button class=\"colab-df-convert\" onclick=\"convertToInteractive('df-67546f61-74fd-4792-a9f4-d9385a977fdf')\"\n",
              "            title=\"Convert this dataframe to an interactive table.\"\n",
              "            style=\"display:none;\">\n",
              "\n",
              "  <svg xmlns=\"http://www.w3.org/2000/svg\" height=\"24px\" viewBox=\"0 -960 960 960\">\n",
              "    <path d=\"M120-120v-720h720v720H120Zm60-500h600v-160H180v160Zm220 220h160v-160H400v160Zm0 220h160v-160H400v160ZM180-400h160v-160H180v160Zm440 0h160v-160H620v160ZM180-180h160v-160H180v160Zm440 0h160v-160H620v160Z\"/>\n",
              "  </svg>\n",
              "    </button>\n",
              "\n",
              "  <style>\n",
              "    .colab-df-container {\n",
              "      display:flex;\n",
              "      gap: 12px;\n",
              "    }\n",
              "\n",
              "    .colab-df-convert {\n",
              "      background-color: #E8F0FE;\n",
              "      border: none;\n",
              "      border-radius: 50%;\n",
              "      cursor: pointer;\n",
              "      display: none;\n",
              "      fill: #1967D2;\n",
              "      height: 32px;\n",
              "      padding: 0 0 0 0;\n",
              "      width: 32px;\n",
              "    }\n",
              "\n",
              "    .colab-df-convert:hover {\n",
              "      background-color: #E2EBFA;\n",
              "      box-shadow: 0px 1px 2px rgba(60, 64, 67, 0.3), 0px 1px 3px 1px rgba(60, 64, 67, 0.15);\n",
              "      fill: #174EA6;\n",
              "    }\n",
              "\n",
              "    .colab-df-buttons div {\n",
              "      margin-bottom: 4px;\n",
              "    }\n",
              "\n",
              "    [theme=dark] .colab-df-convert {\n",
              "      background-color: #3B4455;\n",
              "      fill: #D2E3FC;\n",
              "    }\n",
              "\n",
              "    [theme=dark] .colab-df-convert:hover {\n",
              "      background-color: #434B5C;\n",
              "      box-shadow: 0px 1px 3px 1px rgba(0, 0, 0, 0.15);\n",
              "      filter: drop-shadow(0px 1px 2px rgba(0, 0, 0, 0.3));\n",
              "      fill: #FFFFFF;\n",
              "    }\n",
              "  </style>\n",
              "\n",
              "    <script>\n",
              "      const buttonEl =\n",
              "        document.querySelector('#df-67546f61-74fd-4792-a9f4-d9385a977fdf button.colab-df-convert');\n",
              "      buttonEl.style.display =\n",
              "        google.colab.kernel.accessAllowed ? 'block' : 'none';\n",
              "\n",
              "      async function convertToInteractive(key) {\n",
              "        const element = document.querySelector('#df-67546f61-74fd-4792-a9f4-d9385a977fdf');\n",
              "        const dataTable =\n",
              "          await google.colab.kernel.invokeFunction('convertToInteractive',\n",
              "                                                    [key], {});\n",
              "        if (!dataTable) return;\n",
              "\n",
              "        const docLinkHtml = 'Like what you see? Visit the ' +\n",
              "          '<a target=\"_blank\" href=https://colab.research.google.com/notebooks/data_table.ipynb>data table notebook</a>'\n",
              "          + ' to learn more about interactive tables.';\n",
              "        element.innerHTML = '';\n",
              "        dataTable['output_type'] = 'display_data';\n",
              "        await google.colab.output.renderOutput(dataTable, element);\n",
              "        const docLink = document.createElement('div');\n",
              "        docLink.innerHTML = docLinkHtml;\n",
              "        element.appendChild(docLink);\n",
              "      }\n",
              "    </script>\n",
              "  </div>\n",
              "\n",
              "\n",
              "<div id=\"df-fd9353f8-791c-46ed-b1e1-f8d8da414a21\">\n",
              "  <button class=\"colab-df-quickchart\" onclick=\"quickchart('df-fd9353f8-791c-46ed-b1e1-f8d8da414a21')\"\n",
              "            title=\"Suggest charts\"\n",
              "            style=\"display:none;\">\n",
              "\n",
              "<svg xmlns=\"http://www.w3.org/2000/svg\" height=\"24px\"viewBox=\"0 0 24 24\"\n",
              "     width=\"24px\">\n",
              "    <g>\n",
              "        <path d=\"M19 3H5c-1.1 0-2 .9-2 2v14c0 1.1.9 2 2 2h14c1.1 0 2-.9 2-2V5c0-1.1-.9-2-2-2zM9 17H7v-7h2v7zm4 0h-2V7h2v10zm4 0h-2v-4h2v4z\"/>\n",
              "    </g>\n",
              "</svg>\n",
              "  </button>\n",
              "\n",
              "<style>\n",
              "  .colab-df-quickchart {\n",
              "      --bg-color: #E8F0FE;\n",
              "      --fill-color: #1967D2;\n",
              "      --hover-bg-color: #E2EBFA;\n",
              "      --hover-fill-color: #174EA6;\n",
              "      --disabled-fill-color: #AAA;\n",
              "      --disabled-bg-color: #DDD;\n",
              "  }\n",
              "\n",
              "  [theme=dark] .colab-df-quickchart {\n",
              "      --bg-color: #3B4455;\n",
              "      --fill-color: #D2E3FC;\n",
              "      --hover-bg-color: #434B5C;\n",
              "      --hover-fill-color: #FFFFFF;\n",
              "      --disabled-bg-color: #3B4455;\n",
              "      --disabled-fill-color: #666;\n",
              "  }\n",
              "\n",
              "  .colab-df-quickchart {\n",
              "    background-color: var(--bg-color);\n",
              "    border: none;\n",
              "    border-radius: 50%;\n",
              "    cursor: pointer;\n",
              "    display: none;\n",
              "    fill: var(--fill-color);\n",
              "    height: 32px;\n",
              "    padding: 0;\n",
              "    width: 32px;\n",
              "  }\n",
              "\n",
              "  .colab-df-quickchart:hover {\n",
              "    background-color: var(--hover-bg-color);\n",
              "    box-shadow: 0 1px 2px rgba(60, 64, 67, 0.3), 0 1px 3px 1px rgba(60, 64, 67, 0.15);\n",
              "    fill: var(--button-hover-fill-color);\n",
              "  }\n",
              "\n",
              "  .colab-df-quickchart-complete:disabled,\n",
              "  .colab-df-quickchart-complete:disabled:hover {\n",
              "    background-color: var(--disabled-bg-color);\n",
              "    fill: var(--disabled-fill-color);\n",
              "    box-shadow: none;\n",
              "  }\n",
              "\n",
              "  .colab-df-spinner {\n",
              "    border: 2px solid var(--fill-color);\n",
              "    border-color: transparent;\n",
              "    border-bottom-color: var(--fill-color);\n",
              "    animation:\n",
              "      spin 1s steps(1) infinite;\n",
              "  }\n",
              "\n",
              "  @keyframes spin {\n",
              "    0% {\n",
              "      border-color: transparent;\n",
              "      border-bottom-color: var(--fill-color);\n",
              "      border-left-color: var(--fill-color);\n",
              "    }\n",
              "    20% {\n",
              "      border-color: transparent;\n",
              "      border-left-color: var(--fill-color);\n",
              "      border-top-color: var(--fill-color);\n",
              "    }\n",
              "    30% {\n",
              "      border-color: transparent;\n",
              "      border-left-color: var(--fill-color);\n",
              "      border-top-color: var(--fill-color);\n",
              "      border-right-color: var(--fill-color);\n",
              "    }\n",
              "    40% {\n",
              "      border-color: transparent;\n",
              "      border-right-color: var(--fill-color);\n",
              "      border-top-color: var(--fill-color);\n",
              "    }\n",
              "    60% {\n",
              "      border-color: transparent;\n",
              "      border-right-color: var(--fill-color);\n",
              "    }\n",
              "    80% {\n",
              "      border-color: transparent;\n",
              "      border-right-color: var(--fill-color);\n",
              "      border-bottom-color: var(--fill-color);\n",
              "    }\n",
              "    90% {\n",
              "      border-color: transparent;\n",
              "      border-bottom-color: var(--fill-color);\n",
              "    }\n",
              "  }\n",
              "</style>\n",
              "\n",
              "  <script>\n",
              "    async function quickchart(key) {\n",
              "      const quickchartButtonEl =\n",
              "        document.querySelector('#' + key + ' button');\n",
              "      quickchartButtonEl.disabled = true;  // To prevent multiple clicks.\n",
              "      quickchartButtonEl.classList.add('colab-df-spinner');\n",
              "      try {\n",
              "        const charts = await google.colab.kernel.invokeFunction(\n",
              "            'suggestCharts', [key], {});\n",
              "      } catch (error) {\n",
              "        console.error('Error during call to suggestCharts:', error);\n",
              "      }\n",
              "      quickchartButtonEl.classList.remove('colab-df-spinner');\n",
              "      quickchartButtonEl.classList.add('colab-df-quickchart-complete');\n",
              "    }\n",
              "    (() => {\n",
              "      let quickchartButtonEl =\n",
              "        document.querySelector('#df-fd9353f8-791c-46ed-b1e1-f8d8da414a21 button');\n",
              "      quickchartButtonEl.style.display =\n",
              "        google.colab.kernel.accessAllowed ? 'block' : 'none';\n",
              "    })();\n",
              "  </script>\n",
              "</div>\n",
              "\n",
              "  <div id=\"id_2aa5d66f-4ef6-4757-b56e-ec70c078e0ab\">\n",
              "    <style>\n",
              "      .colab-df-generate {\n",
              "        background-color: #E8F0FE;\n",
              "        border: none;\n",
              "        border-radius: 50%;\n",
              "        cursor: pointer;\n",
              "        display: none;\n",
              "        fill: #1967D2;\n",
              "        height: 32px;\n",
              "        padding: 0 0 0 0;\n",
              "        width: 32px;\n",
              "      }\n",
              "\n",
              "      .colab-df-generate:hover {\n",
              "        background-color: #E2EBFA;\n",
              "        box-shadow: 0px 1px 2px rgba(60, 64, 67, 0.3), 0px 1px 3px 1px rgba(60, 64, 67, 0.15);\n",
              "        fill: #174EA6;\n",
              "      }\n",
              "\n",
              "      [theme=dark] .colab-df-generate {\n",
              "        background-color: #3B4455;\n",
              "        fill: #D2E3FC;\n",
              "      }\n",
              "\n",
              "      [theme=dark] .colab-df-generate:hover {\n",
              "        background-color: #434B5C;\n",
              "        box-shadow: 0px 1px 3px 1px rgba(0, 0, 0, 0.15);\n",
              "        filter: drop-shadow(0px 1px 2px rgba(0, 0, 0, 0.3));\n",
              "        fill: #FFFFFF;\n",
              "      }\n",
              "    </style>\n",
              "    <button class=\"colab-df-generate\" onclick=\"generateWithVariable('used_car_year_amount')\"\n",
              "            title=\"Generate code using this dataframe.\"\n",
              "            style=\"display:none;\">\n",
              "\n",
              "  <svg xmlns=\"http://www.w3.org/2000/svg\" height=\"24px\"viewBox=\"0 0 24 24\"\n",
              "       width=\"24px\">\n",
              "    <path d=\"M7,19H8.4L18.45,9,17,7.55,7,17.6ZM5,21V16.75L18.45,3.32a2,2,0,0,1,2.83,0l1.4,1.43a1.91,1.91,0,0,1,.58,1.4,1.91,1.91,0,0,1-.58,1.4L9.25,21ZM18.45,9,17,7.55Zm-12,3A5.31,5.31,0,0,0,4.9,8.1,5.31,5.31,0,0,0,1,6.5,5.31,5.31,0,0,0,4.9,4.9,5.31,5.31,0,0,0,6.5,1,5.31,5.31,0,0,0,8.1,4.9,5.31,5.31,0,0,0,12,6.5,5.46,5.46,0,0,0,6.5,12Z\"/>\n",
              "  </svg>\n",
              "    </button>\n",
              "    <script>\n",
              "      (() => {\n",
              "      const buttonEl =\n",
              "        document.querySelector('#id_2aa5d66f-4ef6-4757-b56e-ec70c078e0ab button.colab-df-generate');\n",
              "      buttonEl.style.display =\n",
              "        google.colab.kernel.accessAllowed ? 'block' : 'none';\n",
              "\n",
              "      buttonEl.onclick = () => {\n",
              "        google.colab.notebook.generateWithVariable('used_car_year_amount');\n",
              "      }\n",
              "      })();\n",
              "    </script>\n",
              "  </div>\n",
              "\n",
              "    </div>\n",
              "  </div>\n"
            ],
            "application/vnd.google.colaboratory.intrinsic+json": {
              "type": "dataframe",
              "variable_name": "used_car_year_amount",
              "summary": "{\n  \"name\": \"used_car_year_amount\",\n  \"rows\": 34,\n  \"fields\": [\n    {\n      \"column\": \"year_of_manufacture\",\n      \"properties\": {\n        \"dtype\": \"number\",\n        \"std\": 9,\n        \"min\": 1990,\n        \"max\": 2023,\n        \"num_unique_values\": 34,\n        \"samples\": [\n          2005,\n          2009,\n          2017\n        ],\n        \"semantic_type\": \"\",\n        \"description\": \"\"\n      }\n    },\n    {\n      \"column\": \"amount_of_cars\",\n      \"properties\": {\n        \"dtype\": \"number\",\n        \"std\": 631,\n        \"min\": 4,\n        \"max\": 2070,\n        \"num_unique_values\": 29,\n        \"samples\": [\n          1725,\n          511,\n          118\n        ],\n        \"semantic_type\": \"\",\n        \"description\": \"\"\n      }\n    }\n  ]\n}"
            }
          },
          "metadata": {},
          "execution_count": 105
        }
      ]
    },
    {
      "cell_type": "markdown",
      "source": [
        "#### Remove year before 2004"
      ],
      "metadata": {
        "id": "JCMxC7F0PEvy"
      }
    },
    {
      "cell_type": "code",
      "source": [
        "used_price_over_manufacture = used_price_over_manufacture[used_price_over_manufacture['year_of_manufacture'] > 2003]"
      ],
      "metadata": {
        "id": "Eg1keAgVNgx5"
      },
      "execution_count": null,
      "outputs": []
    },
    {
      "cell_type": "markdown",
      "source": [
        "\n",
        "*   The very low number of used cars makes it challenging to derive meaningful insights, as it represents only a small sample group.\n",
        "*   We removed cars information from years prior to 2004, as the number of cars manufactured in those years is lower than the median.\n",
        "\n"
      ],
      "metadata": {
        "id": "5DsqEZ6sWc7e"
      }
    },
    {
      "cell_type": "markdown",
      "source": [
        "#### Visualize correlation between price and manufacturing year"
      ],
      "metadata": {
        "id": "17h5mu27wVak"
      }
    },
    {
      "cell_type": "code",
      "source": [
        "figure, axis = plt.subplots(2, 1, figsize=(19, 10))\n",
        "axis[0].plot((new_price_over_manufacture['year_of_manufacture']).astype(str), new_price_over_manufacture['price (AUD)'], color = 'blue')\n",
        "axis[0].set_title('Price over manufacturing year for new cars')\n",
        "axis[0].set_xlabel('Year of Manufacturing')\n",
        "axis[0].set_ylabel('Price')\n",
        "axis[1].plot((used_price_over_manufacture['year_of_manufacture']).astype(str), used_price_over_manufacture['price (AUD)'], color = 'blue')\n",
        "axis[1].set_title('Price over manufacturing year for used cars')\n",
        "axis[1].set_xlabel('Year of Manufacturing')\n",
        "axis[1].set_ylabel('Price')"
      ],
      "metadata": {
        "colab": {
          "base_uri": "https://localhost:8080/",
          "height": 642
        },
        "id": "B9Kek7WxoSel",
        "outputId": "24ad5805-71a4-4ff8-8671-dbff2dc94e8e"
      },
      "execution_count": null,
      "outputs": [
        {
          "output_type": "execute_result",
          "data": {
            "text/plain": [
              "Text(0, 0.5, 'Price')"
            ]
          },
          "metadata": {},
          "execution_count": 107
        },
        {
          "output_type": "display_data",
          "data": {
            "text/plain": [
              "<Figure size 1900x1000 with 2 Axes>"
            ],
            "image/png": "[encoded data removed]"
          },
          "metadata": {}
        }
      ]
    },
    {
      "cell_type": "markdown",
      "source": [
        "#### The amount of 2010-2012 cars based on \"car_model\""
      ],
      "metadata": {
        "id": "XiwSPxnzg2v_"
      }
    },
    {
      "cell_type": "code",
      "source": [
        "used_mileage_over_year = used_price_over_manufacture_year[(used_price_over_manufacture_year['year_of_manufacture'] < 2013) & (used_price_over_manufacture_year['year_of_manufacture'] > 2009)]\n",
        "used_mileage_over_year = used_mileage_over_year[['year_of_manufacture', 'car_model', 'mileage']].groupby(['year_of_manufacture','car_model'], as_index=False).count()\n",
        "used_mileage_over_year.rename(columns={'mileage': 'amount_of_cars'}, inplace=True)\n",
        "used_mileage_over_year"
      ],
      "metadata": {
        "colab": {
          "base_uri": "https://localhost:8080/",
          "height": 770
        },
        "id": "icCIrIiTqeKP",
        "outputId": "5c7f639e-c0aa-4dc2-a0a3-99cc42fd93db"
      },
      "execution_count": null,
      "outputs": [
        {
          "output_type": "execute_result",
          "data": {
            "text/plain": [
              "    year_of_manufacture              car_model  amount_of_cars\n",
              "0                  2010                    4x4               8\n",
              "1                  2010  convertible/cabriolet               6\n",
              "2                  2010                  coupe              10\n",
              "3                  2010              crossover              43\n",
              "4                  2010              hatchback              74\n",
              "5                  2010                  sedan             222\n",
              "6                  2010                    suv             133\n",
              "7                  2010            van/minivan              15\n",
              "8                  2011                    4x4              13\n",
              "9                  2011  convertible/cabriolet               1\n",
              "10                 2011                  coupe              10\n",
              "11                 2011              crossover              49\n",
              "12                 2011              hatchback             117\n",
              "13                 2011                  sedan             213\n",
              "14                 2011                    suv              99\n",
              "15                 2011            van/minivan              26\n",
              "16                 2012                    4x4               6\n",
              "17                 2012                  coupe               7\n",
              "18                 2012              crossover              25\n",
              "19                 2012              hatchback              41\n",
              "20                 2012                  sedan             119\n",
              "21                 2012                    suv              70\n",
              "22                 2012            van/minivan              14"
            ],
            "text/html": [
              "\n",
              "  <div id=\"df-d369565e-8eb0-43d7-bee8-c19a68e93fc4\" class=\"colab-df-container\">\n",
              "    <div>\n",
              "<style scoped>\n",
              "    .dataframe tbody tr th:only-of-type {\n",
              "        vertical-align: middle;\n",
              "    }\n",
              "\n",
              "    .dataframe tbody tr th {\n",
              "        vertical-align: top;\n",
              "    }\n",
              "\n",
              "    .dataframe thead th {\n",
              "        text-align: right;\n",
              "    }\n",
              "</style>\n",
              "<table border=\"1\" class=\"dataframe\">\n",
              "  <thead>\n",
              "    <tr style=\"text-align: right;\">\n",
              "      <th></th>\n",
              "      <th>year_of_manufacture</th>\n",
              "      <th>car_model</th>\n",
              "      <th>amount_of_cars</th>\n",
              "    </tr>\n",
              "  </thead>\n",
              "  <tbody>\n",
              "    <tr>\n",
              "      <th>0</th>\n",
              "      <td>2010</td>\n",
              "      <td>4x4</td>\n",
              "      <td>8</td>\n",
              "    </tr>\n",
              "    <tr>\n",
              "      <th>1</th>\n",
              "      <td>2010</td>\n",
              "      <td>convertible/cabriolet</td>\n",
              "      <td>6</td>\n",
              "    </tr>\n",
              "    <tr>\n",
              "      <th>2</th>\n",
              "      <td>2010</td>\n",
              "      <td>coupe</td>\n",
              "      <td>10</td>\n",
              "    </tr>\n",
              "    <tr>\n",
              "      <th>3</th>\n",
              "      <td>2010</td>\n",
              "      <td>crossover</td>\n",
              "      <td>43</td>\n",
              "    </tr>\n",
              "    <tr>\n",
              "      <th>4</th>\n",
              "      <td>2010</td>\n",
              "      <td>hatchback</td>\n",
              "      <td>74</td>\n",
              "    </tr>\n",
              "    <tr>\n",
              "      <th>5</th>\n",
              "      <td>2010</td>\n",
              "      <td>sedan</td>\n",
              "      <td>222</td>\n",
              "    </tr>\n",
              "    <tr>\n",
              "      <th>6</th>\n",
              "      <td>2010</td>\n",
              "      <td>suv</td>\n",
              "      <td>133</td>\n",
              "    </tr>\n",
              "    <tr>\n",
              "      <th>7</th>\n",
              "      <td>2010</td>\n",
              "      <td>van/minivan</td>\n",
              "      <td>15</td>\n",
              "    </tr>\n",
              "    <tr>\n",
              "      <th>8</th>\n",
              "      <td>2011</td>\n",
              "      <td>4x4</td>\n",
              "      <td>13</td>\n",
              "    </tr>\n",
              "    <tr>\n",
              "      <th>9</th>\n",
              "      <td>2011</td>\n",
              "      <td>convertible/cabriolet</td>\n",
              "      <td>1</td>\n",
              "    </tr>\n",
              "    <tr>\n",
              "      <th>10</th>\n",
              "      <td>2011</td>\n",
              "      <td>coupe</td>\n",
              "      <td>10</td>\n",
              "    </tr>\n",
              "    <tr>\n",
              "      <th>11</th>\n",
              "      <td>2011</td>\n",
              "      <td>crossover</td>\n",
              "      <td>49</td>\n",
              "    </tr>\n",
              "    <tr>\n",
              "      <th>12</th>\n",
              "      <td>2011</td>\n",
              "      <td>hatchback</td>\n",
              "      <td>117</td>\n",
              "    </tr>\n",
              "    <tr>\n",
              "      <th>13</th>\n",
              "      <td>2011</td>\n",
              "      <td>sedan</td>\n",
              "      <td>213</td>\n",
              "    </tr>\n",
              "    <tr>\n",
              "      <th>14</th>\n",
              "      <td>2011</td>\n",
              "      <td>suv</td>\n",
              "      <td>99</td>\n",
              "    </tr>\n",
              "    <tr>\n",
              "      <th>15</th>\n",
              "      <td>2011</td>\n",
              "      <td>van/minivan</td>\n",
              "      <td>26</td>\n",
              "    </tr>\n",
              "    <tr>\n",
              "      <th>16</th>\n",
              "      <td>2012</td>\n",
              "      <td>4x4</td>\n",
              "      <td>6</td>\n",
              "    </tr>\n",
              "    <tr>\n",
              "      <th>17</th>\n",
              "      <td>2012</td>\n",
              "      <td>coupe</td>\n",
              "      <td>7</td>\n",
              "    </tr>\n",
              "    <tr>\n",
              "      <th>18</th>\n",
              "      <td>2012</td>\n",
              "      <td>crossover</td>\n",
              "      <td>25</td>\n",
              "    </tr>\n",
              "    <tr>\n",
              "      <th>19</th>\n",
              "      <td>2012</td>\n",
              "      <td>hatchback</td>\n",
              "      <td>41</td>\n",
              "    </tr>\n",
              "    <tr>\n",
              "      <th>20</th>\n",
              "      <td>2012</td>\n",
              "      <td>sedan</td>\n",
              "      <td>119</td>\n",
              "    </tr>\n",
              "    <tr>\n",
              "      <th>21</th>\n",
              "      <td>2012</td>\n",
              "      <td>suv</td>\n",
              "      <td>70</td>\n",
              "    </tr>\n",
              "    <tr>\n",
              "      <th>22</th>\n",
              "      <td>2012</td>\n",
              "      <td>van/minivan</td>\n",
              "      <td>14</td>\n",
              "    </tr>\n",
              "  </tbody>\n",
              "</table>\n",
              "</div>\n",
              "    <div class=\"colab-df-buttons\">\n",
              "\n",
              "  <div class=\"colab-df-container\">\n",
              "    <button class=\"colab-df-convert\" onclick=\"convertToInteractive('df-d369565e-8eb0-43d7-bee8-c19a68e93fc4')\"\n",
              "            title=\"Convert this dataframe to an interactive table.\"\n",
              "            style=\"display:none;\">\n",
              "\n",
              "  <svg xmlns=\"http://www.w3.org/2000/svg\" height=\"24px\" viewBox=\"0 -960 960 960\">\n",
              "    <path d=\"M120-120v-720h720v720H120Zm60-500h600v-160H180v160Zm220 220h160v-160H400v160Zm0 220h160v-160H400v160ZM180-400h160v-160H180v160Zm440 0h160v-160H620v160ZM180-180h160v-160H180v160Zm440 0h160v-160H620v160Z\"/>\n",
              "  </svg>\n",
              "    </button>\n",
              "\n",
              "  <style>\n",
              "    .colab-df-container {\n",
              "      display:flex;\n",
              "      gap: 12px;\n",
              "    }\n",
              "\n",
              "    .colab-df-convert {\n",
              "      background-color: #E8F0FE;\n",
              "      border: none;\n",
              "      border-radius: 50%;\n",
              "      cursor: pointer;\n",
              "      display: none;\n",
              "      fill: #1967D2;\n",
              "      height: 32px;\n",
              "      padding: 0 0 0 0;\n",
              "      width: 32px;\n",
              "    }\n",
              "\n",
              "    .colab-df-convert:hover {\n",
              "      background-color: #E2EBFA;\n",
              "      box-shadow: 0px 1px 2px rgba(60, 64, 67, 0.3), 0px 1px 3px 1px rgba(60, 64, 67, 0.15);\n",
              "      fill: #174EA6;\n",
              "    }\n",
              "\n",
              "    .colab-df-buttons div {\n",
              "      margin-bottom: 4px;\n",
              "    }\n",
              "\n",
              "    [theme=dark] .colab-df-convert {\n",
              "      background-color: #3B4455;\n",
              "      fill: #D2E3FC;\n",
              "    }\n",
              "\n",
              "    [theme=dark] .colab-df-convert:hover {\n",
              "      background-color: #434B5C;\n",
              "      box-shadow: 0px 1px 3px 1px rgba(0, 0, 0, 0.15);\n",
              "      filter: drop-shadow(0px 1px 2px rgba(0, 0, 0, 0.3));\n",
              "      fill: #FFFFFF;\n",
              "    }\n",
              "  </style>\n",
              "\n",
              "    <script>\n",
              "      const buttonEl =\n",
              "        document.querySelector('#df-d369565e-8eb0-43d7-bee8-c19a68e93fc4 button.colab-df-convert');\n",
              "      buttonEl.style.display =\n",
              "        google.colab.kernel.accessAllowed ? 'block' : 'none';\n",
              "\n",
              "      async function convertToInteractive(key) {\n",
              "        const element = document.querySelector('#df-d369565e-8eb0-43d7-bee8-c19a68e93fc4');\n",
              "        const dataTable =\n",
              "          await google.colab.kernel.invokeFunction('convertToInteractive',\n",
              "                                                    [key], {});\n",
              "        if (!dataTable) return;\n",
              "\n",
              "        const docLinkHtml = 'Like what you see? Visit the ' +\n",
              "          '<a target=\"_blank\" href=https://colab.research.google.com/notebooks/data_table.ipynb>data table notebook</a>'\n",
              "          + ' to learn more about interactive tables.';\n",
              "        element.innerHTML = '';\n",
              "        dataTable['output_type'] = 'display_data';\n",
              "        await google.colab.output.renderOutput(dataTable, element);\n",
              "        const docLink = document.createElement('div');\n",
              "        docLink.innerHTML = docLinkHtml;\n",
              "        element.appendChild(docLink);\n",
              "      }\n",
              "    </script>\n",
              "  </div>\n",
              "\n",
              "\n",
              "<div id=\"df-dcc91281-318a-4bac-bc46-f95094262d0b\">\n",
              "  <button class=\"colab-df-quickchart\" onclick=\"quickchart('df-dcc91281-318a-4bac-bc46-f95094262d0b')\"\n",
              "            title=\"Suggest charts\"\n",
              "            style=\"display:none;\">\n",
              "\n",
              "<svg xmlns=\"http://www.w3.org/2000/svg\" height=\"24px\"viewBox=\"0 0 24 24\"\n",
              "     width=\"24px\">\n",
              "    <g>\n",
              "        <path d=\"M19 3H5c-1.1 0-2 .9-2 2v14c0 1.1.9 2 2 2h14c1.1 0 2-.9 2-2V5c0-1.1-.9-2-2-2zM9 17H7v-7h2v7zm4 0h-2V7h2v10zm4 0h-2v-4h2v4z\"/>\n",
              "    </g>\n",
              "</svg>\n",
              "  </button>\n",
              "\n",
              "<style>\n",
              "  .colab-df-quickchart {\n",
              "      --bg-color: #E8F0FE;\n",
              "      --fill-color: #1967D2;\n",
              "      --hover-bg-color: #E2EBFA;\n",
              "      --hover-fill-color: #174EA6;\n",
              "      --disabled-fill-color: #AAA;\n",
              "      --disabled-bg-color: #DDD;\n",
              "  }\n",
              "\n",
              "  [theme=dark] .colab-df-quickchart {\n",
              "      --bg-color: #3B4455;\n",
              "      --fill-color: #D2E3FC;\n",
              "      --hover-bg-color: #434B5C;\n",
              "      --hover-fill-color: #FFFFFF;\n",
              "      --disabled-bg-color: #3B4455;\n",
              "      --disabled-fill-color: #666;\n",
              "  }\n",
              "\n",
              "  .colab-df-quickchart {\n",
              "    background-color: var(--bg-color);\n",
              "    border: none;\n",
              "    border-radius: 50%;\n",
              "    cursor: pointer;\n",
              "    display: none;\n",
              "    fill: var(--fill-color);\n",
              "    height: 32px;\n",
              "    padding: 0;\n",
              "    width: 32px;\n",
              "  }\n",
              "\n",
              "  .colab-df-quickchart:hover {\n",
              "    background-color: var(--hover-bg-color);\n",
              "    box-shadow: 0 1px 2px rgba(60, 64, 67, 0.3), 0 1px 3px 1px rgba(60, 64, 67, 0.15);\n",
              "    fill: var(--button-hover-fill-color);\n",
              "  }\n",
              "\n",
              "  .colab-df-quickchart-complete:disabled,\n",
              "  .colab-df-quickchart-complete:disabled:hover {\n",
              "    background-color: var(--disabled-bg-color);\n",
              "    fill: var(--disabled-fill-color);\n",
              "    box-shadow: none;\n",
              "  }\n",
              "\n",
              "  .colab-df-spinner {\n",
              "    border: 2px solid var(--fill-color);\n",
              "    border-color: transparent;\n",
              "    border-bottom-color: var(--fill-color);\n",
              "    animation:\n",
              "      spin 1s steps(1) infinite;\n",
              "  }\n",
              "\n",
              "  @keyframes spin {\n",
              "    0% {\n",
              "      border-color: transparent;\n",
              "      border-bottom-color: var(--fill-color);\n",
              "      border-left-color: var(--fill-color);\n",
              "    }\n",
              "    20% {\n",
              "      border-color: transparent;\n",
              "      border-left-color: var(--fill-color);\n",
              "      border-top-color: var(--fill-color);\n",
              "    }\n",
              "    30% {\n",
              "      border-color: transparent;\n",
              "      border-left-color: var(--fill-color);\n",
              "      border-top-color: var(--fill-color);\n",
              "      border-right-color: var(--fill-color);\n",
              "    }\n",
              "    40% {\n",
              "      border-color: transparent;\n",
              "      border-right-color: var(--fill-color);\n",
              "      border-top-color: var(--fill-color);\n",
              "    }\n",
              "    60% {\n",
              "      border-color: transparent;\n",
              "      border-right-color: var(--fill-color);\n",
              "    }\n",
              "    80% {\n",
              "      border-color: transparent;\n",
              "      border-right-color: var(--fill-color);\n",
              "      border-bottom-color: var(--fill-color);\n",
              "    }\n",
              "    90% {\n",
              "      border-color: transparent;\n",
              "      border-bottom-color: var(--fill-color);\n",
              "    }\n",
              "  }\n",
              "</style>\n",
              "\n",
              "  <script>\n",
              "    async function quickchart(key) {\n",
              "      const quickchartButtonEl =\n",
              "        document.querySelector('#' + key + ' button');\n",
              "      quickchartButtonEl.disabled = true;  // To prevent multiple clicks.\n",
              "      quickchartButtonEl.classList.add('colab-df-spinner');\n",
              "      try {\n",
              "        const charts = await google.colab.kernel.invokeFunction(\n",
              "            'suggestCharts', [key], {});\n",
              "      } catch (error) {\n",
              "        console.error('Error during call to suggestCharts:', error);\n",
              "      }\n",
              "      quickchartButtonEl.classList.remove('colab-df-spinner');\n",
              "      quickchartButtonEl.classList.add('colab-df-quickchart-complete');\n",
              "    }\n",
              "    (() => {\n",
              "      let quickchartButtonEl =\n",
              "        document.querySelector('#df-dcc91281-318a-4bac-bc46-f95094262d0b button');\n",
              "      quickchartButtonEl.style.display =\n",
              "        google.colab.kernel.accessAllowed ? 'block' : 'none';\n",
              "    })();\n",
              "  </script>\n",
              "</div>\n",
              "\n",
              "  <div id=\"id_e775594d-dba8-4218-a5db-2583a5bf48f8\">\n",
              "    <style>\n",
              "      .colab-df-generate {\n",
              "        background-color: #E8F0FE;\n",
              "        border: none;\n",
              "        border-radius: 50%;\n",
              "        cursor: pointer;\n",
              "        display: none;\n",
              "        fill: #1967D2;\n",
              "        height: 32px;\n",
              "        padding: 0 0 0 0;\n",
              "        width: 32px;\n",
              "      }\n",
              "\n",
              "      .colab-df-generate:hover {\n",
              "        background-color: #E2EBFA;\n",
              "        box-shadow: 0px 1px 2px rgba(60, 64, 67, 0.3), 0px 1px 3px 1px rgba(60, 64, 67, 0.15);\n",
              "        fill: #174EA6;\n",
              "      }\n",
              "\n",
              "      [theme=dark] .colab-df-generate {\n",
              "        background-color: #3B4455;\n",
              "        fill: #D2E3FC;\n",
              "      }\n",
              "\n",
              "      [theme=dark] .colab-df-generate:hover {\n",
              "        background-color: #434B5C;\n",
              "        box-shadow: 0px 1px 3px 1px rgba(0, 0, 0, 0.15);\n",
              "        filter: drop-shadow(0px 1px 2px rgba(0, 0, 0, 0.3));\n",
              "        fill: #FFFFFF;\n",
              "      }\n",
              "    </style>\n",
              "    <button class=\"colab-df-generate\" onclick=\"generateWithVariable('used_mileage_over_year')\"\n",
              "            title=\"Generate code using this dataframe.\"\n",
              "            style=\"display:none;\">\n",
              "\n",
              "  <svg xmlns=\"http://www.w3.org/2000/svg\" height=\"24px\"viewBox=\"0 0 24 24\"\n",
              "       width=\"24px\">\n",
              "    <path d=\"M7,19H8.4L18.45,9,17,7.55,7,17.6ZM5,21V16.75L18.45,3.32a2,2,0,0,1,2.83,0l1.4,1.43a1.91,1.91,0,0,1,.58,1.4,1.91,1.91,0,0,1-.58,1.4L9.25,21ZM18.45,9,17,7.55Zm-12,3A5.31,5.31,0,0,0,4.9,8.1,5.31,5.31,0,0,0,1,6.5,5.31,5.31,0,0,0,4.9,4.9,5.31,5.31,0,0,0,6.5,1,5.31,5.31,0,0,0,8.1,4.9,5.31,5.31,0,0,0,12,6.5,5.46,5.46,0,0,0,6.5,12Z\"/>\n",
              "  </svg>\n",
              "    </button>\n",
              "    <script>\n",
              "      (() => {\n",
              "      const buttonEl =\n",
              "        document.querySelector('#id_e775594d-dba8-4218-a5db-2583a5bf48f8 button.colab-df-generate');\n",
              "      buttonEl.style.display =\n",
              "        google.colab.kernel.accessAllowed ? 'block' : 'none';\n",
              "\n",
              "      buttonEl.onclick = () => {\n",
              "        google.colab.notebook.generateWithVariable('used_mileage_over_year');\n",
              "      }\n",
              "      })();\n",
              "    </script>\n",
              "  </div>\n",
              "\n",
              "    </div>\n",
              "  </div>\n"
            ],
            "application/vnd.google.colaboratory.intrinsic+json": {
              "type": "dataframe",
              "variable_name": "used_mileage_over_year",
              "summary": "{\n  \"name\": \"used_mileage_over_year\",\n  \"rows\": 23,\n  \"fields\": [\n    {\n      \"column\": \"year_of_manufacture\",\n      \"properties\": {\n        \"dtype\": \"number\",\n        \"std\": 0,\n        \"min\": 2010,\n        \"max\": 2012,\n        \"num_unique_values\": 3,\n        \"samples\": [\n          2010,\n          2011,\n          2012\n        ],\n        \"semantic_type\": \"\",\n        \"description\": \"\"\n      }\n    },\n    {\n      \"column\": \"car_model\",\n      \"properties\": {\n        \"dtype\": \"category\",\n        \"num_unique_values\": 8,\n        \"samples\": [\n          \"convertible/cabriolet\",\n          \"sedan\",\n          \"4x4\"\n        ],\n        \"semantic_type\": \"\",\n        \"description\": \"\"\n      }\n    },\n    {\n      \"column\": \"amount_of_cars\",\n      \"properties\": {\n        \"dtype\": \"number\",\n        \"std\": 64,\n        \"min\": 1,\n        \"max\": 222,\n        \"num_unique_values\": 21,\n        \"samples\": [\n          8,\n          41,\n          7\n        ],\n        \"semantic_type\": \"\",\n        \"description\": \"\"\n      }\n    }\n  ]\n}"
            }
          },
          "metadata": {},
          "execution_count": 108
        }
      ]
    },
    {
      "cell_type": "markdown",
      "source": [
        "#### Summarize information about car make in 2010"
      ],
      "metadata": {
        "id": "Qr44GTvdhEPR"
      }
    },
    {
      "cell_type": "code",
      "source": [
        "used_mileage_2010 = used_price_over_manufacture_year[used_price_over_manufacture_year['year_of_manufacture'] == 2010]\n",
        "used_mileage_2010[['fuel_consumption','mileage','price (AUD)']].describe()"
      ],
      "metadata": {
        "colab": {
          "base_uri": "https://localhost:8080/",
          "height": 300
        },
        "id": "gwAxGlaXeFUN",
        "outputId": "e7137a75-0222-41a0-a060-8334c9b1f4d8"
      },
      "execution_count": null,
      "outputs": [
        {
          "output_type": "execute_result",
          "data": {
            "text/plain": [
              "       fuel_consumption    mileage  price (AUD)\n",
              "count           511.000    511.000      511.000\n",
              "mean             71.934  73726.287    17111.917\n",
              "std              10.367  30947.853    10214.226\n",
              "min              50.000      4.000     2631.585\n",
              "25%              66.321  60585.720    10323.910\n",
              "50%              74.313  72288.682    13724.727\n",
              "75%              80.000  97500.000    19939.316\n",
              "max              90.000 128000.000    40485.920"
            ],
            "text/html": [
              "\n",
              "  <div id=\"df-d2155448-74ac-46e2-916a-bb3d83457f34\" class=\"colab-df-container\">\n",
              "    <div>\n",
              "<style scoped>\n",
              "    .dataframe tbody tr th:only-of-type {\n",
              "        vertical-align: middle;\n",
              "    }\n",
              "\n",
              "    .dataframe tbody tr th {\n",
              "        vertical-align: top;\n",
              "    }\n",
              "\n",
              "    .dataframe thead th {\n",
              "        text-align: right;\n",
              "    }\n",
              "</style>\n",
              "<table border=\"1\" class=\"dataframe\">\n",
              "  <thead>\n",
              "    <tr style=\"text-align: right;\">\n",
              "      <th></th>\n",
              "      <th>fuel_consumption</th>\n",
              "      <th>mileage</th>\n",
              "      <th>price (AUD)</th>\n",
              "    </tr>\n",
              "  </thead>\n",
              "  <tbody>\n",
              "    <tr>\n",
              "      <th>count</th>\n",
              "      <td>511.000</td>\n",
              "      <td>511.000</td>\n",
              "      <td>511.000</td>\n",
              "    </tr>\n",
              "    <tr>\n",
              "      <th>mean</th>\n",
              "      <td>71.934</td>\n",
              "      <td>73726.287</td>\n",
              "      <td>17111.917</td>\n",
              "    </tr>\n",
              "    <tr>\n",
              "      <th>std</th>\n",
              "      <td>10.367</td>\n",
              "      <td>30947.853</td>\n",
              "      <td>10214.226</td>\n",
              "    </tr>\n",
              "    <tr>\n",
              "      <th>min</th>\n",
              "      <td>50.000</td>\n",
              "      <td>4.000</td>\n",
              "      <td>2631.585</td>\n",
              "    </tr>\n",
              "    <tr>\n",
              "      <th>25%</th>\n",
              "      <td>66.321</td>\n",
              "      <td>60585.720</td>\n",
              "      <td>10323.910</td>\n",
              "    </tr>\n",
              "    <tr>\n",
              "      <th>50%</th>\n",
              "      <td>74.313</td>\n",
              "      <td>72288.682</td>\n",
              "      <td>13724.727</td>\n",
              "    </tr>\n",
              "    <tr>\n",
              "      <th>75%</th>\n",
              "      <td>80.000</td>\n",
              "      <td>97500.000</td>\n",
              "      <td>19939.316</td>\n",
              "    </tr>\n",
              "    <tr>\n",
              "      <th>max</th>\n",
              "      <td>90.000</td>\n",
              "      <td>128000.000</td>\n",
              "      <td>40485.920</td>\n",
              "    </tr>\n",
              "  </tbody>\n",
              "</table>\n",
              "</div>\n",
              "    <div class=\"colab-df-buttons\">\n",
              "\n",
              "  <div class=\"colab-df-container\">\n",
              "    <button class=\"colab-df-convert\" onclick=\"convertToInteractive('df-d2155448-74ac-46e2-916a-bb3d83457f34')\"\n",
              "            title=\"Convert this dataframe to an interactive table.\"\n",
              "            style=\"display:none;\">\n",
              "\n",
              "  <svg xmlns=\"http://www.w3.org/2000/svg\" height=\"24px\" viewBox=\"0 -960 960 960\">\n",
              "    <path d=\"M120-120v-720h720v720H120Zm60-500h600v-160H180v160Zm220 220h160v-160H400v160Zm0 220h160v-160H400v160ZM180-400h160v-160H180v160Zm440 0h160v-160H620v160ZM180-180h160v-160H180v160Zm440 0h160v-160H620v160Z\"/>\n",
              "  </svg>\n",
              "    </button>\n",
              "\n",
              "  <style>\n",
              "    .colab-df-container {\n",
              "      display:flex;\n",
              "      gap: 12px;\n",
              "    }\n",
              "\n",
              "    .colab-df-convert {\n",
              "      background-color: #E8F0FE;\n",
              "      border: none;\n",
              "      border-radius: 50%;\n",
              "      cursor: pointer;\n",
              "      display: none;\n",
              "      fill: #1967D2;\n",
              "      height: 32px;\n",
              "      padding: 0 0 0 0;\n",
              "      width: 32px;\n",
              "    }\n",
              "\n",
              "    .colab-df-convert:hover {\n",
              "      background-color: #E2EBFA;\n",
              "      box-shadow: 0px 1px 2px rgba(60, 64, 67, 0.3), 0px 1px 3px 1px rgba(60, 64, 67, 0.15);\n",
              "      fill: #174EA6;\n",
              "    }\n",
              "\n",
              "    .colab-df-buttons div {\n",
              "      margin-bottom: 4px;\n",
              "    }\n",
              "\n",
              "    [theme=dark] .colab-df-convert {\n",
              "      background-color: #3B4455;\n",
              "      fill: #D2E3FC;\n",
              "    }\n",
              "\n",
              "    [theme=dark] .colab-df-convert:hover {\n",
              "      background-color: #434B5C;\n",
              "      box-shadow: 0px 1px 3px 1px rgba(0, 0, 0, 0.15);\n",
              "      filter: drop-shadow(0px 1px 2px rgba(0, 0, 0, 0.3));\n",
              "      fill: #FFFFFF;\n",
              "    }\n",
              "  </style>\n",
              "\n",
              "    <script>\n",
              "      const buttonEl =\n",
              "        document.querySelector('#df-d2155448-74ac-46e2-916a-bb3d83457f34 button.colab-df-convert');\n",
              "      buttonEl.style.display =\n",
              "        google.colab.kernel.accessAllowed ? 'block' : 'none';\n",
              "\n",
              "      async function convertToInteractive(key) {\n",
              "        const element = document.querySelector('#df-d2155448-74ac-46e2-916a-bb3d83457f34');\n",
              "        const dataTable =\n",
              "          await google.colab.kernel.invokeFunction('convertToInteractive',\n",
              "                                                    [key], {});\n",
              "        if (!dataTable) return;\n",
              "\n",
              "        const docLinkHtml = 'Like what you see? Visit the ' +\n",
              "          '<a target=\"_blank\" href=https://colab.research.google.com/notebooks/data_table.ipynb>data table notebook</a>'\n",
              "          + ' to learn more about interactive tables.';\n",
              "        element.innerHTML = '';\n",
              "        dataTable['output_type'] = 'display_data';\n",
              "        await google.colab.output.renderOutput(dataTable, element);\n",
              "        const docLink = document.createElement('div');\n",
              "        docLink.innerHTML = docLinkHtml;\n",
              "        element.appendChild(docLink);\n",
              "      }\n",
              "    </script>\n",
              "  </div>\n",
              "\n",
              "\n",
              "<div id=\"df-a76ccc3d-2664-4abc-aec6-5c03ab9acbf0\">\n",
              "  <button class=\"colab-df-quickchart\" onclick=\"quickchart('df-a76ccc3d-2664-4abc-aec6-5c03ab9acbf0')\"\n",
              "            title=\"Suggest charts\"\n",
              "            style=\"display:none;\">\n",
              "\n",
              "<svg xmlns=\"http://www.w3.org/2000/svg\" height=\"24px\"viewBox=\"0 0 24 24\"\n",
              "     width=\"24px\">\n",
              "    <g>\n",
              "        <path d=\"M19 3H5c-1.1 0-2 .9-2 2v14c0 1.1.9 2 2 2h14c1.1 0 2-.9 2-2V5c0-1.1-.9-2-2-2zM9 17H7v-7h2v7zm4 0h-2V7h2v10zm4 0h-2v-4h2v4z\"/>\n",
              "    </g>\n",
              "</svg>\n",
              "  </button>\n",
              "\n",
              "<style>\n",
              "  .colab-df-quickchart {\n",
              "      --bg-color: #E8F0FE;\n",
              "      --fill-color: #1967D2;\n",
              "      --hover-bg-color: #E2EBFA;\n",
              "      --hover-fill-color: #174EA6;\n",
              "      --disabled-fill-color: #AAA;\n",
              "      --disabled-bg-color: #DDD;\n",
              "  }\n",
              "\n",
              "  [theme=dark] .colab-df-quickchart {\n",
              "      --bg-color: #3B4455;\n",
              "      --fill-color: #D2E3FC;\n",
              "      --hover-bg-color: #434B5C;\n",
              "      --hover-fill-color: #FFFFFF;\n",
              "      --disabled-bg-color: #3B4455;\n",
              "      --disabled-fill-color: #666;\n",
              "  }\n",
              "\n",
              "  .colab-df-quickchart {\n",
              "    background-color: var(--bg-color);\n",
              "    border: none;\n",
              "    border-radius: 50%;\n",
              "    cursor: pointer;\n",
              "    display: none;\n",
              "    fill: var(--fill-color);\n",
              "    height: 32px;\n",
              "    padding: 0;\n",
              "    width: 32px;\n",
              "  }\n",
              "\n",
              "  .colab-df-quickchart:hover {\n",
              "    background-color: var(--hover-bg-color);\n",
              "    box-shadow: 0 1px 2px rgba(60, 64, 67, 0.3), 0 1px 3px 1px rgba(60, 64, 67, 0.15);\n",
              "    fill: var(--button-hover-fill-color);\n",
              "  }\n",
              "\n",
              "  .colab-df-quickchart-complete:disabled,\n",
              "  .colab-df-quickchart-complete:disabled:hover {\n",
              "    background-color: var(--disabled-bg-color);\n",
              "    fill: var(--disabled-fill-color);\n",
              "    box-shadow: none;\n",
              "  }\n",
              "\n",
              "  .colab-df-spinner {\n",
              "    border: 2px solid var(--fill-color);\n",
              "    border-color: transparent;\n",
              "    border-bottom-color: var(--fill-color);\n",
              "    animation:\n",
              "      spin 1s steps(1) infinite;\n",
              "  }\n",
              "\n",
              "  @keyframes spin {\n",
              "    0% {\n",
              "      border-color: transparent;\n",
              "      border-bottom-color: var(--fill-color);\n",
              "      border-left-color: var(--fill-color);\n",
              "    }\n",
              "    20% {\n",
              "      border-color: transparent;\n",
              "      border-left-color: var(--fill-color);\n",
              "      border-top-color: var(--fill-color);\n",
              "    }\n",
              "    30% {\n",
              "      border-color: transparent;\n",
              "      border-left-color: var(--fill-color);\n",
              "      border-top-color: var(--fill-color);\n",
              "      border-right-color: var(--fill-color);\n",
              "    }\n",
              "    40% {\n",
              "      border-color: transparent;\n",
              "      border-right-color: var(--fill-color);\n",
              "      border-top-color: var(--fill-color);\n",
              "    }\n",
              "    60% {\n",
              "      border-color: transparent;\n",
              "      border-right-color: var(--fill-color);\n",
              "    }\n",
              "    80% {\n",
              "      border-color: transparent;\n",
              "      border-right-color: var(--fill-color);\n",
              "      border-bottom-color: var(--fill-color);\n",
              "    }\n",
              "    90% {\n",
              "      border-color: transparent;\n",
              "      border-bottom-color: var(--fill-color);\n",
              "    }\n",
              "  }\n",
              "</style>\n",
              "\n",
              "  <script>\n",
              "    async function quickchart(key) {\n",
              "      const quickchartButtonEl =\n",
              "        document.querySelector('#' + key + ' button');\n",
              "      quickchartButtonEl.disabled = true;  // To prevent multiple clicks.\n",
              "      quickchartButtonEl.classList.add('colab-df-spinner');\n",
              "      try {\n",
              "        const charts = await google.colab.kernel.invokeFunction(\n",
              "            'suggestCharts', [key], {});\n",
              "      } catch (error) {\n",
              "        console.error('Error during call to suggestCharts:', error);\n",
              "      }\n",
              "      quickchartButtonEl.classList.remove('colab-df-spinner');\n",
              "      quickchartButtonEl.classList.add('colab-df-quickchart-complete');\n",
              "    }\n",
              "    (() => {\n",
              "      let quickchartButtonEl =\n",
              "        document.querySelector('#df-a76ccc3d-2664-4abc-aec6-5c03ab9acbf0 button');\n",
              "      quickchartButtonEl.style.display =\n",
              "        google.colab.kernel.accessAllowed ? 'block' : 'none';\n",
              "    })();\n",
              "  </script>\n",
              "</div>\n",
              "\n",
              "    </div>\n",
              "  </div>\n"
            ],
            "application/vnd.google.colaboratory.intrinsic+json": {
              "type": "dataframe",
              "summary": "{\n  \"name\": \"used_mileage_2010[['fuel_consumption','mileage','price (AUD)']]\",\n  \"rows\": 8,\n  \"fields\": [\n    {\n      \"column\": \"fuel_consumption\",\n      \"properties\": {\n        \"dtype\": \"number\",\n        \"std\": 160.1672815884164,\n        \"min\": 10.366805614852426,\n        \"max\": 511.0,\n        \"num_unique_values\": 8,\n        \"samples\": [\n          71.93381517016829,\n          74.31293302540416,\n          511.0\n        ],\n        \"semantic_type\": \"\",\n        \"description\": \"\"\n      }\n    },\n    {\n      \"column\": \"mileage\",\n      \"properties\": {\n        \"dtype\": \"number\",\n        \"std\": 45227.57452264823,\n        \"min\": 4.0,\n        \"max\": 128000.0,\n        \"num_unique_values\": 8,\n        \"samples\": [\n          73726.28660583423,\n          72288.6820199778,\n          511.0\n        ],\n        \"semantic_type\": \"\",\n        \"description\": \"\"\n      }\n    },\n    {\n      \"column\": \"price (AUD)\",\n      \"properties\": {\n        \"dtype\": \"number\",\n        \"std\": 12447.01103858014,\n        \"min\": 511.0,\n        \"max\": 40485.92011,\n        \"num_unique_values\": 8,\n        \"samples\": [\n          17111.916851804304,\n          13724.72692,\n          511.0\n        ],\n        \"semantic_type\": \"\",\n        \"description\": \"\"\n      }\n    }\n  ]\n}"
            }
          },
          "metadata": {},
          "execution_count": 109
        }
      ]
    },
    {
      "cell_type": "markdown",
      "source": [
        "#### Summarize information about car make in 2011"
      ],
      "metadata": {
        "id": "uEd1eU9ihJyS"
      }
    },
    {
      "cell_type": "code",
      "source": [
        "used_mileage_2011 = used_price_over_manufacture_year[used_price_over_manufacture_year['year_of_manufacture'] == 2011]\n",
        "used_mileage_2011[['fuel_consumption','mileage','price (AUD)']].describe()"
      ],
      "metadata": {
        "colab": {
          "base_uri": "https://localhost:8080/",
          "height": 300
        },
        "id": "VSCeU6Dqdf1j",
        "outputId": "a03c977c-95fd-4589-bd31-41f53e2a0cf1"
      },
      "execution_count": null,
      "outputs": [
        {
          "output_type": "execute_result",
          "data": {
            "text/plain": [
              "       fuel_consumption    mileage  price (AUD)\n",
              "count           528.000    528.000      528.000\n",
              "mean             69.005  72196.402    15791.196\n",
              "std              10.314  30609.736     9190.787\n",
              "min              50.000      6.000     2388.669\n",
              "25%              60.000  60585.720    10323.910\n",
              "50%              69.814  72288.682    13016.223\n",
              "75%              79.608  94338.890    17611.375\n",
              "max              90.000 127000.000    40485.920"
            ],
            "text/html": [
              "\n",
              "  <div id=\"df-defd5073-0fee-4b3f-a8d0-08e0d25f77d1\" class=\"colab-df-container\">\n",
              "    <div>\n",
              "<style scoped>\n",
              "    .dataframe tbody tr th:only-of-type {\n",
              "        vertical-align: middle;\n",
              "    }\n",
              "\n",
              "    .dataframe tbody tr th {\n",
              "        vertical-align: top;\n",
              "    }\n",
              "\n",
              "    .dataframe thead th {\n",
              "        text-align: right;\n",
              "    }\n",
              "</style>\n",
              "<table border=\"1\" class=\"dataframe\">\n",
              "  <thead>\n",
              "    <tr style=\"text-align: right;\">\n",
              "      <th></th>\n",
              "      <th>fuel_consumption</th>\n",
              "      <th>mileage</th>\n",
              "      <th>price (AUD)</th>\n",
              "    </tr>\n",
              "  </thead>\n",
              "  <tbody>\n",
              "    <tr>\n",
              "      <th>count</th>\n",
              "      <td>528.000</td>\n",
              "      <td>528.000</td>\n",
              "      <td>528.000</td>\n",
              "    </tr>\n",
              "    <tr>\n",
              "      <th>mean</th>\n",
              "      <td>69.005</td>\n",
              "      <td>72196.402</td>\n",
              "      <td>15791.196</td>\n",
              "    </tr>\n",
              "    <tr>\n",
              "      <th>std</th>\n",
              "      <td>10.314</td>\n",
              "      <td>30609.736</td>\n",
              "      <td>9190.787</td>\n",
              "    </tr>\n",
              "    <tr>\n",
              "      <th>min</th>\n",
              "      <td>50.000</td>\n",
              "      <td>6.000</td>\n",
              "      <td>2388.669</td>\n",
              "    </tr>\n",
              "    <tr>\n",
              "      <th>25%</th>\n",
              "      <td>60.000</td>\n",
              "      <td>60585.720</td>\n",
              "      <td>10323.910</td>\n",
              "    </tr>\n",
              "    <tr>\n",
              "      <th>50%</th>\n",
              "      <td>69.814</td>\n",
              "      <td>72288.682</td>\n",
              "      <td>13016.223</td>\n",
              "    </tr>\n",
              "    <tr>\n",
              "      <th>75%</th>\n",
              "      <td>79.608</td>\n",
              "      <td>94338.890</td>\n",
              "      <td>17611.375</td>\n",
              "    </tr>\n",
              "    <tr>\n",
              "      <th>max</th>\n",
              "      <td>90.000</td>\n",
              "      <td>127000.000</td>\n",
              "      <td>40485.920</td>\n",
              "    </tr>\n",
              "  </tbody>\n",
              "</table>\n",
              "</div>\n",
              "    <div class=\"colab-df-buttons\">\n",
              "\n",
              "  <div class=\"colab-df-container\">\n",
              "    <button class=\"colab-df-convert\" onclick=\"convertToInteractive('df-defd5073-0fee-4b3f-a8d0-08e0d25f77d1')\"\n",
              "            title=\"Convert this dataframe to an interactive table.\"\n",
              "            style=\"display:none;\">\n",
              "\n",
              "  <svg xmlns=\"http://www.w3.org/2000/svg\" height=\"24px\" viewBox=\"0 -960 960 960\">\n",
              "    <path d=\"M120-120v-720h720v720H120Zm60-500h600v-160H180v160Zm220 220h160v-160H400v160Zm0 220h160v-160H400v160ZM180-400h160v-160H180v160Zm440 0h160v-160H620v160ZM180-180h160v-160H180v160Zm440 0h160v-160H620v160Z\"/>\n",
              "  </svg>\n",
              "    </button>\n",
              "\n",
              "  <style>\n",
              "    .colab-df-container {\n",
              "      display:flex;\n",
              "      gap: 12px;\n",
              "    }\n",
              "\n",
              "    .colab-df-convert {\n",
              "      background-color: #E8F0FE;\n",
              "      border: none;\n",
              "      border-radius: 50%;\n",
              "      cursor: pointer;\n",
              "      display: none;\n",
              "      fill: #1967D2;\n",
              "      height: 32px;\n",
              "      padding: 0 0 0 0;\n",
              "      width: 32px;\n",
              "    }\n",
              "\n",
              "    .colab-df-convert:hover {\n",
              "      background-color: #E2EBFA;\n",
              "      box-shadow: 0px 1px 2px rgba(60, 64, 67, 0.3), 0px 1px 3px 1px rgba(60, 64, 67, 0.15);\n",
              "      fill: #174EA6;\n",
              "    }\n",
              "\n",
              "    .colab-df-buttons div {\n",
              "      margin-bottom: 4px;\n",
              "    }\n",
              "\n",
              "    [theme=dark] .colab-df-convert {\n",
              "      background-color: #3B4455;\n",
              "      fill: #D2E3FC;\n",
              "    }\n",
              "\n",
              "    [theme=dark] .colab-df-convert:hover {\n",
              "      background-color: #434B5C;\n",
              "      box-shadow: 0px 1px 3px 1px rgba(0, 0, 0, 0.15);\n",
              "      filter: drop-shadow(0px 1px 2px rgba(0, 0, 0, 0.3));\n",
              "      fill: #FFFFFF;\n",
              "    }\n",
              "  </style>\n",
              "\n",
              "    <script>\n",
              "      const buttonEl =\n",
              "        document.querySelector('#df-defd5073-0fee-4b3f-a8d0-08e0d25f77d1 button.colab-df-convert');\n",
              "      buttonEl.style.display =\n",
              "        google.colab.kernel.accessAllowed ? 'block' : 'none';\n",
              "\n",
              "      async function convertToInteractive(key) {\n",
              "        const element = document.querySelector('#df-defd5073-0fee-4b3f-a8d0-08e0d25f77d1');\n",
              "        const dataTable =\n",
              "          await google.colab.kernel.invokeFunction('convertToInteractive',\n",
              "                                                    [key], {});\n",
              "        if (!dataTable) return;\n",
              "\n",
              "        const docLinkHtml = 'Like what you see? Visit the ' +\n",
              "          '<a target=\"_blank\" href=https://colab.research.google.com/notebooks/data_table.ipynb>data table notebook</a>'\n",
              "          + ' to learn more about interactive tables.';\n",
              "        element.innerHTML = '';\n",
              "        dataTable['output_type'] = 'display_data';\n",
              "        await google.colab.output.renderOutput(dataTable, element);\n",
              "        const docLink = document.createElement('div');\n",
              "        docLink.innerHTML = docLinkHtml;\n",
              "        element.appendChild(docLink);\n",
              "      }\n",
              "    </script>\n",
              "  </div>\n",
              "\n",
              "\n",
              "<div id=\"df-e17629d3-2175-4b2e-bb7f-21d965d54615\">\n",
              "  <button class=\"colab-df-quickchart\" onclick=\"quickchart('df-e17629d3-2175-4b2e-bb7f-21d965d54615')\"\n",
              "            title=\"Suggest charts\"\n",
              "            style=\"display:none;\">\n",
              "\n",
              "<svg xmlns=\"http://www.w3.org/2000/svg\" height=\"24px\"viewBox=\"0 0 24 24\"\n",
              "     width=\"24px\">\n",
              "    <g>\n",
              "        <path d=\"M19 3H5c-1.1 0-2 .9-2 2v14c0 1.1.9 2 2 2h14c1.1 0 2-.9 2-2V5c0-1.1-.9-2-2-2zM9 17H7v-7h2v7zm4 0h-2V7h2v10zm4 0h-2v-4h2v4z\"/>\n",
              "    </g>\n",
              "</svg>\n",
              "  </button>\n",
              "\n",
              "<style>\n",
              "  .colab-df-quickchart {\n",
              "      --bg-color: #E8F0FE;\n",
              "      --fill-color: #1967D2;\n",
              "      --hover-bg-color: #E2EBFA;\n",
              "      --hover-fill-color: #174EA6;\n",
              "      --disabled-fill-color: #AAA;\n",
              "      --disabled-bg-color: #DDD;\n",
              "  }\n",
              "\n",
              "  [theme=dark] .colab-df-quickchart {\n",
              "      --bg-color: #3B4455;\n",
              "      --fill-color: #D2E3FC;\n",
              "      --hover-bg-color: #434B5C;\n",
              "      --hover-fill-color: #FFFFFF;\n",
              "      --disabled-bg-color: #3B4455;\n",
              "      --disabled-fill-color: #666;\n",
              "  }\n",
              "\n",
              "  .colab-df-quickchart {\n",
              "    background-color: var(--bg-color);\n",
              "    border: none;\n",
              "    border-radius: 50%;\n",
              "    cursor: pointer;\n",
              "    display: none;\n",
              "    fill: var(--fill-color);\n",
              "    height: 32px;\n",
              "    padding: 0;\n",
              "    width: 32px;\n",
              "  }\n",
              "\n",
              "  .colab-df-quickchart:hover {\n",
              "    background-color: var(--hover-bg-color);\n",
              "    box-shadow: 0 1px 2px rgba(60, 64, 67, 0.3), 0 1px 3px 1px rgba(60, 64, 67, 0.15);\n",
              "    fill: var(--button-hover-fill-color);\n",
              "  }\n",
              "\n",
              "  .colab-df-quickchart-complete:disabled,\n",
              "  .colab-df-quickchart-complete:disabled:hover {\n",
              "    background-color: var(--disabled-bg-color);\n",
              "    fill: var(--disabled-fill-color);\n",
              "    box-shadow: none;\n",
              "  }\n",
              "\n",
              "  .colab-df-spinner {\n",
              "    border: 2px solid var(--fill-color);\n",
              "    border-color: transparent;\n",
              "    border-bottom-color: var(--fill-color);\n",
              "    animation:\n",
              "      spin 1s steps(1) infinite;\n",
              "  }\n",
              "\n",
              "  @keyframes spin {\n",
              "    0% {\n",
              "      border-color: transparent;\n",
              "      border-bottom-color: var(--fill-color);\n",
              "      border-left-color: var(--fill-color);\n",
              "    }\n",
              "    20% {\n",
              "      border-color: transparent;\n",
              "      border-left-color: var(--fill-color);\n",
              "      border-top-color: var(--fill-color);\n",
              "    }\n",
              "    30% {\n",
              "      border-color: transparent;\n",
              "      border-left-color: var(--fill-color);\n",
              "      border-top-color: var(--fill-color);\n",
              "      border-right-color: var(--fill-color);\n",
              "    }\n",
              "    40% {\n",
              "      border-color: transparent;\n",
              "      border-right-color: var(--fill-color);\n",
              "      border-top-color: var(--fill-color);\n",
              "    }\n",
              "    60% {\n",
              "      border-color: transparent;\n",
              "      border-right-color: var(--fill-color);\n",
              "    }\n",
              "    80% {\n",
              "      border-color: transparent;\n",
              "      border-right-color: var(--fill-color);\n",
              "      border-bottom-color: var(--fill-color);\n",
              "    }\n",
              "    90% {\n",
              "      border-color: transparent;\n",
              "      border-bottom-color: var(--fill-color);\n",
              "    }\n",
              "  }\n",
              "</style>\n",
              "\n",
              "  <script>\n",
              "    async function quickchart(key) {\n",
              "      const quickchartButtonEl =\n",
              "        document.querySelector('#' + key + ' button');\n",
              "      quickchartButtonEl.disabled = true;  // To prevent multiple clicks.\n",
              "      quickchartButtonEl.classList.add('colab-df-spinner');\n",
              "      try {\n",
              "        const charts = await google.colab.kernel.invokeFunction(\n",
              "            'suggestCharts', [key], {});\n",
              "      } catch (error) {\n",
              "        console.error('Error during call to suggestCharts:', error);\n",
              "      }\n",
              "      quickchartButtonEl.classList.remove('colab-df-spinner');\n",
              "      quickchartButtonEl.classList.add('colab-df-quickchart-complete');\n",
              "    }\n",
              "    (() => {\n",
              "      let quickchartButtonEl =\n",
              "        document.querySelector('#df-e17629d3-2175-4b2e-bb7f-21d965d54615 button');\n",
              "      quickchartButtonEl.style.display =\n",
              "        google.colab.kernel.accessAllowed ? 'block' : 'none';\n",
              "    })();\n",
              "  </script>\n",
              "</div>\n",
              "\n",
              "    </div>\n",
              "  </div>\n"
            ],
            "application/vnd.google.colaboratory.intrinsic+json": {
              "type": "dataframe",
              "summary": "{\n  \"name\": \"used_mileage_2011[['fuel_consumption','mileage','price (AUD)']]\",\n  \"rows\": 8,\n  \"fields\": [\n    {\n      \"column\": \"fuel_consumption\",\n      \"properties\": {\n        \"dtype\": \"number\",\n        \"std\": 166.7523110880845,\n        \"min\": 10.313587940314793,\n        \"max\": 528.0,\n        \"num_unique_values\": 8,\n        \"samples\": [\n          69.00549791831469,\n          69.8144891640867,\n          528.0\n        ],\n        \"semantic_type\": \"\",\n        \"description\": \"\"\n      }\n    },\n    {\n      \"column\": \"mileage\",\n      \"properties\": {\n        \"dtype\": \"number\",\n        \"std\": 44569.80355271044,\n        \"min\": 6.0,\n        \"max\": 127000.0,\n        \"num_unique_values\": 8,\n        \"samples\": [\n          72196.40172095253,\n          72288.6820199778,\n          528.0\n        ],\n        \"semantic_type\": \"\",\n        \"description\": \"\"\n      }\n    },\n    {\n      \"column\": \"price (AUD)\",\n      \"properties\": {\n        \"dtype\": \"number\",\n        \"std\": 12368.133531217396,\n        \"min\": 528.0,\n        \"max\": 40485.92011,\n        \"num_unique_values\": 8,\n        \"samples\": [\n          15791.195756113635,\n          13016.223310000001,\n          528.0\n        ],\n        \"semantic_type\": \"\",\n        \"description\": \"\"\n      }\n    }\n  ]\n}"
            }
          },
          "metadata": {},
          "execution_count": 110
        }
      ]
    },
    {
      "cell_type": "markdown",
      "source": [
        "#### Summarize information about car make in 2012"
      ],
      "metadata": {
        "id": "WD-1D0AahOhZ"
      }
    },
    {
      "cell_type": "code",
      "source": [
        "used_mileage_2012 = used_price_over_manufacture_year[used_price_over_manufacture_year['year_of_manufacture'] == 2012]\n",
        "used_mileage_2012[['fuel_consumption','mileage','price (AUD)']].describe()"
      ],
      "metadata": {
        "colab": {
          "base_uri": "https://localhost:8080/",
          "height": 300
        },
        "id": "VbEtPp_RepLL",
        "outputId": "941af852-eb6f-42c0-cfa0-bc354055c044"
      },
      "execution_count": null,
      "outputs": [
        {
          "output_type": "execute_result",
          "data": {
            "text/plain": [
              "       fuel_consumption    mileage  price (AUD)\n",
              "count           282.000    282.000      282.000\n",
              "mean             70.243  74098.304    17426.461\n",
              "std              10.080  29168.316     8478.004\n",
              "min              50.000      1.000     3036.444\n",
              "25%              61.590  60585.720    12024.318\n",
              "50%              70.000  72288.682    14979.790\n",
              "75%              79.734  93500.000    20647.819\n",
              "max              90.000 125000.000    40485.920"
            ],
            "text/html": [
              "\n",
              "  <div id=\"df-0ef42ed4-8458-46a6-b669-a1c1a14e3964\" class=\"colab-df-container\">\n",
              "    <div>\n",
              "<style scoped>\n",
              "    .dataframe tbody tr th:only-of-type {\n",
              "        vertical-align: middle;\n",
              "    }\n",
              "\n",
              "    .dataframe tbody tr th {\n",
              "        vertical-align: top;\n",
              "    }\n",
              "\n",
              "    .dataframe thead th {\n",
              "        text-align: right;\n",
              "    }\n",
              "</style>\n",
              "<table border=\"1\" class=\"dataframe\">\n",
              "  <thead>\n",
              "    <tr style=\"text-align: right;\">\n",
              "      <th></th>\n",
              "      <th>fuel_consumption</th>\n",
              "      <th>mileage</th>\n",
              "      <th>price (AUD)</th>\n",
              "    </tr>\n",
              "  </thead>\n",
              "  <tbody>\n",
              "    <tr>\n",
              "      <th>count</th>\n",
              "      <td>282.000</td>\n",
              "      <td>282.000</td>\n",
              "      <td>282.000</td>\n",
              "    </tr>\n",
              "    <tr>\n",
              "      <th>mean</th>\n",
              "      <td>70.243</td>\n",
              "      <td>74098.304</td>\n",
              "      <td>17426.461</td>\n",
              "    </tr>\n",
              "    <tr>\n",
              "      <th>std</th>\n",
              "      <td>10.080</td>\n",
              "      <td>29168.316</td>\n",
              "      <td>8478.004</td>\n",
              "    </tr>\n",
              "    <tr>\n",
              "      <th>min</th>\n",
              "      <td>50.000</td>\n",
              "      <td>1.000</td>\n",
              "      <td>3036.444</td>\n",
              "    </tr>\n",
              "    <tr>\n",
              "      <th>25%</th>\n",
              "      <td>61.590</td>\n",
              "      <td>60585.720</td>\n",
              "      <td>12024.318</td>\n",
              "    </tr>\n",
              "    <tr>\n",
              "      <th>50%</th>\n",
              "      <td>70.000</td>\n",
              "      <td>72288.682</td>\n",
              "      <td>14979.790</td>\n",
              "    </tr>\n",
              "    <tr>\n",
              "      <th>75%</th>\n",
              "      <td>79.734</td>\n",
              "      <td>93500.000</td>\n",
              "      <td>20647.819</td>\n",
              "    </tr>\n",
              "    <tr>\n",
              "      <th>max</th>\n",
              "      <td>90.000</td>\n",
              "      <td>125000.000</td>\n",
              "      <td>40485.920</td>\n",
              "    </tr>\n",
              "  </tbody>\n",
              "</table>\n",
              "</div>\n",
              "    <div class=\"colab-df-buttons\">\n",
              "\n",
              "  <div class=\"colab-df-container\">\n",
              "    <button class=\"colab-df-convert\" onclick=\"convertToInteractive('df-0ef42ed4-8458-46a6-b669-a1c1a14e3964')\"\n",
              "            title=\"Convert this dataframe to an interactive table.\"\n",
              "            style=\"display:none;\">\n",
              "\n",
              "  <svg xmlns=\"http://www.w3.org/2000/svg\" height=\"24px\" viewBox=\"0 -960 960 960\">\n",
              "    <path d=\"M120-120v-720h720v720H120Zm60-500h600v-160H180v160Zm220 220h160v-160H400v160Zm0 220h160v-160H400v160ZM180-400h160v-160H180v160Zm440 0h160v-160H620v160ZM180-180h160v-160H180v160Zm440 0h160v-160H620v160Z\"/>\n",
              "  </svg>\n",
              "    </button>\n",
              "\n",
              "  <style>\n",
              "    .colab-df-container {\n",
              "      display:flex;\n",
              "      gap: 12px;\n",
              "    }\n",
              "\n",
              "    .colab-df-convert {\n",
              "      background-color: #E8F0FE;\n",
              "      border: none;\n",
              "      border-radius: 50%;\n",
              "      cursor: pointer;\n",
              "      display: none;\n",
              "      fill: #1967D2;\n",
              "      height: 32px;\n",
              "      padding: 0 0 0 0;\n",
              "      width: 32px;\n",
              "    }\n",
              "\n",
              "    .colab-df-convert:hover {\n",
              "      background-color: #E2EBFA;\n",
              "      box-shadow: 0px 1px 2px rgba(60, 64, 67, 0.3), 0px 1px 3px 1px rgba(60, 64, 67, 0.15);\n",
              "      fill: #174EA6;\n",
              "    }\n",
              "\n",
              "    .colab-df-buttons div {\n",
              "      margin-bottom: 4px;\n",
              "    }\n",
              "\n",
              "    [theme=dark] .colab-df-convert {\n",
              "      background-color: #3B4455;\n",
              "      fill: #D2E3FC;\n",
              "    }\n",
              "\n",
              "    [theme=dark] .colab-df-convert:hover {\n",
              "      background-color: #434B5C;\n",
              "      box-shadow: 0px 1px 3px 1px rgba(0, 0, 0, 0.15);\n",
              "      filter: drop-shadow(0px 1px 2px rgba(0, 0, 0, 0.3));\n",
              "      fill: #FFFFFF;\n",
              "    }\n",
              "  </style>\n",
              "\n",
              "    <script>\n",
              "      const buttonEl =\n",
              "        document.querySelector('#df-0ef42ed4-8458-46a6-b669-a1c1a14e3964 button.colab-df-convert');\n",
              "      buttonEl.style.display =\n",
              "        google.colab.kernel.accessAllowed ? 'block' : 'none';\n",
              "\n",
              "      async function convertToInteractive(key) {\n",
              "        const element = document.querySelector('#df-0ef42ed4-8458-46a6-b669-a1c1a14e3964');\n",
              "        const dataTable =\n",
              "          await google.colab.kernel.invokeFunction('convertToInteractive',\n",
              "                                                    [key], {});\n",
              "        if (!dataTable) return;\n",
              "\n",
              "        const docLinkHtml = 'Like what you see? Visit the ' +\n",
              "          '<a target=\"_blank\" href=https://colab.research.google.com/notebooks/data_table.ipynb>data table notebook</a>'\n",
              "          + ' to learn more about interactive tables.';\n",
              "        element.innerHTML = '';\n",
              "        dataTable['output_type'] = 'display_data';\n",
              "        await google.colab.output.renderOutput(dataTable, element);\n",
              "        const docLink = document.createElement('div');\n",
              "        docLink.innerHTML = docLinkHtml;\n",
              "        element.appendChild(docLink);\n",
              "      }\n",
              "    </script>\n",
              "  </div>\n",
              "\n",
              "\n",
              "<div id=\"df-9f2741c3-0e29-4ac3-9741-78df24adc78d\">\n",
              "  <button class=\"colab-df-quickchart\" onclick=\"quickchart('df-9f2741c3-0e29-4ac3-9741-78df24adc78d')\"\n",
              "            title=\"Suggest charts\"\n",
              "            style=\"display:none;\">\n",
              "\n",
              "<svg xmlns=\"http://www.w3.org/2000/svg\" height=\"24px\"viewBox=\"0 0 24 24\"\n",
              "     width=\"24px\">\n",
              "    <g>\n",
              "        <path d=\"M19 3H5c-1.1 0-2 .9-2 2v14c0 1.1.9 2 2 2h14c1.1 0 2-.9 2-2V5c0-1.1-.9-2-2-2zM9 17H7v-7h2v7zm4 0h-2V7h2v10zm4 0h-2v-4h2v4z\"/>\n",
              "    </g>\n",
              "</svg>\n",
              "  </button>\n",
              "\n",
              "<style>\n",
              "  .colab-df-quickchart {\n",
              "      --bg-color: #E8F0FE;\n",
              "      --fill-color: #1967D2;\n",
              "      --hover-bg-color: #E2EBFA;\n",
              "      --hover-fill-color: #174EA6;\n",
              "      --disabled-fill-color: #AAA;\n",
              "      --disabled-bg-color: #DDD;\n",
              "  }\n",
              "\n",
              "  [theme=dark] .colab-df-quickchart {\n",
              "      --bg-color: #3B4455;\n",
              "      --fill-color: #D2E3FC;\n",
              "      --hover-bg-color: #434B5C;\n",
              "      --hover-fill-color: #FFFFFF;\n",
              "      --disabled-bg-color: #3B4455;\n",
              "      --disabled-fill-color: #666;\n",
              "  }\n",
              "\n",
              "  .colab-df-quickchart {\n",
              "    background-color: var(--bg-color);\n",
              "    border: none;\n",
              "    border-radius: 50%;\n",
              "    cursor: pointer;\n",
              "    display: none;\n",
              "    fill: var(--fill-color);\n",
              "    height: 32px;\n",
              "    padding: 0;\n",
              "    width: 32px;\n",
              "  }\n",
              "\n",
              "  .colab-df-quickchart:hover {\n",
              "    background-color: var(--hover-bg-color);\n",
              "    box-shadow: 0 1px 2px rgba(60, 64, 67, 0.3), 0 1px 3px 1px rgba(60, 64, 67, 0.15);\n",
              "    fill: var(--button-hover-fill-color);\n",
              "  }\n",
              "\n",
              "  .colab-df-quickchart-complete:disabled,\n",
              "  .colab-df-quickchart-complete:disabled:hover {\n",
              "    background-color: var(--disabled-bg-color);\n",
              "    fill: var(--disabled-fill-color);\n",
              "    box-shadow: none;\n",
              "  }\n",
              "\n",
              "  .colab-df-spinner {\n",
              "    border: 2px solid var(--fill-color);\n",
              "    border-color: transparent;\n",
              "    border-bottom-color: var(--fill-color);\n",
              "    animation:\n",
              "      spin 1s steps(1) infinite;\n",
              "  }\n",
              "\n",
              "  @keyframes spin {\n",
              "    0% {\n",
              "      border-color: transparent;\n",
              "      border-bottom-color: var(--fill-color);\n",
              "      border-left-color: var(--fill-color);\n",
              "    }\n",
              "    20% {\n",
              "      border-color: transparent;\n",
              "      border-left-color: var(--fill-color);\n",
              "      border-top-color: var(--fill-color);\n",
              "    }\n",
              "    30% {\n",
              "      border-color: transparent;\n",
              "      border-left-color: var(--fill-color);\n",
              "      border-top-color: var(--fill-color);\n",
              "      border-right-color: var(--fill-color);\n",
              "    }\n",
              "    40% {\n",
              "      border-color: transparent;\n",
              "      border-right-color: var(--fill-color);\n",
              "      border-top-color: var(--fill-color);\n",
              "    }\n",
              "    60% {\n",
              "      border-color: transparent;\n",
              "      border-right-color: var(--fill-color);\n",
              "    }\n",
              "    80% {\n",
              "      border-color: transparent;\n",
              "      border-right-color: var(--fill-color);\n",
              "      border-bottom-color: var(--fill-color);\n",
              "    }\n",
              "    90% {\n",
              "      border-color: transparent;\n",
              "      border-bottom-color: var(--fill-color);\n",
              "    }\n",
              "  }\n",
              "</style>\n",
              "\n",
              "  <script>\n",
              "    async function quickchart(key) {\n",
              "      const quickchartButtonEl =\n",
              "        document.querySelector('#' + key + ' button');\n",
              "      quickchartButtonEl.disabled = true;  // To prevent multiple clicks.\n",
              "      quickchartButtonEl.classList.add('colab-df-spinner');\n",
              "      try {\n",
              "        const charts = await google.colab.kernel.invokeFunction(\n",
              "            'suggestCharts', [key], {});\n",
              "      } catch (error) {\n",
              "        console.error('Error during call to suggestCharts:', error);\n",
              "      }\n",
              "      quickchartButtonEl.classList.remove('colab-df-spinner');\n",
              "      quickchartButtonEl.classList.add('colab-df-quickchart-complete');\n",
              "    }\n",
              "    (() => {\n",
              "      let quickchartButtonEl =\n",
              "        document.querySelector('#df-9f2741c3-0e29-4ac3-9741-78df24adc78d button');\n",
              "      quickchartButtonEl.style.display =\n",
              "        google.colab.kernel.accessAllowed ? 'block' : 'none';\n",
              "    })();\n",
              "  </script>\n",
              "</div>\n",
              "\n",
              "    </div>\n",
              "  </div>\n"
            ],
            "application/vnd.google.colaboratory.intrinsic+json": {
              "type": "dataframe",
              "summary": "{\n  \"name\": \"used_mileage_2012[['fuel_consumption','mileage','price (AUD)']]\",\n  \"rows\": 8,\n  \"fields\": [\n    {\n      \"column\": \"fuel_consumption\",\n      \"properties\": {\n        \"dtype\": \"number\",\n        \"std\": 81.54659458551842,\n        \"min\": 10.080417595549282,\n        \"max\": 282.0,\n        \"num_unique_values\": 8,\n        \"samples\": [\n          70.24300931669595,\n          70.0,\n          282.0\n        ],\n        \"semantic_type\": \"\",\n        \"description\": \"\"\n      }\n    },\n    {\n      \"column\": \"mileage\",\n      \"properties\": {\n        \"dtype\": \"number\",\n        \"std\": 44296.8535127334,\n        \"min\": 1.0,\n        \"max\": 125000.0,\n        \"num_unique_values\": 8,\n        \"samples\": [\n          74098.30377623165,\n          72288.6820199778,\n          282.0\n        ],\n        \"semantic_type\": \"\",\n        \"description\": \"\"\n      }\n    },\n    {\n      \"column\": \"price (AUD)\",\n      \"properties\": {\n        \"dtype\": \"number\",\n        \"std\": 12521.893474233759,\n        \"min\": 282.0,\n        \"max\": 40485.92011,\n        \"num_unique_values\": 8,\n        \"samples\": [\n          17426.460832436165,\n          14979.79044,\n          282.0\n        ],\n        \"semantic_type\": \"\",\n        \"description\": \"\"\n      }\n    }\n  ]\n}"
            }
          },
          "metadata": {},
          "execution_count": 111
        }
      ]
    },
    {
      "cell_type": "markdown",
      "source": [
        "- We have separated new cars and used cars, as vehicles with the same specifications, model, and model year will typically experience depreciation once they have been used.\n",
        "- The price of cars shows a strong positive correlation with the year of manufacture, indicating that newer cars tend to have higher prices.\n",
        "- There are additional factors contributing to car prices beyond just the year of manufacture. For instance, the drop in average price for 2011 cars suggests that further investigation is needed to identify the underlying causes, even with a more detailed analysis of the data."
      ],
      "metadata": {
        "id": "phqDtWsIp2ph"
      }
    },
    {
      "cell_type": "markdown",
      "source": [
        "## III. Compare the average prices among different 'car_models'."
      ],
      "metadata": {
        "id": "2bthWUoiq7IQ"
      }
    },
    {
      "cell_type": "code",
      "source": [
        "average_new_car = car_data_outlier[car_data_outlier['condition'] != 'Used car']\n",
        "average_new_car_model = average_new_car[['car_model', 'price (AUD)']].groupby(['car_model'], as_index=False).mean()\n",
        "average_used_car = car_data_outlier[car_data_outlier['condition'] != 'New car']\n",
        "average_used_car_model = average_used_car[['car_model', 'price (AUD)']].groupby(['car_model'], as_index=False).mean()\n",
        "car_model = np.arange(len(average_new_car_model['car_model']))\n",
        "body_type = average_new_car_model['car_model']\n",
        "avg_price = {\n",
        "    'New car': average_new_car_model['price (AUD)'],\n",
        "    'Used car': average_used_car_model['price (AUD)']\n",
        "}\n",
        "width = 0.4\n",
        "multiplier = 0\n",
        "fig, ax = plt.subplots(figsize=(21, 9))\n",
        "for condition, price in avg_price.items():\n",
        "    offset = width * multiplier\n",
        "    car_graph = ax.bar(car_model + offset, price, 0.4, label=condition)\n",
        "    ax.bar_label(car_graph, padding=3)\n",
        "    multiplier += 1\n",
        "ax.set_xticks(car_model+(width/2), body_type)\n",
        "ax.set_title('Average price between car models')\n",
        "plt.xlabel('Car Model')\n",
        "plt.ylabel('Price')\n",
        "plt.legend()"
      ],
      "metadata": {
        "colab": {
          "base_uri": "https://localhost:8080/",
          "height": 535
        },
        "outputId": "4b2db607-7b4b-4edf-bf4c-9d5f33b609ac",
        "id": "aMnxqWa12kTY"
      },
      "execution_count": null,
      "outputs": [
        {
          "output_type": "execute_result",
          "data": {
            "text/plain": [
              "<matplotlib.legend.Legend at 0x7acfec261900>"
            ]
          },
          "metadata": {},
          "execution_count": 112
        },
        {
          "output_type": "display_data",
          "data": {
            "text/plain": [
              "<Figure size 2100x900 with 1 Axes>"
            ],
            "image/png": "[encoded data removed]"
          },
          "metadata": {}
        }
      ]
    },
    {
      "cell_type": "markdown",
      "source": [
        "#### Amount of new cars based on \"car_model\""
      ],
      "metadata": {
        "id": "oMW9wAzJ2tIV"
      }
    },
    {
      "cell_type": "code",
      "source": [
        "count_car_model = average_new_car[['car_model', 'price (AUD)']].groupby(['car_model'], as_index=False).count()\n",
        "count_car_model.rename(columns={'price (AUD)': 'amount_of_new_cars'}, inplace=True)\n",
        "count_car_model"
      ],
      "metadata": {
        "colab": {
          "base_uri": "https://localhost:8080/",
          "height": 363
        },
        "id": "DD4tzo9TzVKO",
        "outputId": "8a518756-7a64-487a-ee4f-68a7d2ccbfe8"
      },
      "execution_count": null,
      "outputs": [
        {
          "output_type": "execute_result",
          "data": {
            "text/plain": [
              "               car_model  amount_of_new_cars\n",
              "0                    4x4                 532\n",
              "1  Convertible/Cabriolet                   6\n",
              "2                  Coupe                  15\n",
              "3              Crossover                 468\n",
              "4              Hatchback                 131\n",
              "5                    SUV                2085\n",
              "6                  Sedan                1101\n",
              "7                  Truck                  34\n",
              "8            Van/Minivan                 210\n",
              "9                  Wagon                   1"
            ],
            "text/html": [
              "\n",
              "  <div id=\"df-e7bca145-b65a-48bf-ac3e-d4f23b08bf34\" class=\"colab-df-container\">\n",
              "    <div>\n",
              "<style scoped>\n",
              "    .dataframe tbody tr th:only-of-type {\n",
              "        vertical-align: middle;\n",
              "    }\n",
              "\n",
              "    .dataframe tbody tr th {\n",
              "        vertical-align: top;\n",
              "    }\n",
              "\n",
              "    .dataframe thead th {\n",
              "        text-align: right;\n",
              "    }\n",
              "</style>\n",
              "<table border=\"1\" class=\"dataframe\">\n",
              "  <thead>\n",
              "    <tr style=\"text-align: right;\">\n",
              "      <th></th>\n",
              "      <th>car_model</th>\n",
              "      <th>amount_of_new_cars</th>\n",
              "    </tr>\n",
              "  </thead>\n",
              "  <tbody>\n",
              "    <tr>\n",
              "      <th>0</th>\n",
              "      <td>4x4</td>\n",
              "      <td>532</td>\n",
              "    </tr>\n",
              "    <tr>\n",
              "      <th>1</th>\n",
              "      <td>Convertible/Cabriolet</td>\n",
              "      <td>6</td>\n",
              "    </tr>\n",
              "    <tr>\n",
              "      <th>2</th>\n",
              "      <td>Coupe</td>\n",
              "      <td>15</td>\n",
              "    </tr>\n",
              "    <tr>\n",
              "      <th>3</th>\n",
              "      <td>Crossover</td>\n",
              "      <td>468</td>\n",
              "    </tr>\n",
              "    <tr>\n",
              "      <th>4</th>\n",
              "      <td>Hatchback</td>\n",
              "      <td>131</td>\n",
              "    </tr>\n",
              "    <tr>\n",
              "      <th>5</th>\n",
              "      <td>SUV</td>\n",
              "      <td>2085</td>\n",
              "    </tr>\n",
              "    <tr>\n",
              "      <th>6</th>\n",
              "      <td>Sedan</td>\n",
              "      <td>1101</td>\n",
              "    </tr>\n",
              "    <tr>\n",
              "      <th>7</th>\n",
              "      <td>Truck</td>\n",
              "      <td>34</td>\n",
              "    </tr>\n",
              "    <tr>\n",
              "      <th>8</th>\n",
              "      <td>Van/Minivan</td>\n",
              "      <td>210</td>\n",
              "    </tr>\n",
              "    <tr>\n",
              "      <th>9</th>\n",
              "      <td>Wagon</td>\n",
              "      <td>1</td>\n",
              "    </tr>\n",
              "  </tbody>\n",
              "</table>\n",
              "</div>\n",
              "    <div class=\"colab-df-buttons\">\n",
              "\n",
              "  <div class=\"colab-df-container\">\n",
              "    <button class=\"colab-df-convert\" onclick=\"convertToInteractive('df-e7bca145-b65a-48bf-ac3e-d4f23b08bf34')\"\n",
              "            title=\"Convert this dataframe to an interactive table.\"\n",
              "            style=\"display:none;\">\n",
              "\n",
              "  <svg xmlns=\"http://www.w3.org/2000/svg\" height=\"24px\" viewBox=\"0 -960 960 960\">\n",
              "    <path d=\"M120-120v-720h720v720H120Zm60-500h600v-160H180v160Zm220 220h160v-160H400v160Zm0 220h160v-160H400v160ZM180-400h160v-160H180v160Zm440 0h160v-160H620v160ZM180-180h160v-160H180v160Zm440 0h160v-160H620v160Z\"/>\n",
              "  </svg>\n",
              "    </button>\n",
              "\n",
              "  <style>\n",
              "    .colab-df-container {\n",
              "      display:flex;\n",
              "      gap: 12px;\n",
              "    }\n",
              "\n",
              "    .colab-df-convert {\n",
              "      background-color: #E8F0FE;\n",
              "      border: none;\n",
              "      border-radius: 50%;\n",
              "      cursor: pointer;\n",
              "      display: none;\n",
              "      fill: #1967D2;\n",
              "      height: 32px;\n",
              "      padding: 0 0 0 0;\n",
              "      width: 32px;\n",
              "    }\n",
              "\n",
              "    .colab-df-convert:hover {\n",
              "      background-color: #E2EBFA;\n",
              "      box-shadow: 0px 1px 2px rgba(60, 64, 67, 0.3), 0px 1px 3px 1px rgba(60, 64, 67, 0.15);\n",
              "      fill: #174EA6;\n",
              "    }\n",
              "\n",
              "    .colab-df-buttons div {\n",
              "      margin-bottom: 4px;\n",
              "    }\n",
              "\n",
              "    [theme=dark] .colab-df-convert {\n",
              "      background-color: #3B4455;\n",
              "      fill: #D2E3FC;\n",
              "    }\n",
              "\n",
              "    [theme=dark] .colab-df-convert:hover {\n",
              "      background-color: #434B5C;\n",
              "      box-shadow: 0px 1px 3px 1px rgba(0, 0, 0, 0.15);\n",
              "      filter: drop-shadow(0px 1px 2px rgba(0, 0, 0, 0.3));\n",
              "      fill: #FFFFFF;\n",
              "    }\n",
              "  </style>\n",
              "\n",
              "    <script>\n",
              "      const buttonEl =\n",
              "        document.querySelector('#df-e7bca145-b65a-48bf-ac3e-d4f23b08bf34 button.colab-df-convert');\n",
              "      buttonEl.style.display =\n",
              "        google.colab.kernel.accessAllowed ? 'block' : 'none';\n",
              "\n",
              "      async function convertToInteractive(key) {\n",
              "        const element = document.querySelector('#df-e7bca145-b65a-48bf-ac3e-d4f23b08bf34');\n",
              "        const dataTable =\n",
              "          await google.colab.kernel.invokeFunction('convertToInteractive',\n",
              "                                                    [key], {});\n",
              "        if (!dataTable) return;\n",
              "\n",
              "        const docLinkHtml = 'Like what you see? Visit the ' +\n",
              "          '<a target=\"_blank\" href=https://colab.research.google.com/notebooks/data_table.ipynb>data table notebook</a>'\n",
              "          + ' to learn more about interactive tables.';\n",
              "        element.innerHTML = '';\n",
              "        dataTable['output_type'] = 'display_data';\n",
              "        await google.colab.output.renderOutput(dataTable, element);\n",
              "        const docLink = document.createElement('div');\n",
              "        docLink.innerHTML = docLinkHtml;\n",
              "        element.appendChild(docLink);\n",
              "      }\n",
              "    </script>\n",
              "  </div>\n",
              "\n",
              "\n",
              "<div id=\"df-f5f2e03d-344d-4cf7-b445-5ab65b3b59fe\">\n",
              "  <button class=\"colab-df-quickchart\" onclick=\"quickchart('df-f5f2e03d-344d-4cf7-b445-5ab65b3b59fe')\"\n",
              "            title=\"Suggest charts\"\n",
              "            style=\"display:none;\">\n",
              "\n",
              "<svg xmlns=\"http://www.w3.org/2000/svg\" height=\"24px\"viewBox=\"0 0 24 24\"\n",
              "     width=\"24px\">\n",
              "    <g>\n",
              "        <path d=\"M19 3H5c-1.1 0-2 .9-2 2v14c0 1.1.9 2 2 2h14c1.1 0 2-.9 2-2V5c0-1.1-.9-2-2-2zM9 17H7v-7h2v7zm4 0h-2V7h2v10zm4 0h-2v-4h2v4z\"/>\n",
              "    </g>\n",
              "</svg>\n",
              "  </button>\n",
              "\n",
              "<style>\n",
              "  .colab-df-quickchart {\n",
              "      --bg-color: #E8F0FE;\n",
              "      --fill-color: #1967D2;\n",
              "      --hover-bg-color: #E2EBFA;\n",
              "      --hover-fill-color: #174EA6;\n",
              "      --disabled-fill-color: #AAA;\n",
              "      --disabled-bg-color: #DDD;\n",
              "  }\n",
              "\n",
              "  [theme=dark] .colab-df-quickchart {\n",
              "      --bg-color: #3B4455;\n",
              "      --fill-color: #D2E3FC;\n",
              "      --hover-bg-color: #434B5C;\n",
              "      --hover-fill-color: #FFFFFF;\n",
              "      --disabled-bg-color: #3B4455;\n",
              "      --disabled-fill-color: #666;\n",
              "  }\n",
              "\n",
              "  .colab-df-quickchart {\n",
              "    background-color: var(--bg-color);\n",
              "    border: none;\n",
              "    border-radius: 50%;\n",
              "    cursor: pointer;\n",
              "    display: none;\n",
              "    fill: var(--fill-color);\n",
              "    height: 32px;\n",
              "    padding: 0;\n",
              "    width: 32px;\n",
              "  }\n",
              "\n",
              "  .colab-df-quickchart:hover {\n",
              "    background-color: var(--hover-bg-color);\n",
              "    box-shadow: 0 1px 2px rgba(60, 64, 67, 0.3), 0 1px 3px 1px rgba(60, 64, 67, 0.15);\n",
              "    fill: var(--button-hover-fill-color);\n",
              "  }\n",
              "\n",
              "  .colab-df-quickchart-complete:disabled,\n",
              "  .colab-df-quickchart-complete:disabled:hover {\n",
              "    background-color: var(--disabled-bg-color);\n",
              "    fill: var(--disabled-fill-color);\n",
              "    box-shadow: none;\n",
              "  }\n",
              "\n",
              "  .colab-df-spinner {\n",
              "    border: 2px solid var(--fill-color);\n",
              "    border-color: transparent;\n",
              "    border-bottom-color: var(--fill-color);\n",
              "    animation:\n",
              "      spin 1s steps(1) infinite;\n",
              "  }\n",
              "\n",
              "  @keyframes spin {\n",
              "    0% {\n",
              "      border-color: transparent;\n",
              "      border-bottom-color: var(--fill-color);\n",
              "      border-left-color: var(--fill-color);\n",
              "    }\n",
              "    20% {\n",
              "      border-color: transparent;\n",
              "      border-left-color: var(--fill-color);\n",
              "      border-top-color: var(--fill-color);\n",
              "    }\n",
              "    30% {\n",
              "      border-color: transparent;\n",
              "      border-left-color: var(--fill-color);\n",
              "      border-top-color: var(--fill-color);\n",
              "      border-right-color: var(--fill-color);\n",
              "    }\n",
              "    40% {\n",
              "      border-color: transparent;\n",
              "      border-right-color: var(--fill-color);\n",
              "      border-top-color: var(--fill-color);\n",
              "    }\n",
              "    60% {\n",
              "      border-color: transparent;\n",
              "      border-right-color: var(--fill-color);\n",
              "    }\n",
              "    80% {\n",
              "      border-color: transparent;\n",
              "      border-right-color: var(--fill-color);\n",
              "      border-bottom-color: var(--fill-color);\n",
              "    }\n",
              "    90% {\n",
              "      border-color: transparent;\n",
              "      border-bottom-color: var(--fill-color);\n",
              "    }\n",
              "  }\n",
              "</style>\n",
              "\n",
              "  <script>\n",
              "    async function quickchart(key) {\n",
              "      const quickchartButtonEl =\n",
              "        document.querySelector('#' + key + ' button');\n",
              "      quickchartButtonEl.disabled = true;  // To prevent multiple clicks.\n",
              "      quickchartButtonEl.classList.add('colab-df-spinner');\n",
              "      try {\n",
              "        const charts = await google.colab.kernel.invokeFunction(\n",
              "            'suggestCharts', [key], {});\n",
              "      } catch (error) {\n",
              "        console.error('Error during call to suggestCharts:', error);\n",
              "      }\n",
              "      quickchartButtonEl.classList.remove('colab-df-spinner');\n",
              "      quickchartButtonEl.classList.add('colab-df-quickchart-complete');\n",
              "    }\n",
              "    (() => {\n",
              "      let quickchartButtonEl =\n",
              "        document.querySelector('#df-f5f2e03d-344d-4cf7-b445-5ab65b3b59fe button');\n",
              "      quickchartButtonEl.style.display =\n",
              "        google.colab.kernel.accessAllowed ? 'block' : 'none';\n",
              "    })();\n",
              "  </script>\n",
              "</div>\n",
              "\n",
              "  <div id=\"id_bfdd5a9c-433e-4eb5-a22d-5c4364aaa33b\">\n",
              "    <style>\n",
              "      .colab-df-generate {\n",
              "        background-color: #E8F0FE;\n",
              "        border: none;\n",
              "        border-radius: 50%;\n",
              "        cursor: pointer;\n",
              "        display: none;\n",
              "        fill: #1967D2;\n",
              "        height: 32px;\n",
              "        padding: 0 0 0 0;\n",
              "        width: 32px;\n",
              "      }\n",
              "\n",
              "      .colab-df-generate:hover {\n",
              "        background-color: #E2EBFA;\n",
              "        box-shadow: 0px 1px 2px rgba(60, 64, 67, 0.3), 0px 1px 3px 1px rgba(60, 64, 67, 0.15);\n",
              "        fill: #174EA6;\n",
              "      }\n",
              "\n",
              "      [theme=dark] .colab-df-generate {\n",
              "        background-color: #3B4455;\n",
              "        fill: #D2E3FC;\n",
              "      }\n",
              "\n",
              "      [theme=dark] .colab-df-generate:hover {\n",
              "        background-color: #434B5C;\n",
              "        box-shadow: 0px 1px 3px 1px rgba(0, 0, 0, 0.15);\n",
              "        filter: drop-shadow(0px 1px 2px rgba(0, 0, 0, 0.3));\n",
              "        fill: #FFFFFF;\n",
              "      }\n",
              "    </style>\n",
              "    <button class=\"colab-df-generate\" onclick=\"generateWithVariable('count_car_model')\"\n",
              "            title=\"Generate code using this dataframe.\"\n",
              "            style=\"display:none;\">\n",
              "\n",
              "  <svg xmlns=\"http://www.w3.org/2000/svg\" height=\"24px\"viewBox=\"0 0 24 24\"\n",
              "       width=\"24px\">\n",
              "    <path d=\"M7,19H8.4L18.45,9,17,7.55,7,17.6ZM5,21V16.75L18.45,3.32a2,2,0,0,1,2.83,0l1.4,1.43a1.91,1.91,0,0,1,.58,1.4,1.91,1.91,0,0,1-.58,1.4L9.25,21ZM18.45,9,17,7.55Zm-12,3A5.31,5.31,0,0,0,4.9,8.1,5.31,5.31,0,0,0,1,6.5,5.31,5.31,0,0,0,4.9,4.9,5.31,5.31,0,0,0,6.5,1,5.31,5.31,0,0,0,8.1,4.9,5.31,5.31,0,0,0,12,6.5,5.46,5.46,0,0,0,6.5,12Z\"/>\n",
              "  </svg>\n",
              "    </button>\n",
              "    <script>\n",
              "      (() => {\n",
              "      const buttonEl =\n",
              "        document.querySelector('#id_bfdd5a9c-433e-4eb5-a22d-5c4364aaa33b button.colab-df-generate');\n",
              "      buttonEl.style.display =\n",
              "        google.colab.kernel.accessAllowed ? 'block' : 'none';\n",
              "\n",
              "      buttonEl.onclick = () => {\n",
              "        google.colab.notebook.generateWithVariable('count_car_model');\n",
              "      }\n",
              "      })();\n",
              "    </script>\n",
              "  </div>\n",
              "\n",
              "    </div>\n",
              "  </div>\n"
            ],
            "application/vnd.google.colaboratory.intrinsic+json": {
              "type": "dataframe",
              "variable_name": "count_car_model",
              "summary": "{\n  \"name\": \"count_car_model\",\n  \"rows\": 10,\n  \"fields\": [\n    {\n      \"column\": \"car_model\",\n      \"properties\": {\n        \"dtype\": \"string\",\n        \"num_unique_values\": 10,\n        \"samples\": [\n          \"Van/Minivan\",\n          \"Convertible/Cabriolet\",\n          \"SUV\"\n        ],\n        \"semantic_type\": \"\",\n        \"description\": \"\"\n      }\n    },\n    {\n      \"column\": \"amount_of_new_cars\",\n      \"properties\": {\n        \"dtype\": \"number\",\n        \"std\": 668,\n        \"min\": 1,\n        \"max\": 2085,\n        \"num_unique_values\": 10,\n        \"samples\": [\n          210,\n          6,\n          2085\n        ],\n        \"semantic_type\": \"\",\n        \"description\": \"\"\n      }\n    }\n  ]\n}"
            }
          },
          "metadata": {},
          "execution_count": 113
        }
      ]
    },
    {
      "cell_type": "markdown",
      "source": [
        "#### Amount of used car based on \"car_model\""
      ],
      "metadata": {
        "id": "qWPKsLMn1FwT"
      }
    },
    {
      "cell_type": "code",
      "source": [
        "count_car_model = average_used_car[['car_model', 'price (AUD)']].groupby(['car_model'], as_index=False).count()\n",
        "count_car_model.rename(columns={'price (AUD)': 'amount_of_used_cars'}, inplace=True)\n",
        "count_car_model"
      ],
      "metadata": {
        "colab": {
          "base_uri": "https://localhost:8080/",
          "height": 363
        },
        "outputId": "4295c559-fdeb-4894-e81d-c975c0b4b005",
        "id": "xyf_sGte27mu"
      },
      "execution_count": null,
      "outputs": [
        {
          "output_type": "execute_result",
          "data": {
            "text/plain": [
              "               car_model  amount_of_used_cars\n",
              "0                    4x4                 1247\n",
              "1  Convertible/Cabriolet                   62\n",
              "2                  Coupe                  134\n",
              "3              Crossover                 1800\n",
              "4              Hatchback                 1898\n",
              "5                    SUV                 6420\n",
              "6                  Sedan                 7461\n",
              "7                  Truck                   32\n",
              "8            Van/Minivan                  582\n",
              "9                  Wagon                    5"
            ],
            "text/html": [
              "\n",
              "  <div id=\"df-79423318-6e3c-4855-9d16-93b4021f3554\" class=\"colab-df-container\">\n",
              "    <div>\n",
              "<style scoped>\n",
              "    .dataframe tbody tr th:only-of-type {\n",
              "        vertical-align: middle;\n",
              "    }\n",
              "\n",
              "    .dataframe tbody tr th {\n",
              "        vertical-align: top;\n",
              "    }\n",
              "\n",
              "    .dataframe thead th {\n",
              "        text-align: right;\n",
              "    }\n",
              "</style>\n",
              "<table border=\"1\" class=\"dataframe\">\n",
              "  <thead>\n",
              "    <tr style=\"text-align: right;\">\n",
              "      <th></th>\n",
              "      <th>car_model</th>\n",
              "      <th>amount_of_used_cars</th>\n",
              "    </tr>\n",
              "  </thead>\n",
              "  <tbody>\n",
              "    <tr>\n",
              "      <th>0</th>\n",
              "      <td>4x4</td>\n",
              "      <td>1247</td>\n",
              "    </tr>\n",
              "    <tr>\n",
              "      <th>1</th>\n",
              "      <td>Convertible/Cabriolet</td>\n",
              "      <td>62</td>\n",
              "    </tr>\n",
              "    <tr>\n",
              "      <th>2</th>\n",
              "      <td>Coupe</td>\n",
              "      <td>134</td>\n",
              "    </tr>\n",
              "    <tr>\n",
              "      <th>3</th>\n",
              "      <td>Crossover</td>\n",
              "      <td>1800</td>\n",
              "    </tr>\n",
              "    <tr>\n",
              "      <th>4</th>\n",
              "      <td>Hatchback</td>\n",
              "      <td>1898</td>\n",
              "    </tr>\n",
              "    <tr>\n",
              "      <th>5</th>\n",
              "      <td>SUV</td>\n",
              "      <td>6420</td>\n",
              "    </tr>\n",
              "    <tr>\n",
              "      <th>6</th>\n",
              "      <td>Sedan</td>\n",
              "      <td>7461</td>\n",
              "    </tr>\n",
              "    <tr>\n",
              "      <th>7</th>\n",
              "      <td>Truck</td>\n",
              "      <td>32</td>\n",
              "    </tr>\n",
              "    <tr>\n",
              "      <th>8</th>\n",
              "      <td>Van/Minivan</td>\n",
              "      <td>582</td>\n",
              "    </tr>\n",
              "    <tr>\n",
              "      <th>9</th>\n",
              "      <td>Wagon</td>\n",
              "      <td>5</td>\n",
              "    </tr>\n",
              "  </tbody>\n",
              "</table>\n",
              "</div>\n",
              "    <div class=\"colab-df-buttons\">\n",
              "\n",
              "  <div class=\"colab-df-container\">\n",
              "    <button class=\"colab-df-convert\" onclick=\"convertToInteractive('df-79423318-6e3c-4855-9d16-93b4021f3554')\"\n",
              "            title=\"Convert this dataframe to an interactive table.\"\n",
              "            style=\"display:none;\">\n",
              "\n",
              "  <svg xmlns=\"http://www.w3.org/2000/svg\" height=\"24px\" viewBox=\"0 -960 960 960\">\n",
              "    <path d=\"M120-120v-720h720v720H120Zm60-500h600v-160H180v160Zm220 220h160v-160H400v160Zm0 220h160v-160H400v160ZM180-400h160v-160H180v160Zm440 0h160v-160H620v160ZM180-180h160v-160H180v160Zm440 0h160v-160H620v160Z\"/>\n",
              "  </svg>\n",
              "    </button>\n",
              "\n",
              "  <style>\n",
              "    .colab-df-container {\n",
              "      display:flex;\n",
              "      gap: 12px;\n",
              "    }\n",
              "\n",
              "    .colab-df-convert {\n",
              "      background-color: #E8F0FE;\n",
              "      border: none;\n",
              "      border-radius: 50%;\n",
              "      cursor: pointer;\n",
              "      display: none;\n",
              "      fill: #1967D2;\n",
              "      height: 32px;\n",
              "      padding: 0 0 0 0;\n",
              "      width: 32px;\n",
              "    }\n",
              "\n",
              "    .colab-df-convert:hover {\n",
              "      background-color: #E2EBFA;\n",
              "      box-shadow: 0px 1px 2px rgba(60, 64, 67, 0.3), 0px 1px 3px 1px rgba(60, 64, 67, 0.15);\n",
              "      fill: #174EA6;\n",
              "    }\n",
              "\n",
              "    .colab-df-buttons div {\n",
              "      margin-bottom: 4px;\n",
              "    }\n",
              "\n",
              "    [theme=dark] .colab-df-convert {\n",
              "      background-color: #3B4455;\n",
              "      fill: #D2E3FC;\n",
              "    }\n",
              "\n",
              "    [theme=dark] .colab-df-convert:hover {\n",
              "      background-color: #434B5C;\n",
              "      box-shadow: 0px 1px 3px 1px rgba(0, 0, 0, 0.15);\n",
              "      filter: drop-shadow(0px 1px 2px rgba(0, 0, 0, 0.3));\n",
              "      fill: #FFFFFF;\n",
              "    }\n",
              "  </style>\n",
              "\n",
              "    <script>\n",
              "      const buttonEl =\n",
              "        document.querySelector('#df-79423318-6e3c-4855-9d16-93b4021f3554 button.colab-df-convert');\n",
              "      buttonEl.style.display =\n",
              "        google.colab.kernel.accessAllowed ? 'block' : 'none';\n",
              "\n",
              "      async function convertToInteractive(key) {\n",
              "        const element = document.querySelector('#df-79423318-6e3c-4855-9d16-93b4021f3554');\n",
              "        const dataTable =\n",
              "          await google.colab.kernel.invokeFunction('convertToInteractive',\n",
              "                                                    [key], {});\n",
              "        if (!dataTable) return;\n",
              "\n",
              "        const docLinkHtml = 'Like what you see? Visit the ' +\n",
              "          '<a target=\"_blank\" href=https://colab.research.google.com/notebooks/data_table.ipynb>data table notebook</a>'\n",
              "          + ' to learn more about interactive tables.';\n",
              "        element.innerHTML = '';\n",
              "        dataTable['output_type'] = 'display_data';\n",
              "        await google.colab.output.renderOutput(dataTable, element);\n",
              "        const docLink = document.createElement('div');\n",
              "        docLink.innerHTML = docLinkHtml;\n",
              "        element.appendChild(docLink);\n",
              "      }\n",
              "    </script>\n",
              "  </div>\n",
              "\n",
              "\n",
              "<div id=\"df-30a770d4-865d-4efe-b570-ec3c8b9c003d\">\n",
              "  <button class=\"colab-df-quickchart\" onclick=\"quickchart('df-30a770d4-865d-4efe-b570-ec3c8b9c003d')\"\n",
              "            title=\"Suggest charts\"\n",
              "            style=\"display:none;\">\n",
              "\n",
              "<svg xmlns=\"http://www.w3.org/2000/svg\" height=\"24px\"viewBox=\"0 0 24 24\"\n",
              "     width=\"24px\">\n",
              "    <g>\n",
              "        <path d=\"M19 3H5c-1.1 0-2 .9-2 2v14c0 1.1.9 2 2 2h14c1.1 0 2-.9 2-2V5c0-1.1-.9-2-2-2zM9 17H7v-7h2v7zm4 0h-2V7h2v10zm4 0h-2v-4h2v4z\"/>\n",
              "    </g>\n",
              "</svg>\n",
              "  </button>\n",
              "\n",
              "<style>\n",
              "  .colab-df-quickchart {\n",
              "      --bg-color: #E8F0FE;\n",
              "      --fill-color: #1967D2;\n",
              "      --hover-bg-color: #E2EBFA;\n",
              "      --hover-fill-color: #174EA6;\n",
              "      --disabled-fill-color: #AAA;\n",
              "      --disabled-bg-color: #DDD;\n",
              "  }\n",
              "\n",
              "  [theme=dark] .colab-df-quickchart {\n",
              "      --bg-color: #3B4455;\n",
              "      --fill-color: #D2E3FC;\n",
              "      --hover-bg-color: #434B5C;\n",
              "      --hover-fill-color: #FFFFFF;\n",
              "      --disabled-bg-color: #3B4455;\n",
              "      --disabled-fill-color: #666;\n",
              "  }\n",
              "\n",
              "  .colab-df-quickchart {\n",
              "    background-color: var(--bg-color);\n",
              "    border: none;\n",
              "    border-radius: 50%;\n",
              "    cursor: pointer;\n",
              "    display: none;\n",
              "    fill: var(--fill-color);\n",
              "    height: 32px;\n",
              "    padding: 0;\n",
              "    width: 32px;\n",
              "  }\n",
              "\n",
              "  .colab-df-quickchart:hover {\n",
              "    background-color: var(--hover-bg-color);\n",
              "    box-shadow: 0 1px 2px rgba(60, 64, 67, 0.3), 0 1px 3px 1px rgba(60, 64, 67, 0.15);\n",
              "    fill: var(--button-hover-fill-color);\n",
              "  }\n",
              "\n",
              "  .colab-df-quickchart-complete:disabled,\n",
              "  .colab-df-quickchart-complete:disabled:hover {\n",
              "    background-color: var(--disabled-bg-color);\n",
              "    fill: var(--disabled-fill-color);\n",
              "    box-shadow: none;\n",
              "  }\n",
              "\n",
              "  .colab-df-spinner {\n",
              "    border: 2px solid var(--fill-color);\n",
              "    border-color: transparent;\n",
              "    border-bottom-color: var(--fill-color);\n",
              "    animation:\n",
              "      spin 1s steps(1) infinite;\n",
              "  }\n",
              "\n",
              "  @keyframes spin {\n",
              "    0% {\n",
              "      border-color: transparent;\n",
              "      border-bottom-color: var(--fill-color);\n",
              "      border-left-color: var(--fill-color);\n",
              "    }\n",
              "    20% {\n",
              "      border-color: transparent;\n",
              "      border-left-color: var(--fill-color);\n",
              "      border-top-color: var(--fill-color);\n",
              "    }\n",
              "    30% {\n",
              "      border-color: transparent;\n",
              "      border-left-color: var(--fill-color);\n",
              "      border-top-color: var(--fill-color);\n",
              "      border-right-color: var(--fill-color);\n",
              "    }\n",
              "    40% {\n",
              "      border-color: transparent;\n",
              "      border-right-color: var(--fill-color);\n",
              "      border-top-color: var(--fill-color);\n",
              "    }\n",
              "    60% {\n",
              "      border-color: transparent;\n",
              "      border-right-color: var(--fill-color);\n",
              "    }\n",
              "    80% {\n",
              "      border-color: transparent;\n",
              "      border-right-color: var(--fill-color);\n",
              "      border-bottom-color: var(--fill-color);\n",
              "    }\n",
              "    90% {\n",
              "      border-color: transparent;\n",
              "      border-bottom-color: var(--fill-color);\n",
              "    }\n",
              "  }\n",
              "</style>\n",
              "\n",
              "  <script>\n",
              "    async function quickchart(key) {\n",
              "      const quickchartButtonEl =\n",
              "        document.querySelector('#' + key + ' button');\n",
              "      quickchartButtonEl.disabled = true;  // To prevent multiple clicks.\n",
              "      quickchartButtonEl.classList.add('colab-df-spinner');\n",
              "      try {\n",
              "        const charts = await google.colab.kernel.invokeFunction(\n",
              "            'suggestCharts', [key], {});\n",
              "      } catch (error) {\n",
              "        console.error('Error during call to suggestCharts:', error);\n",
              "      }\n",
              "      quickchartButtonEl.classList.remove('colab-df-spinner');\n",
              "      quickchartButtonEl.classList.add('colab-df-quickchart-complete');\n",
              "    }\n",
              "    (() => {\n",
              "      let quickchartButtonEl =\n",
              "        document.querySelector('#df-30a770d4-865d-4efe-b570-ec3c8b9c003d button');\n",
              "      quickchartButtonEl.style.display =\n",
              "        google.colab.kernel.accessAllowed ? 'block' : 'none';\n",
              "    })();\n",
              "  </script>\n",
              "</div>\n",
              "\n",
              "  <div id=\"id_c605f7d1-1add-496b-98cc-e889222efc30\">\n",
              "    <style>\n",
              "      .colab-df-generate {\n",
              "        background-color: #E8F0FE;\n",
              "        border: none;\n",
              "        border-radius: 50%;\n",
              "        cursor: pointer;\n",
              "        display: none;\n",
              "        fill: #1967D2;\n",
              "        height: 32px;\n",
              "        padding: 0 0 0 0;\n",
              "        width: 32px;\n",
              "      }\n",
              "\n",
              "      .colab-df-generate:hover {\n",
              "        background-color: #E2EBFA;\n",
              "        box-shadow: 0px 1px 2px rgba(60, 64, 67, 0.3), 0px 1px 3px 1px rgba(60, 64, 67, 0.15);\n",
              "        fill: #174EA6;\n",
              "      }\n",
              "\n",
              "      [theme=dark] .colab-df-generate {\n",
              "        background-color: #3B4455;\n",
              "        fill: #D2E3FC;\n",
              "      }\n",
              "\n",
              "      [theme=dark] .colab-df-generate:hover {\n",
              "        background-color: #434B5C;\n",
              "        box-shadow: 0px 1px 3px 1px rgba(0, 0, 0, 0.15);\n",
              "        filter: drop-shadow(0px 1px 2px rgba(0, 0, 0, 0.3));\n",
              "        fill: #FFFFFF;\n",
              "      }\n",
              "    </style>\n",
              "    <button class=\"colab-df-generate\" onclick=\"generateWithVariable('count_car_model')\"\n",
              "            title=\"Generate code using this dataframe.\"\n",
              "            style=\"display:none;\">\n",
              "\n",
              "  <svg xmlns=\"http://www.w3.org/2000/svg\" height=\"24px\"viewBox=\"0 0 24 24\"\n",
              "       width=\"24px\">\n",
              "    <path d=\"M7,19H8.4L18.45,9,17,7.55,7,17.6ZM5,21V16.75L18.45,3.32a2,2,0,0,1,2.83,0l1.4,1.43a1.91,1.91,0,0,1,.58,1.4,1.91,1.91,0,0,1-.58,1.4L9.25,21ZM18.45,9,17,7.55Zm-12,3A5.31,5.31,0,0,0,4.9,8.1,5.31,5.31,0,0,0,1,6.5,5.31,5.31,0,0,0,4.9,4.9,5.31,5.31,0,0,0,6.5,1,5.31,5.31,0,0,0,8.1,4.9,5.31,5.31,0,0,0,12,6.5,5.46,5.46,0,0,0,6.5,12Z\"/>\n",
              "  </svg>\n",
              "    </button>\n",
              "    <script>\n",
              "      (() => {\n",
              "      const buttonEl =\n",
              "        document.querySelector('#id_c605f7d1-1add-496b-98cc-e889222efc30 button.colab-df-generate');\n",
              "      buttonEl.style.display =\n",
              "        google.colab.kernel.accessAllowed ? 'block' : 'none';\n",
              "\n",
              "      buttonEl.onclick = () => {\n",
              "        google.colab.notebook.generateWithVariable('count_car_model');\n",
              "      }\n",
              "      })();\n",
              "    </script>\n",
              "  </div>\n",
              "\n",
              "    </div>\n",
              "  </div>\n"
            ],
            "application/vnd.google.colaboratory.intrinsic+json": {
              "type": "dataframe",
              "variable_name": "count_car_model",
              "summary": "{\n  \"name\": \"count_car_model\",\n  \"rows\": 10,\n  \"fields\": [\n    {\n      \"column\": \"car_model\",\n      \"properties\": {\n        \"dtype\": \"string\",\n        \"num_unique_values\": 10,\n        \"samples\": [\n          \"Van/Minivan\",\n          \"Convertible/Cabriolet\",\n          \"SUV\"\n        ],\n        \"semantic_type\": \"\",\n        \"description\": \"\"\n      }\n    },\n    {\n      \"column\": \"amount_of_used_cars\",\n      \"properties\": {\n        \"dtype\": \"number\",\n        \"std\": 2729,\n        \"min\": 5,\n        \"max\": 7461,\n        \"num_unique_values\": 10,\n        \"samples\": [\n          582,\n          62,\n          6420\n        ],\n        \"semantic_type\": \"\",\n        \"description\": \"\"\n      }\n    }\n  ]\n}"
            }
          },
          "metadata": {},
          "execution_count": 114
        }
      ]
    },
    {
      "cell_type": "markdown",
      "source": [
        "#### Coupe price info"
      ],
      "metadata": {
        "id": "uTtVJTPNH24u"
      }
    },
    {
      "cell_type": "code",
      "source": [
        "coupe_data = car_data_outlier[car_data_outlier['car_model'] == 'Coupe']\n",
        "coupe_data['price (AUD)'].describe()"
      ],
      "metadata": {
        "colab": {
          "base_uri": "https://localhost:8080/",
          "height": 335
        },
        "id": "IfOqauwiEaJO",
        "outputId": "ab0ce854-6661-48b9-ee67-f7b54c1cab6a"
      },
      "execution_count": null,
      "outputs": [
        {
          "output_type": "execute_result",
          "data": {
            "text/plain": [
              "count       149.000\n",
              "mean     127162.199\n",
              "std      169147.879\n",
              "min        9514.191\n",
              "25%       27449.454\n",
              "50%       80971.840\n",
              "75%      161943.680\n",
              "max     1457493.124\n",
              "Name: price (AUD), dtype: float64"
            ],
            "text/html": [
              "<div>\n",
              "<style scoped>\n",
              "    .dataframe tbody tr th:only-of-type {\n",
              "        vertical-align: middle;\n",
              "    }\n",
              "\n",
              "    .dataframe tbody tr th {\n",
              "        vertical-align: top;\n",
              "    }\n",
              "\n",
              "    .dataframe thead th {\n",
              "        text-align: right;\n",
              "    }\n",
              "</style>\n",
              "<table border=\"1\" class=\"dataframe\">\n",
              "  <thead>\n",
              "    <tr style=\"text-align: right;\">\n",
              "      <th></th>\n",
              "      <th>price (AUD)</th>\n",
              "    </tr>\n",
              "  </thead>\n",
              "  <tbody>\n",
              "    <tr>\n",
              "      <th>count</th>\n",
              "      <td>149.000</td>\n",
              "    </tr>\n",
              "    <tr>\n",
              "      <th>mean</th>\n",
              "      <td>127162.199</td>\n",
              "    </tr>\n",
              "    <tr>\n",
              "      <th>std</th>\n",
              "      <td>169147.879</td>\n",
              "    </tr>\n",
              "    <tr>\n",
              "      <th>min</th>\n",
              "      <td>9514.191</td>\n",
              "    </tr>\n",
              "    <tr>\n",
              "      <th>25%</th>\n",
              "      <td>27449.454</td>\n",
              "    </tr>\n",
              "    <tr>\n",
              "      <th>50%</th>\n",
              "      <td>80971.840</td>\n",
              "    </tr>\n",
              "    <tr>\n",
              "      <th>75%</th>\n",
              "      <td>161943.680</td>\n",
              "    </tr>\n",
              "    <tr>\n",
              "      <th>max</th>\n",
              "      <td>1457493.124</td>\n",
              "    </tr>\n",
              "  </tbody>\n",
              "</table>\n",
              "</div><br><label><b>dtype:</b> float64</label>"
            ]
          },
          "metadata": {},
          "execution_count": 115
        }
      ]
    },
    {
      "cell_type": "markdown",
      "source": [
        "#### Convertible price info"
      ],
      "metadata": {
        "id": "s0g2LrFqH6ys"
      }
    },
    {
      "cell_type": "code",
      "source": [
        "convertible_data = car_data_outlier[car_data_outlier['car_model'] == 'Convertible/Cabriolet']\n",
        "convertible_data['price (AUD)'].describe()"
      ],
      "metadata": {
        "colab": {
          "base_uri": "https://localhost:8080/",
          "height": 335
        },
        "id": "zAGiDZpVHVMd",
        "outputId": "0da3751a-ea2f-481c-ea84-a89da4588841"
      },
      "execution_count": null,
      "outputs": [
        {
          "output_type": "execute_result",
          "data": {
            "text/plain": [
              "count        68.000\n",
              "mean     129849.658\n",
              "std      170830.664\n",
              "min       17004.086\n",
              "25%       40485.920\n",
              "50%       80971.840\n",
              "75%      121457.760\n",
              "max     1133605.763\n",
              "Name: price (AUD), dtype: float64"
            ],
            "text/html": [
              "<div>\n",
              "<style scoped>\n",
              "    .dataframe tbody tr th:only-of-type {\n",
              "        vertical-align: middle;\n",
              "    }\n",
              "\n",
              "    .dataframe tbody tr th {\n",
              "        vertical-align: top;\n",
              "    }\n",
              "\n",
              "    .dataframe thead th {\n",
              "        text-align: right;\n",
              "    }\n",
              "</style>\n",
              "<table border=\"1\" class=\"dataframe\">\n",
              "  <thead>\n",
              "    <tr style=\"text-align: right;\">\n",
              "      <th></th>\n",
              "      <th>price (AUD)</th>\n",
              "    </tr>\n",
              "  </thead>\n",
              "  <tbody>\n",
              "    <tr>\n",
              "      <th>count</th>\n",
              "      <td>68.000</td>\n",
              "    </tr>\n",
              "    <tr>\n",
              "      <th>mean</th>\n",
              "      <td>129849.658</td>\n",
              "    </tr>\n",
              "    <tr>\n",
              "      <th>std</th>\n",
              "      <td>170830.664</td>\n",
              "    </tr>\n",
              "    <tr>\n",
              "      <th>min</th>\n",
              "      <td>17004.086</td>\n",
              "    </tr>\n",
              "    <tr>\n",
              "      <th>25%</th>\n",
              "      <td>40485.920</td>\n",
              "    </tr>\n",
              "    <tr>\n",
              "      <th>50%</th>\n",
              "      <td>80971.840</td>\n",
              "    </tr>\n",
              "    <tr>\n",
              "      <th>75%</th>\n",
              "      <td>121457.760</td>\n",
              "    </tr>\n",
              "    <tr>\n",
              "      <th>max</th>\n",
              "      <td>1133605.763</td>\n",
              "    </tr>\n",
              "  </tbody>\n",
              "</table>\n",
              "</div><br><label><b>dtype:</b> float64</label>"
            ]
          },
          "metadata": {},
          "execution_count": 116
        }
      ]
    },
    {
      "cell_type": "markdown",
      "source": [
        "- We have separated new cars and used cars as per the previous task.\n",
        "- We decided to retain the data before removing outliers to avoid losing too much information, particularly for coupes and convertibles, since most exotic cars typically have these body types. Additionally, most of the prices of the exotic cars fall outside the outlier range.\n",
        "- According to the data, convertible and coupe cars rank among the most expensive types of vehicles.\n",
        "- Both types exhibit high median prices, although their distributions differ: coupes are left-skewed, while convertibles are right-skewed.\n",
        "- Wagons appear to depreciate the most; however, the overall number of wagons in the dataset is too low to draw definitive conclusions.\n",
        "- SUVs, 4x4s, crossovers, and sedans tend to retain their value well, as the average price of used cars in these categories is not significantly different from that of new ones.\n",
        "- In contrast, hatchbacks and trucks show a significant amount of depreciation."
      ],
      "metadata": {
        "id": "Lmf1v4SGzAZA"
      }
    },
    {
      "cell_type": "markdown",
      "source": [
        "## IV. Display the distribution of 'engine_capacity'."
      ],
      "metadata": {
        "id": "UG0_r7F4iLcu"
      }
    },
    {
      "cell_type": "code",
      "source": [
        "petrol_car = car_data[car_data['type_of_engine'] == 'petrol']\n",
        "diesel_car = car_data[car_data['type_of_engine'] == 'diesel']\n",
        "hybrid_car = car_data[car_data['type_of_engine'] == 'hybrid']"
      ],
      "metadata": {
        "id": "Mynu4bK4mJh9"
      },
      "execution_count": null,
      "outputs": []
    },
    {
      "cell_type": "code",
      "source": [
        "figure, axis = plt.subplots(1, 3, figsize=(19, 9))\n",
        "axis[0].hist(petrol_car['engine_capacity'], bins=10, color='skyblue', edgecolor='black')\n",
        "axis[0].set_title('Petrol engine distributution')\n",
        "axis[0].set_xlabel('Engine Displacement')\n",
        "axis[0].set_ylabel('Amount')\n",
        "axis[0].bar_label(axis[0].containers[0])\n",
        "axis[1].hist(diesel_car['engine_capacity'], bins=10, color='skyblue', edgecolor='black')\n",
        "axis[1].set_title('Diesel engine distributution')\n",
        "axis[1].set_xlabel('Engine Displacement')\n",
        "axis[1].set_ylabel('Amount')\n",
        "axis[1].bar_label(axis[1].containers[0])\n",
        "axis[2].hist(hybrid_car['engine_capacity'], bins=10, color='skyblue', edgecolor='black')\n",
        "axis[2].set_title('Hybrid engine distributution')\n",
        "axis[2].set_xlabel('Engine Displacement')\n",
        "axis[2].set_ylabel('Amount')\n",
        "axis[2].bar_label(axis[2].containers[0])"
      ],
      "metadata": {
        "colab": {
          "base_uri": "https://localhost:8080/",
          "height": 747
        },
        "id": "ib84ghbzZZYF",
        "outputId": "a761c617-ac8a-45fb-827f-d581dbd9f18b"
      },
      "execution_count": null,
      "outputs": [
        {
          "output_type": "execute_result",
          "data": {
            "text/plain": [
              "[Text(0, 0, '19'),\n",
              " Text(0, 0, '3'),\n",
              " Text(0, 0, '2'),\n",
              " Text(0, 0, '0'),\n",
              " Text(0, 0, '0'),\n",
              " Text(0, 0, '31'),\n",
              " Text(0, 0, '0'),\n",
              " Text(0, 0, '0'),\n",
              " Text(0, 0, '0'),\n",
              " Text(0, 0, '7')]"
            ]
          },
          "metadata": {},
          "execution_count": 118
        },
        {
          "output_type": "display_data",
          "data": {
            "text/plain": [
              "<Figure size 1900x900 with 3 Axes>"
            ],
            "image/png": "[encoded data removed]"
          },
          "metadata": {}
        }
      ]
    },
    {
      "cell_type": "markdown",
      "source": [
        "- We have separated the data by petrol, diesel, and hybrid engines, as each engine type has its own advantages and disadvantages, leading to different primary applications.\n",
        "- The majority of petrol engines fall within the displacement range of 1.4 to 2.5 liters.\n",
        "- Only petrol engines have displacements exceeding 3.5 liters.\n",
        "- The majority of diesel engines have displacements ranging from 2.0 to 2.5 liters.\n",
        "- Most hybrid engines are found in the displacement range of 2.5 to 2.7 liters.\n",
        "- Hybrid engines represent the least common type among the vehicles in the dataset."
      ],
      "metadata": {
        "id": "jeRQsDkYUIpk"
      }
    },
    {
      "cell_type": "markdown",
      "source": [
        "## V. Visualize the distribution of the cars’ exterior colors as the percentage of a whole."
      ],
      "metadata": {
        "id": "5xnfWwiA_LnA"
      }
    },
    {
      "cell_type": "markdown",
      "source": [
        "#### Show amount of colour"
      ],
      "metadata": {
        "id": "Ka3OGXQNo3JQ"
      }
    },
    {
      "cell_type": "code",
      "source": [
        "count_exterior_color = car_data[['exterior_color', 'price (AUD)']].groupby(['exterior_color'], as_index=False).count()\n",
        "count_exterior_color.rename(columns={'price (AUD)': 'amount_of_exterior_color'}, inplace=True)\n",
        "count_exterior_color.sort_values(by='amount_of_exterior_color', ascending=False)"
      ],
      "metadata": {
        "colab": {
          "base_uri": "https://localhost:8080/",
          "height": 488
        },
        "id": "aMjo9Gg3pJw3",
        "outputId": "5cf3175c-95c7-454e-c04b-b1f01ba369fb"
      },
      "execution_count": null,
      "outputs": [
        {
          "output_type": "execute_result",
          "data": {
            "text/plain": [
              "   exterior_color  amount_of_exterior_color\n",
              "12          white                      6754\n",
              "0           black                      4056\n",
              "8             red                      2914\n",
              "10         silver                      1977\n",
              "4           green                      1500\n",
              "5            grey                       673\n",
              "1           brown                       609\n",
              "9            sand                       522\n",
              "13         yellow                       440\n",
              "6          orange                       262\n",
              "2          copper                       153\n",
              "3           cream                        37\n",
              "7            pink                        35\n",
              "11         violet                         8"
            ],
            "text/html": [
              "\n",
              "  <div id=\"df-cfd5d000-9b08-4744-b659-c536db2206fb\" class=\"colab-df-container\">\n",
              "    <div>\n",
              "<style scoped>\n",
              "    .dataframe tbody tr th:only-of-type {\n",
              "        vertical-align: middle;\n",
              "    }\n",
              "\n",
              "    .dataframe tbody tr th {\n",
              "        vertical-align: top;\n",
              "    }\n",
              "\n",
              "    .dataframe thead th {\n",
              "        text-align: right;\n",
              "    }\n",
              "</style>\n",
              "<table border=\"1\" class=\"dataframe\">\n",
              "  <thead>\n",
              "    <tr style=\"text-align: right;\">\n",
              "      <th></th>\n",
              "      <th>exterior_color</th>\n",
              "      <th>amount_of_exterior_color</th>\n",
              "    </tr>\n",
              "  </thead>\n",
              "  <tbody>\n",
              "    <tr>\n",
              "      <th>12</th>\n",
              "      <td>white</td>\n",
              "      <td>6754</td>\n",
              "    </tr>\n",
              "    <tr>\n",
              "      <th>0</th>\n",
              "      <td>black</td>\n",
              "      <td>4056</td>\n",
              "    </tr>\n",
              "    <tr>\n",
              "      <th>8</th>\n",
              "      <td>red</td>\n",
              "      <td>2914</td>\n",
              "    </tr>\n",
              "    <tr>\n",
              "      <th>10</th>\n",
              "      <td>silver</td>\n",
              "      <td>1977</td>\n",
              "    </tr>\n",
              "    <tr>\n",
              "      <th>4</th>\n",
              "      <td>green</td>\n",
              "      <td>1500</td>\n",
              "    </tr>\n",
              "    <tr>\n",
              "      <th>5</th>\n",
              "      <td>grey</td>\n",
              "      <td>673</td>\n",
              "    </tr>\n",
              "    <tr>\n",
              "      <th>1</th>\n",
              "      <td>brown</td>\n",
              "      <td>609</td>\n",
              "    </tr>\n",
              "    <tr>\n",
              "      <th>9</th>\n",
              "      <td>sand</td>\n",
              "      <td>522</td>\n",
              "    </tr>\n",
              "    <tr>\n",
              "      <th>13</th>\n",
              "      <td>yellow</td>\n",
              "      <td>440</td>\n",
              "    </tr>\n",
              "    <tr>\n",
              "      <th>6</th>\n",
              "      <td>orange</td>\n",
              "      <td>262</td>\n",
              "    </tr>\n",
              "    <tr>\n",
              "      <th>2</th>\n",
              "      <td>copper</td>\n",
              "      <td>153</td>\n",
              "    </tr>\n",
              "    <tr>\n",
              "      <th>3</th>\n",
              "      <td>cream</td>\n",
              "      <td>37</td>\n",
              "    </tr>\n",
              "    <tr>\n",
              "      <th>7</th>\n",
              "      <td>pink</td>\n",
              "      <td>35</td>\n",
              "    </tr>\n",
              "    <tr>\n",
              "      <th>11</th>\n",
              "      <td>violet</td>\n",
              "      <td>8</td>\n",
              "    </tr>\n",
              "  </tbody>\n",
              "</table>\n",
              "</div>\n",
              "    <div class=\"colab-df-buttons\">\n",
              "\n",
              "  <div class=\"colab-df-container\">\n",
              "    <button class=\"colab-df-convert\" onclick=\"convertToInteractive('df-cfd5d000-9b08-4744-b659-c536db2206fb')\"\n",
              "            title=\"Convert this dataframe to an interactive table.\"\n",
              "            style=\"display:none;\">\n",
              "\n",
              "  <svg xmlns=\"http://www.w3.org/2000/svg\" height=\"24px\" viewBox=\"0 -960 960 960\">\n",
              "    <path d=\"M120-120v-720h720v720H120Zm60-500h600v-160H180v160Zm220 220h160v-160H400v160Zm0 220h160v-160H400v160ZM180-400h160v-160H180v160Zm440 0h160v-160H620v160ZM180-180h160v-160H180v160Zm440 0h160v-160H620v160Z\"/>\n",
              "  </svg>\n",
              "    </button>\n",
              "\n",
              "  <style>\n",
              "    .colab-df-container {\n",
              "      display:flex;\n",
              "      gap: 12px;\n",
              "    }\n",
              "\n",
              "    .colab-df-convert {\n",
              "      background-color: #E8F0FE;\n",
              "      border: none;\n",
              "      border-radius: 50%;\n",
              "      cursor: pointer;\n",
              "      display: none;\n",
              "      fill: #1967D2;\n",
              "      height: 32px;\n",
              "      padding: 0 0 0 0;\n",
              "      width: 32px;\n",
              "    }\n",
              "\n",
              "    .colab-df-convert:hover {\n",
              "      background-color: #E2EBFA;\n",
              "      box-shadow: 0px 1px 2px rgba(60, 64, 67, 0.3), 0px 1px 3px 1px rgba(60, 64, 67, 0.15);\n",
              "      fill: #174EA6;\n",
              "    }\n",
              "\n",
              "    .colab-df-buttons div {\n",
              "      margin-bottom: 4px;\n",
              "    }\n",
              "\n",
              "    [theme=dark] .colab-df-convert {\n",
              "      background-color: #3B4455;\n",
              "      fill: #D2E3FC;\n",
              "    }\n",
              "\n",
              "    [theme=dark] .colab-df-convert:hover {\n",
              "      background-color: #434B5C;\n",
              "      box-shadow: 0px 1px 3px 1px rgba(0, 0, 0, 0.15);\n",
              "      filter: drop-shadow(0px 1px 2px rgba(0, 0, 0, 0.3));\n",
              "      fill: #FFFFFF;\n",
              "    }\n",
              "  </style>\n",
              "\n",
              "    <script>\n",
              "      const buttonEl =\n",
              "        document.querySelector('#df-cfd5d000-9b08-4744-b659-c536db2206fb button.colab-df-convert');\n",
              "      buttonEl.style.display =\n",
              "        google.colab.kernel.accessAllowed ? 'block' : 'none';\n",
              "\n",
              "      async function convertToInteractive(key) {\n",
              "        const element = document.querySelector('#df-cfd5d000-9b08-4744-b659-c536db2206fb');\n",
              "        const dataTable =\n",
              "          await google.colab.kernel.invokeFunction('convertToInteractive',\n",
              "                                                    [key], {});\n",
              "        if (!dataTable) return;\n",
              "\n",
              "        const docLinkHtml = 'Like what you see? Visit the ' +\n",
              "          '<a target=\"_blank\" href=https://colab.research.google.com/notebooks/data_table.ipynb>data table notebook</a>'\n",
              "          + ' to learn more about interactive tables.';\n",
              "        element.innerHTML = '';\n",
              "        dataTable['output_type'] = 'display_data';\n",
              "        await google.colab.output.renderOutput(dataTable, element);\n",
              "        const docLink = document.createElement('div');\n",
              "        docLink.innerHTML = docLinkHtml;\n",
              "        element.appendChild(docLink);\n",
              "      }\n",
              "    </script>\n",
              "  </div>\n",
              "\n",
              "\n",
              "<div id=\"df-a8dc0d6f-5292-4b6a-afd7-a50094d3401c\">\n",
              "  <button class=\"colab-df-quickchart\" onclick=\"quickchart('df-a8dc0d6f-5292-4b6a-afd7-a50094d3401c')\"\n",
              "            title=\"Suggest charts\"\n",
              "            style=\"display:none;\">\n",
              "\n",
              "<svg xmlns=\"http://www.w3.org/2000/svg\" height=\"24px\"viewBox=\"0 0 24 24\"\n",
              "     width=\"24px\">\n",
              "    <g>\n",
              "        <path d=\"M19 3H5c-1.1 0-2 .9-2 2v14c0 1.1.9 2 2 2h14c1.1 0 2-.9 2-2V5c0-1.1-.9-2-2-2zM9 17H7v-7h2v7zm4 0h-2V7h2v10zm4 0h-2v-4h2v4z\"/>\n",
              "    </g>\n",
              "</svg>\n",
              "  </button>\n",
              "\n",
              "<style>\n",
              "  .colab-df-quickchart {\n",
              "      --bg-color: #E8F0FE;\n",
              "      --fill-color: #1967D2;\n",
              "      --hover-bg-color: #E2EBFA;\n",
              "      --hover-fill-color: #174EA6;\n",
              "      --disabled-fill-color: #AAA;\n",
              "      --disabled-bg-color: #DDD;\n",
              "  }\n",
              "\n",
              "  [theme=dark] .colab-df-quickchart {\n",
              "      --bg-color: #3B4455;\n",
              "      --fill-color: #D2E3FC;\n",
              "      --hover-bg-color: #434B5C;\n",
              "      --hover-fill-color: #FFFFFF;\n",
              "      --disabled-bg-color: #3B4455;\n",
              "      --disabled-fill-color: #666;\n",
              "  }\n",
              "\n",
              "  .colab-df-quickchart {\n",
              "    background-color: var(--bg-color);\n",
              "    border: none;\n",
              "    border-radius: 50%;\n",
              "    cursor: pointer;\n",
              "    display: none;\n",
              "    fill: var(--fill-color);\n",
              "    height: 32px;\n",
              "    padding: 0;\n",
              "    width: 32px;\n",
              "  }\n",
              "\n",
              "  .colab-df-quickchart:hover {\n",
              "    background-color: var(--hover-bg-color);\n",
              "    box-shadow: 0 1px 2px rgba(60, 64, 67, 0.3), 0 1px 3px 1px rgba(60, 64, 67, 0.15);\n",
              "    fill: var(--button-hover-fill-color);\n",
              "  }\n",
              "\n",
              "  .colab-df-quickchart-complete:disabled,\n",
              "  .colab-df-quickchart-complete:disabled:hover {\n",
              "    background-color: var(--disabled-bg-color);\n",
              "    fill: var(--disabled-fill-color);\n",
              "    box-shadow: none;\n",
              "  }\n",
              "\n",
              "  .colab-df-spinner {\n",
              "    border: 2px solid var(--fill-color);\n",
              "    border-color: transparent;\n",
              "    border-bottom-color: var(--fill-color);\n",
              "    animation:\n",
              "      spin 1s steps(1) infinite;\n",
              "  }\n",
              "\n",
              "  @keyframes spin {\n",
              "    0% {\n",
              "      border-color: transparent;\n",
              "      border-bottom-color: var(--fill-color);\n",
              "      border-left-color: var(--fill-color);\n",
              "    }\n",
              "    20% {\n",
              "      border-color: transparent;\n",
              "      border-left-color: var(--fill-color);\n",
              "      border-top-color: var(--fill-color);\n",
              "    }\n",
              "    30% {\n",
              "      border-color: transparent;\n",
              "      border-left-color: var(--fill-color);\n",
              "      border-top-color: var(--fill-color);\n",
              "      border-right-color: var(--fill-color);\n",
              "    }\n",
              "    40% {\n",
              "      border-color: transparent;\n",
              "      border-right-color: var(--fill-color);\n",
              "      border-top-color: var(--fill-color);\n",
              "    }\n",
              "    60% {\n",
              "      border-color: transparent;\n",
              "      border-right-color: var(--fill-color);\n",
              "    }\n",
              "    80% {\n",
              "      border-color: transparent;\n",
              "      border-right-color: var(--fill-color);\n",
              "      border-bottom-color: var(--fill-color);\n",
              "    }\n",
              "    90% {\n",
              "      border-color: transparent;\n",
              "      border-bottom-color: var(--fill-color);\n",
              "    }\n",
              "  }\n",
              "</style>\n",
              "\n",
              "  <script>\n",
              "    async function quickchart(key) {\n",
              "      const quickchartButtonEl =\n",
              "        document.querySelector('#' + key + ' button');\n",
              "      quickchartButtonEl.disabled = true;  // To prevent multiple clicks.\n",
              "      quickchartButtonEl.classList.add('colab-df-spinner');\n",
              "      try {\n",
              "        const charts = await google.colab.kernel.invokeFunction(\n",
              "            'suggestCharts', [key], {});\n",
              "      } catch (error) {\n",
              "        console.error('Error during call to suggestCharts:', error);\n",
              "      }\n",
              "      quickchartButtonEl.classList.remove('colab-df-spinner');\n",
              "      quickchartButtonEl.classList.add('colab-df-quickchart-complete');\n",
              "    }\n",
              "    (() => {\n",
              "      let quickchartButtonEl =\n",
              "        document.querySelector('#df-a8dc0d6f-5292-4b6a-afd7-a50094d3401c button');\n",
              "      quickchartButtonEl.style.display =\n",
              "        google.colab.kernel.accessAllowed ? 'block' : 'none';\n",
              "    })();\n",
              "  </script>\n",
              "</div>\n",
              "\n",
              "    </div>\n",
              "  </div>\n"
            ],
            "application/vnd.google.colaboratory.intrinsic+json": {
              "type": "dataframe",
              "summary": "{\n  \"name\": \"count_exterior_color\",\n  \"rows\": 14,\n  \"fields\": [\n    {\n      \"column\": \"exterior_color\",\n      \"properties\": {\n        \"dtype\": \"string\",\n        \"num_unique_values\": 14,\n        \"samples\": [\n          \"orange\",\n          \"cream\",\n          \"white\"\n        ],\n        \"semantic_type\": \"\",\n        \"description\": \"\"\n      }\n    },\n    {\n      \"column\": \"amount_of_exterior_color\",\n      \"properties\": {\n        \"dtype\": \"number\",\n        \"std\": 1955,\n        \"min\": 8,\n        \"max\": 6754,\n        \"num_unique_values\": 14,\n        \"samples\": [\n          262,\n          37,\n          6754\n        ],\n        \"semantic_type\": \"\",\n        \"description\": \"\"\n      }\n    }\n  ]\n}"
            }
          },
          "metadata": {},
          "execution_count": 119
        }
      ]
    },
    {
      "cell_type": "markdown",
      "source": [
        "#### Group top 5 lowest into \"other\""
      ],
      "metadata": {
        "id": "afjCc154rnoX"
      }
    },
    {
      "cell_type": "code",
      "source": [
        "replacing_color = ['orange', 'copper', 'cream', 'pink', 'violet']\n",
        "for i in replacing_color:\n",
        "  car_data['exterior_color'] = car_data['exterior_color'].str.replace(i, 'others')"
      ],
      "metadata": {
        "id": "-wq44WoKryWV"
      },
      "execution_count": null,
      "outputs": []
    },
    {
      "cell_type": "markdown",
      "source": [
        "#### Visualize exterior color distribution"
      ],
      "metadata": {
        "id": "fyXwNi1Ot86y"
      }
    },
    {
      "cell_type": "code",
      "source": [
        "plt.figure(figsize=(21, 9))\n",
        "colors_list = ['#FF5733', '#33FF57', '#3357FF', '#F1C40F', '#8E44AD', '#E67E22', '#2ECC71', '#3498DB', '#E74C3C', '#1ABC9C', '#9B59B6', '#34495E', '#F39C12', '#D35400']\n",
        "plt.pie(car_data['exterior_color'].value_counts(), colors=colors_list, labels=car_data['exterior_color'].value_counts().index, autopct='%1.1f%%')\n",
        "plt.legend(fontsize='x-small')\n",
        "plt.title('Exterior Color Distribution')\n",
        "plt.show()"
      ],
      "metadata": {
        "id": "57PGgQ2wO4a0",
        "colab": {
          "base_uri": "https://localhost:8080/",
          "height": 752
        },
        "outputId": "cbf5bac6-6853-4860-8886-776edaa340ac"
      },
      "execution_count": null,
      "outputs": [
        {
          "output_type": "display_data",
          "data": {
            "text/plain": [
              "<Figure size 2100x900 with 1 Axes>"
            ],
            "image/png": "[encoded data removed]"
          },
          "metadata": {}
        }
      ]
    },
    {
      "cell_type": "markdown",
      "source": [
        "- White is the most popular exterior color, followed by black and red.\n",
        "- The combined percentage of the top five least popular colors is less than that of green, which ranks as the fifth most popular color.\n",
        "- We decide to group the top 5 lowest amount of color as \"other\" to prevent label from getting in the way of each other. (The color we replace is orange, copper, cream, pink, violet)"
      ],
      "metadata": {
        "id": "kA9uPkyAK5QG"
      }
    },
    {
      "cell_type": "markdown",
      "source": [
        "## VI. Visualise/Identify correlations between these features: 'mileage', 'num_of_doors', 'seating_capacity', 'fuel_consumption', and 'price'."
      ],
      "metadata": {
        "id": "4FFHUnJ5VID-"
      }
    },
    {
      "cell_type": "markdown",
      "source": [
        "#### To analyse these correlation we will create a correlation matrix. The advantage of a correlation matrix is that it can visualise and quantify numerous pairs of variables within a single plot."
      ],
      "metadata": {
        "id": "L2Kyzo_mf61L"
      }
    },
    {
      "cell_type": "code",
      "source": [
        "corr_matrix = car_data[['mileage', 'num_of_doors', 'seating_capacity', 'fuel_consumption', 'price (AUD)']].corr()"
      ],
      "metadata": {
        "id": "Z1_xepNrU27O"
      },
      "execution_count": null,
      "outputs": []
    },
    {
      "cell_type": "markdown",
      "source": [
        "#### Set the size of the figure."
      ],
      "metadata": {
        "id": "jrbf6c-igkUr"
      }
    },
    {
      "cell_type": "code",
      "source": [
        "plt.figure(figsize=(15, 12))"
      ],
      "metadata": {
        "colab": {
          "base_uri": "https://localhost:8080/",
          "height": 52
        },
        "id": "qGqMu6J0gZK1",
        "outputId": "df3fb0af-7596-4346-d466-f0c3ef059d60"
      },
      "execution_count": null,
      "outputs": [
        {
          "output_type": "execute_result",
          "data": {
            "text/plain": [
              "<Figure size 1500x1200 with 0 Axes>"
            ]
          },
          "metadata": {},
          "execution_count": 123
        },
        {
          "output_type": "display_data",
          "data": {
            "text/plain": [
              "<Figure size 1500x1200 with 0 Axes>"
            ]
          },
          "metadata": {}
        }
      ]
    },
    {
      "cell_type": "markdown",
      "source": [
        "#### Create the correlation matrix to compare the variables of 'mileage', 'num_of_doors', 'seating_capacity', 'fuel_consumption', and 'price'."
      ],
      "metadata": {
        "id": "yyR1FV5MgolI"
      }
    },
    {
      "cell_type": "code",
      "source": [
        "sns.heatmap(corr_matrix, annot=True, cmap='coolwarm', fmt='.2f', square=True)\n",
        "plt.title('Visualised comparison between various car features')\n",
        "plt.show()"
      ],
      "metadata": {
        "colab": {
          "base_uri": "https://localhost:8080/",
          "height": 561
        },
        "id": "5UaH8ZKZgZXg",
        "outputId": "896aa4a0-f915-4f75-a724-27bb7392cbd6"
      },
      "execution_count": null,
      "outputs": [
        {
          "output_type": "display_data",
          "data": {
            "text/plain": [
              "<Figure size 640x480 with 2 Axes>"
            ],
            "image/png": "[encoded data removed]"
          },
          "metadata": {}
        }
      ]
    },
    {
      "cell_type": "markdown",
      "source": [
        "In this correlation matrix, each cell represent the correlation between two variables. Each variable is represented on both the x and y axis of the plot, hence the existance of cells with a value of 1, indicating identical correlation.\n",
        "The closer the value gets to 1, the stronger the correlation. Likewise, negative values indicate an inverse correlation, with the closer the value to -1, the stronger the inverse correlation.\n",
        "The strongest correlations between these variables are between seating capacity vs. number of doors, and price vs fuel consumption. Other notable correlations were price and number of doors and seating capacity. The only significant inverse correlation that was found was between the mileage and the price."
      ],
      "metadata": {
        "id": "M_YKmSMlkdjK"
      }
    },
    {
      "cell_type": "code",
      "source": [],
      "metadata": {
        "id": "8kfwb-Fvg35P"
      },
      "execution_count": null,
      "outputs": []
    }
  ],
  "metadata": {
    "colab": {
      "provenance": []
    },
    "kernelspec": {
      "display_name": "Python 3",
      "language": "python",
      "name": "python3"
    },
    "language_info": {
      "codemirror_mode": {
        "name": "ipython",
        "version": 3
      },
      "file_extension": ".py",
      "mimetype": "text/x-python",
      "name": "python",
      "nbconvert_exporter": "python",
      "pygments_lexer": "ipython3",
      "version": "3.7.10"
    }
  },
  "nbformat": 4,
  "nbformat_minor": 0
}